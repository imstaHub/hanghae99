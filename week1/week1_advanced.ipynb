{
  "cells": [
    {
      "cell_type": "markdown",
      "metadata": {
        "id": "view-in-github",
        "colab_type": "text"
      },
      "source": [
        "<a href=\"https://colab.research.google.com/github/imstaHub/hanghae99/blob/master/week1_advanced.ipynb\" target=\"_parent\"><img src=\"https://colab.research.google.com/assets/colab-badge.svg\" alt=\"Open In Colab\"/></a>"
      ]
    },
    {
      "cell_type": "markdown",
      "id": "a9b7abd9-7f26-4e56-8269-51f95de691b5",
      "metadata": {
        "id": "a9b7abd9-7f26-4e56-8269-51f95de691b5"
      },
      "source": [
        "## Week1 Advanced Homework"
      ]
    },
    {
      "cell_type": "markdown",
      "id": "4fcb6f65-b0ad-4f33-a156-e00ccb09c7ec",
      "metadata": {
        "id": "4fcb6f65-b0ad-4f33-a156-e00ccb09c7ec"
      },
      "source": [
        "## [MY CODE] import packeges and function"
      ]
    },
    {
      "cell_type": "code",
      "execution_count": null,
      "id": "93a5a8ae-af4d-42f8-8a4f-64b9463bfd67",
      "metadata": {
        "id": "93a5a8ae-af4d-42f8-8a4f-64b9463bfd67"
      },
      "outputs": [],
      "source": [
        "import torch\n",
        "import torchvision\n",
        "import torchvision.transforms as transforms"
      ]
    },
    {
      "cell_type": "code",
      "execution_count": null,
      "id": "24cc7f11-5211-471e-82d6-ad010c1601fe",
      "metadata": {
        "id": "24cc7f11-5211-471e-82d6-ad010c1601fe"
      },
      "outputs": [],
      "source": [
        "def accuracy(model, dataloader, use_cuda=False):\n",
        "    cnt = 0\n",
        "    acc = 0\n",
        "\n",
        "    for data in dataloader:\n",
        "        inputs, labels = data\n",
        "        if(use_cuda):\n",
        "            inputs, labels = inputs.to('cuda'), labels.to('cuda')\n",
        "\n",
        "        preds = model(inputs)\n",
        "        preds = torch.argmax(preds, dim=-1)\n",
        "\n",
        "        cnt += labels.shape[0]\n",
        "        acc += (labels == preds).sum().item()\n",
        "\n",
        "    return acc / cnt\n",
        "\n",
        "\n",
        "import numpy as np\n",
        "\n",
        "def plot_acc(train_accs, test_accs, label1='train', label2='test'):\n",
        "    x = np.arange(len(train_accs))\n",
        "\n",
        "    plt.plot(x, train_accs, label=label1)\n",
        "    plt.plot(x, test_accs, label=label2)\n",
        "    plt.legend()\n",
        "    plt.show()\n"
      ]
    },
    {
      "cell_type": "markdown",
      "id": "60a822b3-e311-4c71-b5b4-98176bd22a04",
      "metadata": {
        "id": "60a822b3-e311-4c71-b5b4-98176bd22a04"
      },
      "source": [
        "## [MY CODE] CIFAR10 데이터 로드"
      ]
    },
    {
      "cell_type": "code",
      "execution_count": null,
      "id": "75969836-8138-43f5-80fe-8178ae84debd",
      "metadata": {
        "colab": {
          "base_uri": "https://localhost:8080/"
        },
        "id": "75969836-8138-43f5-80fe-8178ae84debd",
        "outputId": "33557054-b90f-4cb6-cc5c-444312be53aa"
      },
      "outputs": [
        {
          "output_type": "stream",
          "name": "stdout",
          "text": [
            "Downloading https://www.cs.toronto.edu/~kriz/cifar-10-python.tar.gz to ./data/cifar-10-python.tar.gz\n"
          ]
        },
        {
          "output_type": "stream",
          "name": "stderr",
          "text": [
            "100%|██████████| 170M/170M [00:05<00:00, 30.6MB/s]\n"
          ]
        },
        {
          "output_type": "stream",
          "name": "stdout",
          "text": [
            "Extracting ./data/cifar-10-python.tar.gz to ./data\n"
          ]
        }
      ],
      "source": [
        "transform = transforms.ToTensor()\n",
        "\n",
        "trainset = torchvision.datasets.CIFAR10(\n",
        "    root='./data',\n",
        "    train=True,\n",
        "    download=True,\n",
        "    transform=transform\n",
        ")\n",
        "\n",
        "testset = torchvision.datasets.CIFAR10(\n",
        "    root='./data',\n",
        "    train=False,\n",
        "    download=False,\n",
        "    transform=transform\n",
        ")"
      ]
    },
    {
      "cell_type": "code",
      "execution_count": null,
      "id": "aef94779-40e4-4088-abb5-0e3a1edeba8d",
      "metadata": {
        "colab": {
          "base_uri": "https://localhost:8080/"
        },
        "id": "aef94779-40e4-4088-abb5-0e3a1edeba8d",
        "outputId": "71119914-e877-46ac-ee1b-fecec58f51e2"
      },
      "outputs": [
        {
          "output_type": "stream",
          "name": "stdout",
          "text": [
            "class 수: 10\n",
            "['airplane', 'automobile', 'bird', 'cat', 'deer', 'dog', 'frog', 'horse', 'ship', 'truck']\n"
          ]
        }
      ],
      "source": [
        "print('class 수:', len(trainset.classes))\n",
        "print(trainset.classes)"
      ]
    },
    {
      "cell_type": "markdown",
      "id": "5f369037-c1c2-46d4-9ef6-961549c1175c",
      "metadata": {
        "id": "5f369037-c1c2-46d4-9ef6-961549c1175c"
      },
      "source": [
        "## [MY CODE] CIFAR10 shape 확인"
      ]
    },
    {
      "cell_type": "code",
      "execution_count": null,
      "id": "a5727667-f449-4520-b805-df6dafa7c652",
      "metadata": {
        "colab": {
          "base_uri": "https://localhost:8080/",
          "height": 484
        },
        "id": "a5727667-f449-4520-b805-df6dafa7c652",
        "outputId": "ac107eda-9116-4326-ab6c-3c6842ad3477"
      },
      "outputs": [
        {
          "output_type": "stream",
          "name": "stdout",
          "text": [
            "50000\n",
            "torch.Size([3, 32, 32]) 6\n"
          ]
        },
        {
          "output_type": "execute_result",
          "data": {
            "text/plain": [
              "<matplotlib.image.AxesImage at 0x7ae4a96cf5b0>"
            ]
          },
          "metadata": {},
          "execution_count": 5
        },
        {
          "output_type": "display_data",
          "data": {
            "text/plain": [
              "<Figure size 640x480 with 1 Axes>"
            ],
            "image/png": "[encoded data removed]"
          },
          "metadata": {}
        }
      ],
      "source": [
        "from matplotlib import pyplot as plt\n",
        "\n",
        "\n",
        "print(len(trainset))\n",
        "print(trainset[0][0].shape, trainset[0][1])\n",
        "plt.imshow(trainset[0][0][0])"
      ]
    },
    {
      "cell_type": "markdown",
      "id": "170f26c5-ebb4-470a-bc25-4ac58efedfcc",
      "metadata": {
        "id": "170f26c5-ebb4-470a-bc25-4ac58efedfcc"
      },
      "source": [
        "## [LOG] Shape은 (3,32,32)이며 해당 그림은 클래스 6에 해당한다"
      ]
    },
    {
      "cell_type": "markdown",
      "id": "09775fce-a717-4c1e-8f5f-9477bf79230f",
      "metadata": {
        "id": "09775fce-a717-4c1e-8f5f-9477bf79230f"
      },
      "source": [
        "## [MY CODE] loader 설정, batch size = 256"
      ]
    },
    {
      "cell_type": "code",
      "execution_count": null,
      "id": "df1dc321-79a8-4eac-92ca-fc914eecadd0",
      "metadata": {
        "id": "df1dc321-79a8-4eac-92ca-fc914eecadd0"
      },
      "outputs": [],
      "source": [
        "batch_size = 256\n",
        "\n",
        "trainloader = torch.utils.data.DataLoader(\n",
        "    trainset,\n",
        "    batch_size=batch_size,\n",
        "    shuffle=True\n",
        ")\n",
        "\n",
        "testloader = torch.utils.data.DataLoader(\n",
        "    testset,\n",
        "    batch_size=batch_size,\n",
        "    shuffle=False\n",
        ")"
      ]
    },
    {
      "cell_type": "markdown",
      "id": "e59e356f-4b44-495b-9b68-fc84af38aed3",
      "metadata": {
        "id": "e59e356f-4b44-495b-9b68-fc84af38aed3"
      },
      "source": [
        "## [MY CODE] 학습 모델 작성\n",
        "## activation function 변경, ReLU -> LeakyReLU"
      ]
    },
    {
      "cell_type": "code",
      "execution_count": null,
      "id": "b43ec94f-3f14-4c73-b782-6ee7c5c3baa0",
      "metadata": {
        "id": "b43ec94f-3f14-4c73-b782-6ee7c5c3baa0"
      },
      "outputs": [],
      "source": [
        "from torch import nn\n",
        "from torch.optim import SGD, Adam\n",
        "\n",
        "class Model(nn.Module):\n",
        "    def __init__(self, input_dim, n_dim):\n",
        "        super().__init__()\n",
        "\n",
        "        self.layer1 = nn.Linear(input_dim, n_dim)\n",
        "        self.layer2 = nn.Linear(n_dim, n_dim)\n",
        "        self.layer3 = nn.Linear(n_dim, n_dim)\n",
        "        self.layer4 = nn.Linear(n_dim, 10)\n",
        "\n",
        "        self.act = nn.LeakyReLU()\n",
        "\n",
        "\n",
        "    def forward(self, x):\n",
        "        x = torch.flatten(x, start_dim=1)\n",
        "        x = self.act(self.layer1(x))\n",
        "        x = self.act(self.layer2(x))\n",
        "        x = self.act(self.layer3(x))\n",
        "        x = self.layer4(x)\n",
        "\n",
        "        return x\n",
        "\n"
      ]
    },
    {
      "cell_type": "markdown",
      "id": "0aebbd50-26ca-48b9-87de-e68895c9e7a2",
      "metadata": {
        "id": "0aebbd50-26ca-48b9-87de-e68895c9e7a2"
      },
      "source": [
        "## [MY CODE] 학습 진행\n",
        "- epoch = 50\n",
        "- label에 one-hot 적용"
      ]
    },
    {
      "cell_type": "code",
      "execution_count": null,
      "id": "905a6466-972e-49f7-8d1a-3c6084ae54e5",
      "metadata": {
        "colab": {
          "base_uri": "https://localhost:8080/"
        },
        "id": "905a6466-972e-49f7-8d1a-3c6084ae54e5",
        "outputId": "59714f2f-96c2-436b-b686-e5b23f2bac18"
      },
      "outputs": [
        {
          "output_type": "stream",
          "name": "stdout",
          "text": [
            "Epoch   0 | Loss: 371.1622769706664 | Acc: 0.36448\n",
            "Epoch   1 | Loss: 328.5985540336813 | Acc: 0.41654\n",
            "Epoch   2 | Loss: 309.33288291748596 | Acc: 0.45312\n",
            "Epoch   3 | Loss: 295.87329585927944 | Acc: 0.46452\n",
            "Epoch   4 | Loss: 285.42006240571163 | Acc: 0.49964\n",
            "Epoch   5 | Loss: 278.6853891154664 | Acc: 0.49568\n",
            "Epoch   6 | Loss: 268.8492962140153 | Acc: 0.53342\n",
            "Epoch   7 | Loss: 262.78432557674887 | Acc: 0.51504\n",
            "Epoch   8 | Loss: 256.62969190133344 | Acc: 0.54882\n",
            "Epoch   9 | Loss: 248.88606897686785 | Acc: 0.54528\n",
            "Epoch  10 | Loss: 241.89777985360885 | Acc: 0.57882\n",
            "Epoch  11 | Loss: 232.45829389861882 | Acc: 0.59592\n",
            "Epoch  12 | Loss: 227.65360252745398 | Acc: 0.6027\n",
            "Epoch  13 | Loss: 219.0996316415761 | Acc: 0.64016\n",
            "Epoch  14 | Loss: 210.0928687826707 | Acc: 0.64036\n",
            "Epoch  15 | Loss: 200.96628355961164 | Acc: 0.67034\n",
            "Epoch  16 | Loss: 192.1985586871789 | Acc: 0.68902\n",
            "Epoch  17 | Loss: 180.76643620502443 | Acc: 0.67956\n",
            "Epoch  18 | Loss: 171.93639715088904 | Acc: 0.72954\n",
            "Epoch  19 | Loss: 162.4636593922013 | Acc: 0.71514\n",
            "Epoch  20 | Loss: 151.5541758375632 | Acc: 0.74594\n",
            "Epoch  21 | Loss: 138.72139707201657 | Acc: 0.75454\n",
            "Epoch  22 | Loss: 131.03937390249823 | Acc: 0.80324\n",
            "Epoch  23 | Loss: 117.05638660397446 | Acc: 0.81024\n",
            "Epoch  24 | Loss: 106.39538684451988 | Acc: 0.809\n",
            "Epoch  25 | Loss: 98.36854021624977 | Acc: 0.86212\n",
            "Epoch  26 | Loss: 88.72933431310412 | Acc: 0.8516\n",
            "Epoch  27 | Loss: 83.91936537984499 | Acc: 0.89204\n",
            "Epoch  28 | Loss: 73.53518611887898 | Acc: 0.88174\n",
            "Epoch  29 | Loss: 64.7260547485173 | Acc: 0.91912\n",
            "Epoch  30 | Loss: 57.19451782289441 | Acc: 0.8962\n",
            "Epoch  31 | Loss: 59.17504665901864 | Acc: 0.9057\n",
            "Epoch  32 | Loss: 55.83424261462157 | Acc: 0.92086\n",
            "Epoch  33 | Loss: 47.51217252469488 | Acc: 0.89648\n",
            "Epoch  34 | Loss: 44.62676470050608 | Acc: 0.93716\n",
            "Epoch  35 | Loss: 38.950737130566395 | Acc: 0.94584\n",
            "Epoch  36 | Loss: 40.42383236392778 | Acc: 0.93772\n",
            "Epoch  37 | Loss: 33.75738359627581 | Acc: 0.9565\n",
            "Epoch  38 | Loss: 36.172915354114366 | Acc: 0.9429\n",
            "Epoch  39 | Loss: 36.62615660474722 | Acc: 0.9445\n",
            "Epoch  40 | Loss: 35.29269038948713 | Acc: 0.93466\n",
            "Epoch  41 | Loss: 30.426179499701316 | Acc: 0.96834\n",
            "Epoch  42 | Loss: 27.307553123393863 | Acc: 0.9433\n",
            "Epoch  43 | Loss: 36.08308947647443 | Acc: 0.90828\n",
            "Epoch  44 | Loss: 31.77803938361101 | Acc: 0.94008\n",
            "Epoch  45 | Loss: 30.412967754378542 | Acc: 0.9618\n",
            "Epoch  46 | Loss: 24.59021168682152 | Acc: 0.95832\n",
            "Epoch  47 | Loss: 25.968920475495004 | Acc: 0.96326\n",
            "Epoch  48 | Loss: 31.231407967237484 | Acc: 0.95684\n",
            "Epoch  49 | Loss: 27.131312271816796 | Acc: 0.96972\n"
          ]
        }
      ],
      "source": [
        "import torch.nn.functional as F\n",
        "\n",
        "### model1, optimizer Adam\n",
        "model1 = Model(32 * 32 * 3, 1024)\n",
        "model1 = model1.to('cuda')\n",
        "\n",
        "lr = 0.001\n",
        "optimizer_adam = Adam(model1.parameters(), lr=lr)\n",
        "\n",
        "n_epochs = 50\n",
        "\n",
        "adam_accuracy_list = []\n",
        "\n",
        "for epoch in range(n_epochs):\n",
        "    total_loss = 0.\n",
        "    for data in trainloader:\n",
        "        model1.zero_grad()\n",
        "        inputs, labels = data\n",
        "        one_hot_labels = F.one_hot(labels, num_classes=10).type(torch.DoubleTensor)\n",
        "        inputs, one_hot_labels = inputs.to('cuda'), one_hot_labels.to('cuda')\n",
        "\n",
        "        preds = model1(inputs)\n",
        "        loss = nn.CrossEntropyLoss()(preds, one_hot_labels)\n",
        "        loss.backward()\n",
        "        optimizer_adam.step()\n",
        "\n",
        "        total_loss += loss.item()\n",
        "\n",
        "    train_accuracy = accuracy(model1, trainloader, True)\n",
        "    print(f\"Epoch {epoch:3d} | Loss: {total_loss} | Acc: {train_accuracy}\")\n",
        "\n",
        "    adam_accuracy_list.append(train_accuracy)\n"
      ]
    },
    {
      "cell_type": "code",
      "execution_count": null,
      "id": "e9ed27e7-2430-4a31-ad86-61287e59c8cf",
      "metadata": {
        "colab": {
          "base_uri": "https://localhost:8080/"
        },
        "id": "e9ed27e7-2430-4a31-ad86-61287e59c8cf",
        "outputId": "fa8b8fe3-a5d4-40cf-a9cc-e9a886f979b1"
      },
      "outputs": [
        {
          "output_type": "stream",
          "name": "stdout",
          "text": [
            "Epoch   0 | Loss: 451.22177319247277 | Acc: 0.1208\n",
            "Epoch   1 | Loss: 450.74174766447396 | Acc: 0.11458\n",
            "Epoch   2 | Loss: 450.2915555052459 | Acc: 0.11206\n",
            "Epoch   3 | Loss: 449.8597486566752 | Acc: 0.11324\n",
            "Epoch   4 | Loss: 449.42748132180424 | Acc: 0.11638\n",
            "Epoch   5 | Loss: 448.98468142766507 | Acc: 0.1212\n",
            "Epoch   6 | Loss: 448.5218201544136 | Acc: 0.12604\n",
            "Epoch   7 | Loss: 448.02681367583574 | Acc: 0.13262\n",
            "Epoch   8 | Loss: 447.47525259871037 | Acc: 0.1404\n",
            "Epoch   9 | Loss: 446.8864431831986 | Acc: 0.14916\n",
            "Epoch  10 | Loss: 446.24545611962674 | Acc: 0.1594\n",
            "Epoch  11 | Loss: 445.5238945644349 | Acc: 0.16708\n",
            "Epoch  12 | Loss: 444.7451365694404 | Acc: 0.174\n",
            "Epoch  13 | Loss: 443.87081288760527 | Acc: 0.18044\n",
            "Epoch  14 | Loss: 442.91057412317025 | Acc: 0.18748\n",
            "Epoch  15 | Loss: 441.8032759636641 | Acc: 0.19238\n",
            "Epoch  16 | Loss: 440.5923665710725 | Acc: 0.19768\n",
            "Epoch  17 | Loss: 439.22845868580043 | Acc: 0.20142\n",
            "Epoch  18 | Loss: 437.70167963691057 | Acc: 0.20434\n",
            "Epoch  19 | Loss: 435.9917811734602 | Acc: 0.20732\n",
            "Epoch  20 | Loss: 434.13443038268014 | Acc: 0.21006\n",
            "Epoch  21 | Loss: 432.0350450882688 | Acc: 0.21248\n",
            "Epoch  22 | Loss: 429.8295608992688 | Acc: 0.2137\n",
            "Epoch  23 | Loss: 427.4483368901536 | Acc: 0.21676\n",
            "Epoch  24 | Loss: 425.05589215755464 | Acc: 0.21848\n",
            "Epoch  25 | Loss: 422.6183279638179 | Acc: 0.22232\n",
            "Epoch  26 | Loss: 420.1179336776957 | Acc: 0.22332\n",
            "Epoch  27 | Loss: 417.70073181334885 | Acc: 0.2243\n",
            "Epoch  28 | Loss: 415.511946586892 | Acc: 0.2282\n",
            "Epoch  29 | Loss: 413.46389231951906 | Acc: 0.2343\n",
            "Epoch  30 | Loss: 411.4766950967256 | Acc: 0.23814\n",
            "Epoch  31 | Loss: 409.6809967302717 | Acc: 0.24112\n",
            "Epoch  32 | Loss: 407.94369628094137 | Acc: 0.24682\n",
            "Epoch  33 | Loss: 406.38685172116385 | Acc: 0.25272\n",
            "Epoch  34 | Loss: 404.85509527041575 | Acc: 0.2578\n",
            "Epoch  35 | Loss: 403.4607659006957 | Acc: 0.26026\n",
            "Epoch  36 | Loss: 402.1336465301923 | Acc: 0.26344\n",
            "Epoch  37 | Loss: 400.87607219112107 | Acc: 0.26686\n",
            "Epoch  38 | Loss: 399.6030256496277 | Acc: 0.26902\n",
            "Epoch  39 | Loss: 398.3692368682474 | Acc: 0.27158\n",
            "Epoch  40 | Loss: 397.2102423320524 | Acc: 0.27212\n",
            "Epoch  41 | Loss: 396.02501711626536 | Acc: 0.275\n",
            "Epoch  42 | Loss: 394.94222571132707 | Acc: 0.2758\n",
            "Epoch  43 | Loss: 393.82704573306256 | Acc: 0.27748\n",
            "Epoch  44 | Loss: 392.7811367415823 | Acc: 0.27894\n",
            "Epoch  45 | Loss: 391.80653974218296 | Acc: 0.27952\n",
            "Epoch  46 | Loss: 390.810329577513 | Acc: 0.2812\n",
            "Epoch  47 | Loss: 389.80616824515164 | Acc: 0.2847\n",
            "Epoch  48 | Loss: 388.9154972860124 | Acc: 0.28572\n",
            "Epoch  49 | Loss: 388.019541448215 | Acc: 0.2872\n"
          ]
        }
      ],
      "source": [
        "import torch.nn.functional as F\n",
        "\n",
        "### model2, optimizer SGD\n",
        "model2 = Model(32 * 32 * 3, 1024)\n",
        "model2 = model2.to('cuda')\n",
        "\n",
        "lr = 0.001\n",
        "optimizer_sgd = SGD(model2.parameters(), lr=lr)\n",
        "\n",
        "n_epochs = 50\n",
        "\n",
        "sgd_accuracy_list = []\n",
        "\n",
        "for epoch in range(n_epochs):\n",
        "    total_loss = 0.\n",
        "    for data in trainloader:\n",
        "        model2.zero_grad()\n",
        "        inputs, labels = data\n",
        "        one_hot_labels = F.one_hot(labels, num_classes=10).type(torch.DoubleTensor)\n",
        "        inputs, one_hot_labels = inputs.to('cuda'), one_hot_labels.to('cuda')\n",
        "\n",
        "        preds = model2(inputs)\n",
        "        loss = nn.CrossEntropyLoss()(preds, one_hot_labels)\n",
        "        loss.backward()\n",
        "        optimizer_sgd.step()\n",
        "\n",
        "        total_loss += loss.item()\n",
        "\n",
        "    train_accuracy = accuracy(model2, trainloader, True)\n",
        "    print(f\"Epoch {epoch:3d} | Loss: {total_loss} | Acc: {train_accuracy}\")\n",
        "\n",
        "    sgd_accuracy_list.append(train_accuracy)\n"
      ]
    },
    {
      "cell_type": "markdown",
      "id": "d0445b21-1579-41d0-a97a-aa918c98a738",
      "metadata": {
        "id": "d0445b21-1579-41d0-a97a-aa918c98a738"
      },
      "source": [
        "## [LOG] 학습 결과"
      ]
    },
    {
      "cell_type": "markdown",
      "id": "e6cb22c4-9c35-440a-9fe0-47add3b483ab",
      "metadata": {
        "id": "e6cb22c4-9c35-440a-9fe0-47add3b483ab"
      },
      "source": [
        "## [MY CODE] 모델 정확도 비교 Adam VS SGD"
      ]
    },
    {
      "cell_type": "code",
      "execution_count": null,
      "id": "78ba81a3-c206-49f2-ac2f-ab493ac14295",
      "metadata": {
        "colab": {
          "base_uri": "https://localhost:8080/",
          "height": 430
        },
        "id": "78ba81a3-c206-49f2-ac2f-ab493ac14295",
        "outputId": "5e5117b8-c07f-4ddc-cda4-054c69298d7b"
      },
      "outputs": [
        {
          "output_type": "display_data",
          "data": {
            "text/plain": [
              "<Figure size 640x480 with 1 Axes>"
            ],
            "image/png": "[encoded data removed]"
          },
          "metadata": {}
        }
      ],
      "source": [
        "plot_acc(adam_accuracy_list, sgd_accuracy_list, 'Adam', 'SGD')"
      ]
    },
    {
      "cell_type": "markdown",
      "source": [
        "## [LOG] Adam으로 최적화한게 학습이 더 잘 되었음, SGD의 경우 학습이 될수록 정확도가 향상되고 있으나 많은 추가 학습이 필요해보임"
      ],
      "metadata": {
        "id": "pCoU-o232Ndg"
      },
      "id": "pCoU-o232Ndg"
    },
    {
      "cell_type": "markdown",
      "id": "888d03c6-ca2c-43d0-a87c-2768c76128d1",
      "metadata": {
        "id": "888d03c6-ca2c-43d0-a87c-2768c76128d1"
      },
      "source": []
    },
    {
      "cell_type": "markdown",
      "source": [
        "## [MY CODE] Sigmoid 학습 모델 작성"
      ],
      "metadata": {
        "id": "NQwLbAhM1q69"
      },
      "id": "NQwLbAhM1q69"
    },
    {
      "cell_type": "code",
      "execution_count": null,
      "id": "49ce23b8-9ce6-4364-8dde-84a1163474f2",
      "metadata": {
        "id": "49ce23b8-9ce6-4364-8dde-84a1163474f2"
      },
      "outputs": [],
      "source": [
        "from torch import nn\n",
        "from torch.optim import SGD, Adam\n",
        "\n",
        "class Model_SIG(nn.Module):\n",
        "    def __init__(self, input_dim, n_dim):\n",
        "        super().__init__()\n",
        "\n",
        "        self.layer1 = nn.Linear(input_dim, n_dim)\n",
        "        self.layer2 = nn.Linear(n_dim, n_dim)\n",
        "        self.layer3 = nn.Linear(n_dim, n_dim)\n",
        "        self.layer4 = nn.Linear(n_dim, 10)\n",
        "\n",
        "        self.act = nn.Sigmoid()\n",
        "\n",
        "\n",
        "    def forward(self, x):\n",
        "        x = torch.flatten(x, start_dim=1)\n",
        "        x = self.act(self.layer1(x))\n",
        "        x = self.act(self.layer2(x))\n",
        "        x = self.act(self.layer3(x))\n",
        "        x = self.layer4(x)\n",
        "\n",
        "        return x\n",
        "\n"
      ]
    },
    {
      "cell_type": "markdown",
      "source": [
        "## [MY CODE] 학습 진형\n",
        "\n",
        "- epoch 50\n",
        "- label에 one-hot 적용"
      ],
      "metadata": {
        "id": "dYsYHygR14jJ"
      },
      "id": "dYsYHygR14jJ"
    },
    {
      "cell_type": "code",
      "execution_count": null,
      "id": "254e734b-15de-4f73-817c-ecfd7caca482",
      "metadata": {
        "colab": {
          "base_uri": "https://localhost:8080/"
        },
        "id": "254e734b-15de-4f73-817c-ecfd7caca482",
        "outputId": "a7e8d29e-7106-4b60-e55a-0ed18fa7af22"
      },
      "outputs": [
        {
          "output_type": "stream",
          "name": "stdout",
          "text": [
            "Epoch   0 | Loss: 414.8022557153134 | Acc: 0.26964\n",
            "Epoch   1 | Loss: 361.7522945048753 | Acc: 0.3418\n",
            "Epoch   2 | Loss: 339.35166841213356 | Acc: 0.39732\n",
            "Epoch   3 | Loss: 324.8334211379988 | Acc: 0.42044\n",
            "Epoch   4 | Loss: 313.8818230442877 | Acc: 0.40206\n",
            "Epoch   5 | Loss: 305.29080727537365 | Acc: 0.44426\n",
            "Epoch   6 | Loss: 296.06269200667884 | Acc: 0.46812\n",
            "Epoch   7 | Loss: 291.6955502173652 | Acc: 0.49012\n",
            "Epoch   8 | Loss: 284.45502107435533 | Acc: 0.4671\n",
            "Epoch   9 | Loss: 277.922403278499 | Acc: 0.4891\n",
            "Epoch  10 | Loss: 273.1654259273506 | Acc: 0.50106\n",
            "Epoch  11 | Loss: 268.4862069812636 | Acc: 0.52122\n",
            "Epoch  12 | Loss: 265.74720521295546 | Acc: 0.51832\n",
            "Epoch  13 | Loss: 261.02225922125183 | Acc: 0.53046\n",
            "Epoch  14 | Loss: 255.50235936902808 | Acc: 0.53768\n",
            "Epoch  15 | Loss: 254.29858470643694 | Acc: 0.54544\n",
            "Epoch  16 | Loss: 248.26359800862446 | Acc: 0.56348\n",
            "Epoch  17 | Loss: 244.28922406021914 | Acc: 0.57012\n",
            "Epoch  18 | Loss: 242.540407799866 | Acc: 0.56148\n",
            "Epoch  19 | Loss: 236.5442261968139 | Acc: 0.565\n",
            "Epoch  20 | Loss: 235.723136436587 | Acc: 0.57032\n",
            "Epoch  21 | Loss: 231.7049492440454 | Acc: 0.58214\n",
            "Epoch  22 | Loss: 227.23658818388594 | Acc: 0.58118\n",
            "Epoch  23 | Loss: 225.0090589970934 | Acc: 0.61244\n",
            "Epoch  24 | Loss: 222.35254816141497 | Acc: 0.60592\n",
            "Epoch  25 | Loss: 217.95726576947442 | Acc: 0.61194\n",
            "Epoch  26 | Loss: 213.95413969795226 | Acc: 0.60036\n",
            "Epoch  27 | Loss: 211.05851192290575 | Acc: 0.58976\n",
            "Epoch  28 | Loss: 208.82240712385095 | Acc: 0.62288\n",
            "Epoch  29 | Loss: 205.9400060362176 | Acc: 0.63702\n",
            "Epoch  30 | Loss: 202.61925092483014 | Acc: 0.62376\n",
            "Epoch  31 | Loss: 197.66242272183536 | Acc: 0.65454\n",
            "Epoch  32 | Loss: 194.42590565797195 | Acc: 0.64222\n",
            "Epoch  33 | Loss: 193.19003785946836 | Acc: 0.66678\n",
            "Epoch  34 | Loss: 190.18010237102862 | Acc: 0.67184\n",
            "Epoch  35 | Loss: 187.3475168705884 | Acc: 0.66772\n",
            "Epoch  36 | Loss: 182.90121620946 | Acc: 0.68632\n",
            "Epoch  37 | Loss: 182.0640587273536 | Acc: 0.64576\n",
            "Epoch  38 | Loss: 177.4722786731135 | Acc: 0.68858\n",
            "Epoch  39 | Loss: 173.87356383873873 | Acc: 0.68554\n",
            "Epoch  40 | Loss: 169.99848095999363 | Acc: 0.6862\n",
            "Epoch  41 | Loss: 169.84605796722644 | Acc: 0.7143\n",
            "Epoch  42 | Loss: 165.31916069681174 | Acc: 0.70918\n",
            "Epoch  43 | Loss: 161.75581963897847 | Acc: 0.70104\n",
            "Epoch  44 | Loss: 161.09511893537496 | Acc: 0.72062\n",
            "Epoch  45 | Loss: 157.9699969097845 | Acc: 0.72588\n",
            "Epoch  46 | Loss: 153.0866616507426 | Acc: 0.71654\n",
            "Epoch  47 | Loss: 151.66049970586195 | Acc: 0.73432\n",
            "Epoch  48 | Loss: 147.1860633791359 | Acc: 0.7317\n",
            "Epoch  49 | Loss: 146.00288658466383 | Acc: 0.7564\n"
          ]
        }
      ],
      "source": [
        "import torch.nn.functional as F\n",
        "\n",
        "### model3, optimizer Adam, activation Sigmoid\n",
        "model3 = Model_SIG(32 * 32 * 3, 1024)\n",
        "model3 = model3.to('cuda')\n",
        "\n",
        "lr = 0.001\n",
        "optimizer_adam = Adam(model3.parameters(), lr=lr)\n",
        "\n",
        "n_epochs = 50\n",
        "\n",
        "sigmoid_accuracy_list = []\n",
        "\n",
        "for epoch in range(n_epochs):\n",
        "    total_loss = 0.\n",
        "    for data in trainloader:\n",
        "        model3.zero_grad()\n",
        "        inputs, labels = data\n",
        "        one_hot_labels = F.one_hot(labels, num_classes=10).type(torch.DoubleTensor)\n",
        "        inputs, one_hot_labels = inputs.to('cuda'), one_hot_labels.to('cuda')\n",
        "\n",
        "        preds = model3(inputs)\n",
        "        loss = nn.CrossEntropyLoss()(preds, one_hot_labels)\n",
        "        loss.backward()\n",
        "        optimizer_adam.step()\n",
        "\n",
        "        total_loss += loss.item()\n",
        "\n",
        "    train_accuracy = accuracy(model3, trainloader, True)\n",
        "    print(f\"Epoch {epoch:3d} | Loss: {total_loss} | Acc: {train_accuracy}\")\n",
        "\n",
        "    sigmoid_accuracy_list.append(train_accuracy)\n"
      ]
    },
    {
      "cell_type": "code",
      "execution_count": null,
      "id": "3db2eb51-b5e9-40a4-8f07-c4b4f32a116c",
      "metadata": {
        "colab": {
          "base_uri": "https://localhost:8080/",
          "height": 433
        },
        "id": "3db2eb51-b5e9-40a4-8f07-c4b4f32a116c",
        "outputId": "b50f07ac-2571-4e91-d93a-794f29cc5bd2"
      },
      "outputs": [
        {
          "output_type": "display_data",
          "data": {
            "text/plain": [
              "<Figure size 640x480 with 1 Axes>"
            ],
            "image/png": "[encoded data removed]"
          },
          "metadata": {}
        }
      ],
      "source": [
        "plot_acc(adam_accuracy_list, sigmoid_accuracy_list, 'Leaky ReLU', 'Sigmoid')"
      ]
    },
    {
      "cell_type": "markdown",
      "source": [
        "## [LOG] 학습이 많이 튀지만 빠르게 두 모델 모두 학습이 잘 되는 모습을 보여줌. 학습력은 Sigmoid보다 Leaky ReLU가 더 우월함"
      ],
      "metadata": {
        "id": "9D6hNWXp4R3F"
      },
      "id": "9D6hNWXp4R3F"
    },
    {
      "cell_type": "markdown",
      "id": "7b50168a-0f02-493d-8c3d-ecbaf3b508c5",
      "metadata": {
        "id": "7b50168a-0f02-493d-8c3d-ecbaf3b508c5"
      },
      "source": [
        "## [MY CODE] Drop out 적용, 0.1"
      ]
    },
    {
      "cell_type": "code",
      "execution_count": null,
      "id": "465f3942-ce38-48bd-ab3e-4280b486ad22",
      "metadata": {
        "id": "465f3942-ce38-48bd-ab3e-4280b486ad22"
      },
      "outputs": [],
      "source": [
        "from torch import nn\n",
        "from torch.optim import SGD, Adam\n",
        "\n",
        "class Model_DO(nn.Module):\n",
        "    def __init__(self, input_dim, n_dim):\n",
        "        super().__init__()\n",
        "\n",
        "        self.layer1 = nn.Linear(input_dim, n_dim)\n",
        "        self.layer2 = nn.Linear(n_dim, n_dim)\n",
        "        self.layer3 = nn.Linear(n_dim, n_dim)\n",
        "        self.layer4 = nn.Linear(n_dim, 10)\n",
        "\n",
        "        self.act = nn.LeakyReLU()\n",
        "\n",
        "        self.dropout = nn.Dropout(p=0.1)\n",
        "\n",
        "\n",
        "    def forward(self, x):\n",
        "        x = torch.flatten(x, start_dim=1)\n",
        "        x = self.dropout(self.act(self.layer1(x)))\n",
        "        x = self.dropout(self.act(self.layer2(x)))\n",
        "        x = self.dropout(self.act(self.layer3(x)))\n",
        "        x = self.dropout(self.layer4(x))\n",
        "\n",
        "        return x\n"
      ]
    },
    {
      "cell_type": "markdown",
      "source": [
        "## [MY CODE] Accuracy 함수에 model.eval 추가"
      ],
      "metadata": {
        "id": "0iTokP-V9HkU"
      },
      "id": "0iTokP-V9HkU"
    },
    {
      "cell_type": "code",
      "source": [
        "def accuracy_no_grad(model, dataloader, use_cuda=False):\n",
        "    cnt = 0\n",
        "    acc = 0\n",
        "\n",
        "    with torch.no_grad():\n",
        "        model.eval()\n",
        "        for data in dataloader:\n",
        "            inputs, labels = data\n",
        "            if(use_cuda):\n",
        "                inputs, labels = inputs.to('cuda'), labels.to('cuda')\n",
        "\n",
        "            preds = model(inputs)\n",
        "            preds = torch.argmax(preds, dim=-1)\n",
        "\n",
        "            cnt += labels.shape[0]\n",
        "            acc += (labels == preds).sum().item()\n",
        "\n",
        "    return acc / cnt"
      ],
      "metadata": {
        "id": "edWi8yZS0jOY"
      },
      "id": "edWi8yZS0jOY",
      "execution_count": null,
      "outputs": []
    },
    {
      "cell_type": "code",
      "execution_count": null,
      "id": "61b3dcb9-caa1-4787-9025-00d0f6447d04",
      "metadata": {
        "colab": {
          "base_uri": "https://localhost:8080/"
        },
        "id": "61b3dcb9-caa1-4787-9025-00d0f6447d04",
        "outputId": "d1e997e7-dd94-4b79-e75a-3777a3ad102a"
      },
      "outputs": [
        {
          "output_type": "stream",
          "name": "stdout",
          "text": [
            "Epoch   0 | Loss: 380.2832498968128 | Acc: 0.36136\n",
            "Epoch   1 | Loss: 347.4849285069946 | Acc: 0.39504\n",
            "Epoch   2 | Loss: 332.11216130139763 | Acc: 0.42234\n",
            "Epoch   3 | Loss: 322.460478483133 | Acc: 0.46352\n",
            "Epoch   4 | Loss: 314.1465720403312 | Acc: 0.45682\n",
            "Epoch   5 | Loss: 308.9921793083957 | Acc: 0.47596\n",
            "Epoch   6 | Loss: 302.97392526745625 | Acc: 0.49208\n",
            "Epoch   7 | Loss: 298.7805351855904 | Acc: 0.50228\n",
            "Epoch   8 | Loss: 293.3567242817643 | Acc: 0.5056\n",
            "Epoch   9 | Loss: 288.6158585333432 | Acc: 0.53046\n",
            "Epoch  10 | Loss: 284.0258559076505 | Acc: 0.53432\n",
            "Epoch  11 | Loss: 279.20652430158054 | Acc: 0.5094\n",
            "Epoch  12 | Loss: 278.12701581087055 | Acc: 0.55402\n",
            "Epoch  13 | Loss: 273.1741559607661 | Acc: 0.5564\n",
            "Epoch  14 | Loss: 270.09984598574795 | Acc: 0.55402\n",
            "Epoch  15 | Loss: 265.45927832742353 | Acc: 0.58194\n",
            "Epoch  16 | Loss: 264.4929874962873 | Acc: 0.58078\n",
            "Epoch  17 | Loss: 260.1359430234211 | Acc: 0.5768\n",
            "Epoch  18 | Loss: 255.98062392798525 | Acc: 0.60192\n",
            "Epoch  19 | Loss: 252.16006513619976 | Acc: 0.58496\n",
            "Epoch  20 | Loss: 249.3139409180469 | Acc: 0.60756\n",
            "Epoch  21 | Loss: 245.7840447571501 | Acc: 0.62788\n",
            "Epoch  22 | Loss: 244.15256888500824 | Acc: 0.62166\n",
            "Epoch  23 | Loss: 239.50896262316218 | Acc: 0.65088\n",
            "Epoch  24 | Loss: 236.28315179075102 | Acc: 0.64638\n",
            "Epoch  25 | Loss: 233.4894039485328 | Acc: 0.64614\n",
            "Epoch  26 | Loss: 230.855991782491 | Acc: 0.6668\n",
            "Epoch  27 | Loss: 224.6329257326079 | Acc: 0.67956\n",
            "Epoch  28 | Loss: 221.91191088917518 | Acc: 0.68094\n",
            "Epoch  29 | Loss: 219.03064395785202 | Acc: 0.67428\n",
            "Epoch  30 | Loss: 217.2282258429177 | Acc: 0.69954\n",
            "Epoch  31 | Loss: 214.7856429049257 | Acc: 0.70868\n",
            "Epoch  32 | Loss: 209.926897406707 | Acc: 0.71456\n",
            "Epoch  33 | Loss: 207.92743136360434 | Acc: 0.71632\n",
            "Epoch  34 | Loss: 204.83221456959598 | Acc: 0.73004\n",
            "Epoch  35 | Loss: 201.56393894409842 | Acc: 0.74736\n",
            "Epoch  36 | Loss: 198.01985350423953 | Acc: 0.73666\n",
            "Epoch  37 | Loss: 195.1607582045747 | Acc: 0.74624\n",
            "Epoch  38 | Loss: 194.48564860071016 | Acc: 0.74648\n",
            "Epoch  39 | Loss: 192.92198107303975 | Acc: 0.75526\n",
            "Epoch  40 | Loss: 190.30962530077625 | Acc: 0.7856\n",
            "Epoch  41 | Loss: 185.36134933922943 | Acc: 0.78272\n",
            "Epoch  42 | Loss: 183.18280437938097 | Acc: 0.77268\n",
            "Epoch  43 | Loss: 179.81799435274957 | Acc: 0.79496\n",
            "Epoch  44 | Loss: 179.6030283095138 | Acc: 0.80544\n",
            "Epoch  45 | Loss: 176.18605090235693 | Acc: 0.79134\n",
            "Epoch  46 | Loss: 173.59156617160804 | Acc: 0.80704\n",
            "Epoch  47 | Loss: 173.5104443249599 | Acc: 0.82468\n",
            "Epoch  48 | Loss: 168.813715245953 | Acc: 0.81968\n",
            "Epoch  49 | Loss: 167.92956107472102 | Acc: 0.81564\n"
          ]
        }
      ],
      "source": [
        "import torch.nn.functional as F\n",
        "\n",
        "### model4, dropout\n",
        "model4 = Model_DO(32 * 32 * 3, 1024)\n",
        "model4 = model4.to('cuda')\n",
        "\n",
        "lr = 0.001\n",
        "optimizer_adam = Adam(model4.parameters(), lr=lr)\n",
        "\n",
        "n_epochs = 50\n",
        "\n",
        "train_accuracy_list = []\n",
        "test_accuracy_list = []\n",
        "\n",
        "for epoch in range(n_epochs):\n",
        "    total_loss = 0.\n",
        "    model4.train()\n",
        "    for data in trainloader:\n",
        "        model4.zero_grad()\n",
        "        inputs, labels = data\n",
        "        one_hot_labels = F.one_hot(labels, num_classes=10).type(torch.DoubleTensor)\n",
        "        inputs, one_hot_labels = inputs.to('cuda'), one_hot_labels.to('cuda')\n",
        "\n",
        "        preds = model4(inputs)\n",
        "        loss = nn.CrossEntropyLoss()(preds, one_hot_labels)\n",
        "        loss.backward()\n",
        "        optimizer_adam.step()\n",
        "\n",
        "        total_loss += loss.item()\n",
        "\n",
        "    train_accuracy = accuracy_no_grad(model4, trainloader, True)\n",
        "    test_accuracy = accuracy_no_grad(model4, testloader, True)\n",
        "    print(f\"Epoch {epoch:3d} | Loss: {total_loss} | Acc: {train_accuracy}\")\n",
        "\n",
        "    train_accuracy_list.append(train_accuracy)\n",
        "    test_accuracy_list.append(test_accuracy)\n"
      ]
    },
    {
      "cell_type": "code",
      "execution_count": null,
      "id": "5412cd37-729c-472d-8d81-d309a1e9bd1f",
      "metadata": {
        "colab": {
          "base_uri": "https://localhost:8080/",
          "height": 430
        },
        "id": "5412cd37-729c-472d-8d81-d309a1e9bd1f",
        "outputId": "4d08c9fb-374b-4719-f33e-7e840aae29dd"
      },
      "outputs": [
        {
          "output_type": "display_data",
          "data": {
            "text/plain": [
              "<Figure size 640x480 with 1 Axes>"
            ],
            "image/png": "[encoded data removed]"
          },
          "metadata": {}
        }
      ],
      "source": [
        "plot_acc(train_accuracy_list, test_accuracy_list)"
      ]
    },
    {
      "cell_type": "markdown",
      "source": [
        "## [LOG] testset의 정확도가 떨어지는 것으로 보아, train에 overfitting 된 것 같음"
      ],
      "metadata": {
        "id": "2DJYhXbOAJK0"
      },
      "id": "2DJYhXbOAJK0"
    },
    {
      "cell_type": "markdown",
      "source": [
        "## [FEEDBACK] dropout 적용 시 학습이 더 잘 된다고 하셨는데, 이 케이스에는 왜 overfitting이 된 건지 궁금합니다."
      ],
      "metadata": {
        "id": "qpMXR52D5je_"
      },
      "id": "qpMXR52D5je_"
    },
    {
      "cell_type": "code",
      "source": [],
      "metadata": {
        "id": "CdDDHDE_8_ed"
      },
      "id": "CdDDHDE_8_ed",
      "execution_count": null,
      "outputs": []
    }
  ],
  "metadata": {
    "kernelspec": {
      "display_name": "Python 3",
      "name": "python3"
    },
    "language_info": {
      "codemirror_mode": {
        "name": "ipython",
        "version": 3
      },
      "file_extension": ".py",
      "mimetype": "text/x-python",
      "name": "python",
      "nbconvert_exporter": "python",
      "pygments_lexer": "ipython3",
      "version": "3.11.10"
    },
    "colab": {
      "provenance": [],
      "gpuType": "T4",
      "include_colab_link": true
    },
    "accelerator": "GPU"
  },
  "nbformat": 4,
  "nbformat_minor": 5
}