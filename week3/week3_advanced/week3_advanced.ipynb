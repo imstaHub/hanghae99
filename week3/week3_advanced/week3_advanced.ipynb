{
  "cells": [
    {
      "cell_type": "markdown",
      "metadata": {
        "colab_type": "text",
        "id": "view-in-github"
      },
      "source": [
        "<a href=\"https://colab.research.google.com/github/imstaHub/hanghae99/blob/master/week3_advanced.ipynb\" target=\"_parent\"><img src=\"https://colab.research.google.com/assets/colab-badge.svg\" alt=\"Open In Colab\"/></a>"
      ]
    },
    {
      "cell_type": "markdown",
      "metadata": {
        "id": "JhuipKA0mQb4"
      },
      "source": [
        "## Week3 Advanced Homework"
      ]
    },
    {
      "cell_type": "code",
      "execution_count": null,
      "metadata": {
        "colab": {
          "base_uri": "https://localhost:8080/"
        },
        "id": "Uarv6EsjmQb7",
        "outputId": "161b7fa3-0513-449e-f051-60839394e802"
      },
      "outputs": [],
      "source": [
        "!pip install tqdm boto3 requests regex sentencepiece sacremoses kagglehub"
      ]
    },
    {
      "cell_type": "code",
      "execution_count": null,
      "metadata": {
        "colab": {
          "base_uri": "https://localhost:8080/"
        },
        "id": "IRC9sTGjmQb9",
        "outputId": "a36042fc-c579-416f-8c73-484b10e5d2a0"
      },
      "outputs": [],
      "source": [
        "import torch\n",
        "\n",
        "#device setting\n",
        "if torch.backends.mps.is_available():\n",
        "    device = torch.device(\"mps\")\n",
        "elif torch.backends.cuda.is_built():\n",
        "    device = torch.device(\"cuda\")\n",
        "else:\n",
        "    device = torch.device(\"cpu\")\n",
        "\n",
        "print(device)"
      ]
    },
    {
      "cell_type": "code",
      "execution_count": null,
      "metadata": {
        "id": "TwKLpctomQb-"
      },
      "outputs": [],
      "source": [
        "def accuracy(model, dataloader, device):\n",
        "  cnt = 0\n",
        "  acc = 0\n",
        "\n",
        "  for data in dataloader:\n",
        "    inputs, labels = data\n",
        "    inputs, labels = inputs.to(device), labels.to(device)\n",
        "\n",
        "    preds = model(inputs)\n",
        "    preds = torch.argmax(preds, dim=-1)\n",
        "    #preds = (preds > 0).long()[..., 0]\n",
        "\n",
        "    cnt += labels.shape[0]\n",
        "    acc += (labels == preds).sum().item()"
      ]
    },
    {
      "cell_type": "markdown",
      "metadata": {
        "id": "Hm7XF30PmQb-"
      },
      "source": [
        "## [My CODE] dataset download"
      ]
    },
    {
      "cell_type": "code",
      "execution_count": null,
      "metadata": {
        "colab": {
          "base_uri": "https://localhost:8080/"
        },
        "id": "UblFBrVnmQb-",
        "outputId": "07159eb1-1fa8-4f52-b279-eff27521cba8"
      },
      "outputs": [],
      "source": [
        "import kagglehub\n",
        "\n",
        "# Download latest version\n",
        "path = kagglehub.dataset_download(\"debasisdotcom/name-entity-recognition-ner-dataset\")\n",
        "\n",
        "print(\"Path to dataset files:\", path)"
      ]
    },
    {
      "cell_type": "code",
      "execution_count": null,
      "metadata": {
        "colab": {
          "base_uri": "https://localhost:8080/",
          "height": 244
        },
        "id": "Gwm6UeJBmQb_",
        "outputId": "138be3d9-44f5-4a72-c611-8e9dc75b171d"
      },
      "outputs": [],
      "source": [
        "import pandas as pd\n",
        "import os\n",
        "\n",
        "csv_list = os.listdir(path)\n",
        "data_list = []\n",
        "for data_file in csv_list:\n",
        "    tmp_path = '/'.join([path, data_file])\n",
        "    print(tmp_path)\n",
        "    data_list.append(pd.read_csv(tmp_path, encoding='unicode_escape'))\n",
        "\n",
        "raw_df = pd.concat(data_list)\n",
        "raw_df.head()"
      ]
    },
    {
      "cell_type": "markdown",
      "metadata": {
        "id": "yTHMz5DMmQb_"
      },
      "source": [
        "## [MY CODE] data prerprocessing"
      ]
    },
    {
      "cell_type": "code",
      "execution_count": null,
      "metadata": {
        "colab": {
          "base_uri": "https://localhost:8080/",
          "height": 488
        },
        "id": "_ii1A6DhmQb_",
        "outputId": "a95d9bd2-61f3-4264-d030-c84c0c161b8a"
      },
      "outputs": [],
      "source": [
        "sentence_col='Sentence #'\n",
        "word_col='Word'\n",
        "tag_col='Tag'\n",
        "\n",
        "# fill sentence label\n",
        "df = raw_df.copy()\n",
        "df[sentence_col] = df[sentence_col].ffill()\n",
        "\n",
        "gdf = df.groupby(by=sentence_col)[word_col].count().reset_index()\n",
        "print('문장 개수:', len(gdf))\n",
        "print('최대 문장 길이:', gdf[word_col].max())\n",
        "\n",
        "# 문장 분포\n",
        "import matplotlib.pyplot as plt\n",
        "\n",
        "plt.hist(gdf[word_col],bins=100)\n",
        "plt.title('sentence length distribution')\n",
        "plt.show()"
      ]
    },
    {
      "cell_type": "code",
      "execution_count": null,
      "metadata": {
        "colab": {
          "base_uri": "https://localhost:8080/",
          "height": 633
        },
        "id": "CDlLyCYhmQcA",
        "outputId": "743bb402-1614-47d6-cac2-ab12bfb60c06"
      },
      "outputs": [],
      "source": [
        "## Tag 중 전부 'O'로 이루어진 문장 삭제\n",
        "def remove_o_sentence(ser):\n",
        "    o_all_flag = (ser=='O').all()\n",
        "    if(o_all_flag): return 'remove'\n",
        "    else: return ''\n",
        "\n",
        "gdf = df.groupby(by=sentence_col)[tag_col].apply(remove_o_sentence).reset_index()\n",
        "remove_sentence = list(gdf.loc[gdf[tag_col]=='remove',sentence_col])\n",
        "print('###########################################')\n",
        "print('(O 문장) 제거 수:', len(remove_sentence))\n",
        "print('(O 문장) 제거 대상 예시:', remove_sentence[:10])\n",
        "\n",
        "## Word에 NaN이 들어간 문장 삭제\n",
        "remove_sentence2 = list(df.loc[df[word_col].isna(),sentence_col].unique())\n",
        "print('###########################################')\n",
        "print('(nan 포함 문장) 제거 수:', len(remove_sentence2))\n",
        "print('(nan 포함 문장) 제거 대상 예시:', remove_sentence2)\n",
        "\n",
        "remove_sentence = list(dict.fromkeys(remove_sentence+remove_sentence2))\n",
        "df = df[~df[sentence_col].isin(remove_sentence)].reset_index(drop=True)\n",
        "\n",
        "## data check\n",
        "gdf = df.groupby(by=sentence_col)[word_col].count().reset_index()\n",
        "print('###########################################')\n",
        "print('(전처리 후)문장 개수:', len(gdf))\n",
        "print('(전처리 후)최대 문장 길이:', gdf[word_col].max())\n",
        "\n",
        "plt.hist(gdf[word_col],bins=100)\n",
        "plt.title('sentence length distribution(after preprocessing)')\n",
        "plt.show()"
      ]
    },
    {
      "cell_type": "code",
      "execution_count": null,
      "metadata": {
        "colab": {
          "base_uri": "https://localhost:8080/"
        },
        "id": "BtWzo0pQmQcA",
        "outputId": "fee483a2-c45b-46f2-a670-e37d6e93997b"
      },
      "outputs": [],
      "source": [
        "## label check\n",
        "tag_list = list(df[tag_col].unique())\n",
        "print('tag 수:', len(tag_list))\n",
        "print(tag_list)\n",
        "\n",
        "tag_info = {}\n",
        "label_info = {}\n",
        "for i in range(len(tag_list)):\n",
        "    tag_info[tag_list[i]] = i\n",
        "    label_info[i] = tag_list[i]\n",
        "\n",
        "tag_info"
      ]
    },
    {
      "cell_type": "code",
      "execution_count": null,
      "metadata": {
        "colab": {
          "base_uri": "https://localhost:8080/"
        },
        "id": "OuCqesgJmQcA",
        "outputId": "6db675b5-6ade-4409-be0e-6a34c4e10628"
      },
      "outputs": [],
      "source": [
        "label_info"
      ]
    },
    {
      "cell_type": "code",
      "execution_count": null,
      "metadata": {
        "colab": {
          "base_uri": "https://localhost:8080/",
          "height": 290,
          "referenced_widgets": [
            "e5018c0342fe4c948577462fb9b2a23d",
            "41abf14e2c784030bbf00b0d62e8f86a",
            "583cabdaed454fb1aaafa4764aba5e51",
            "d92b495946bd4690b4da2ca758b30939",
            "5d0f27fd3fb34948a799d9c664d2408c",
            "731a550ada0248bd85753be47b8c30d1",
            "7eb65b1fb283494cb5a3514c06d5a940",
            "7da0449a10cb4612a735433ab03443c5",
            "55a52a262bd24703adb7bf8b3764bdc6",
            "4a5319ab807a4b92bf70b389460f68ef",
            "daf1ec35781045f0a6c1da6215b74315",
            "8dfc5261ebc447f88224a03bdc1772fa",
            "a68403028f1e4f1ba3c799e8c7f7025c",
            "3c92b5bde0ee4a14ba0f10991b9948c6",
            "16e10861262445ecabc0f401d09104f1",
            "fcd6c70a043543b0951aa5d65b70487b",
            "0105a7a636ff4394bd799d2d3f5102ec",
            "4ab2c25b30b94308a3d15d056dba70a0",
            "364bf36c794145a89fff7cbec9c28ab9",
            "9bf225ac555e4eac9dc8f8f874d66a47",
            "d4b6a53665524ba488c6c03c586c830f",
            "bfb0453efccc4e9a8b7b643b7448f227",
            "1e27a5526b30435a948f905aeb304547",
            "2a6dba92d15942b6992a4504afeb68a1",
            "22091693f2a44014b9e4558695f1ca57",
            "f502482c490b4e57a83ad5cfae7d95b1",
            "f483fb2bb5474a16ba14e7a55fed9674",
            "a1824908c1d14de09a5135acf48bb803",
            "61435e3d492e4e1e8ac88044775ae051",
            "fb9be36aed8e4c73a8819c78ce83e6c7",
            "25c42f600a164206960b58ce5fa85d3f",
            "4f632fee79d64eeb8e96612b5118e16c",
            "b455a0fbd5994717941a4e8225e097a0",
            "4e17a1ecf5c04d0cb3205e870e5ed040",
            "927a23eb5b264aa2b3340323343b2ff9",
            "e1f71e0e20c64d8cbc7f5272c200f933",
            "3a9fbd2812e441279c3fca72bdcc91fa",
            "12c1e0ff98384c58ac03bd7a0bd0a475",
            "ac3bec4ebc7f4f3db736b43d004c3b49",
            "b09ffcdf7e40411da9d97d8a6d12926f",
            "5a7f41b3d5ad4c2a9762d6ab68ec6866",
            "dbd6695a4c5e4d9daadbcb97361fe6a1",
            "e1ead63a6c4244e2833e2879f1295133",
            "167789bd42cd4eaaab384df8dc9f8046"
          ]
        },
        "id": "8owPIYoPmQcA",
        "outputId": "ebf728af-3c11-4d86-ae44-816ceb6f4e89"
      },
      "outputs": [],
      "source": [
        "tokenizer = torch.hub.load('huggingface/pytorch-transformers', 'tokenizer', 'distilbert-base-uncased')\n",
        "\n",
        "df['Token'] = df[word_col].apply(lambda word: tokenizer(word).input_ids[1])\n",
        "df['Label'] = [tag_info[x] for x in df[tag_col]]"
      ]
    },
    {
      "cell_type": "markdown",
      "metadata": {
        "id": "hSmOsDc8mQcB"
      },
      "source": [
        "## [MY CODE] data를 하나의 row로 변환 및 train, test 분할"
      ]
    },
    {
      "cell_type": "code",
      "execution_count": null,
      "metadata": {
        "colab": {
          "base_uri": "https://localhost:8080/",
          "height": 293
        },
        "id": "J_ybgPtpmQcB",
        "outputId": "d3bc7903-1cf0-45dc-fe7e-f930bc64a715"
      },
      "outputs": [],
      "source": [
        "df_list = []\n",
        "for col  in [word_col,'Token','Label']:\n",
        "    df_list.append(df.groupby(by=[sentence_col])[col].apply(list))\n",
        "\n",
        "rst_df = pd.concat(df_list, axis=1)\n",
        "rst_df = rst_df.reset_index()\n",
        "#rst_df = rst_df.reset_index().rename(columns={'index':'id'})\n",
        "input_df = rst_df[[word_col,'Token','Label']]\n",
        "input_df.head()\n"
      ]
    },
    {
      "cell_type": "code",
      "execution_count": null,
      "metadata": {
        "id": "-vWcGnWymQcB"
      },
      "outputs": [],
      "source": [
        "from sklearn.model_selection import train_test_split\n",
        "train_df,test_df = train_test_split(input_df, test_size = 0.2, random_state = 42)"
      ]
    },
    {
      "cell_type": "markdown",
      "metadata": {
        "id": "pDr_w0l5mQcB"
      },
      "source": [
        "## [MY CODE] Dataset으로 만들기"
      ]
    },
    {
      "cell_type": "code",
      "execution_count": null,
      "metadata": {
        "id": "hv7p8RGWmQcB"
      },
      "outputs": [],
      "source": [
        "from torch.utils.data import Dataset\n",
        "from torch.utils.data import DataLoader\n",
        "\n",
        "from torch.nn.utils.rnn import pad_sequence\n",
        "\n",
        "# dataframe을 넣어서 torch의 Dataset으로 변경하는 class\n",
        "class NER_Dataset(Dataset):\n",
        "    def __init__(self, df):\n",
        "        self.data = df.to_dict(orient='records')\n",
        "\n",
        "    def __len__(self):\n",
        "        return len(self.data)\n",
        "\n",
        "    def __getitem__(self, idx):\n",
        "        x = self.data[idx]['Word']\n",
        "        y = self.data[idx]['Label']\n",
        "\n",
        "        return x, y\n",
        "\n",
        "# collate 함수에서 label의 shape을 input shape을 맞추기 위해 직접 pad를 넣는 함수\n",
        "def pad_labels(labels, max_length):\n",
        "    padded_labels = [label+[0]*(max_length-len(label)) for label in labels]\n",
        "    return torch.tensor(padded_labels, dtype=torch.long)\n",
        "\n",
        "def collate_fn(batch):\n",
        "    max_len = 104\n",
        "    texts, labels = [], []\n",
        "    for row in batch:\n",
        "        texts.append(row[0])\n",
        "        labels.append(row[1])\n",
        "\n",
        "    # 하나의 문장이 아닌 경우, list로 된 문장을 개별로 tokenize. 이후 pad_sequence로 하나의 tensor로 맞춘다\n",
        "    encodings = [tokenizer(sentence, padding='max_length', truncation=True, max_length=max_len, is_split_into_words=True, return_tensors='pt') for sentence in texts]\n",
        "    input_ids = [enc.input_ids.squeeze(0) for enc in encodings]\n",
        "    masks = [enc.attention_mask.squeeze(0) for enc in encodings]\n",
        "\n",
        "    input_ids = pad_sequence(input_ids, batch_first=True)\n",
        "    masks = pad_sequence(masks, batch_first=True)\n",
        "\n",
        "    labels = pad_labels(labels,max_len)\n",
        "\n",
        "    return input_ids, masks, labels\n",
        "\n",
        "\n",
        "ds_train = NER_Dataset(df=train_df)\n",
        "train_loader = DataLoader(\n",
        "    ds_train, batch_size=64, shuffle=True, collate_fn=collate_fn\n",
        ")\n",
        "\n",
        "ds_test = NER_Dataset(df=test_df)\n",
        "test_loader = DataLoader(\n",
        "    ds_test, batch_size=64, shuffle=False, collate_fn=collate_fn\n",
        ")"
      ]
    },
    {
      "cell_type": "code",
      "execution_count": null,
      "metadata": {
        "colab": {
          "base_uri": "https://localhost:8080/"
        },
        "id": "YCk73ERqmQcB",
        "outputId": "1925e6b8-747a-45a6-bc00-e888e6fdf53c"
      },
      "outputs": [],
      "source": [
        "for data in train_loader:\n",
        "    inputs, masks, labels = data\n",
        "    break\n",
        "\n",
        "inputs"
      ]
    },
    {
      "cell_type": "code",
      "execution_count": null,
      "metadata": {
        "colab": {
          "base_uri": "https://localhost:8080/"
        },
        "id": "bg2OA5bTmQcC",
        "outputId": "12357cf1-1770-416d-ada9-4f7b4595d1f4"
      },
      "outputs": [],
      "source": [
        "labels"
      ]
    },
    {
      "cell_type": "code",
      "execution_count": null,
      "metadata": {
        "colab": {
          "base_uri": "https://localhost:8080/"
        },
        "id": "abxA3HF3mQcC",
        "outputId": "608290dd-559a-4fa7-daaf-9bccc1386984"
      },
      "outputs": [],
      "source": [
        "print(f'input shape: {inputs.shape} | mask shape\" {masks.shape} | label shape: {labels.shape}')"
      ]
    },
    {
      "cell_type": "markdown",
      "metadata": {
        "id": "VZum7kWamQcC"
      },
      "source": [
        "## [LOG] 모델 입력,출력 tensor의 shape 확인"
      ]
    },
    {
      "cell_type": "markdown",
      "metadata": {
        "id": "RuCvT-ppmQcC"
      },
      "source": [
        "## [MY CODE] Model 정의"
      ]
    },
    {
      "cell_type": "code",
      "execution_count": null,
      "metadata": {
        "colab": {
          "base_uri": "https://localhost:8080/"
        },
        "id": "Cf_2ia7LmQcC",
        "outputId": "811af895-915a-43bd-eb4f-dee4466c90a6"
      },
      "outputs": [],
      "source": [
        "model = torch.hub.load('huggingface/pytorch-transformers', 'model', 'distilbert-base-uncased')\n",
        "model"
      ]
    },
    {
      "cell_type": "code",
      "execution_count": null,
      "metadata": {
        "colab": {
          "base_uri": "https://localhost:8080/"
        },
        "id": "x_DaGz7mmQcC",
        "outputId": "1f64dc1a-09d3-46ca-ab66-c45c94671047"
      },
      "outputs": [],
      "source": [
        "from torch import nn\n",
        "from torch.optim import Adam\n",
        "\n",
        "\n",
        "class NerClassifier(nn.Module):\n",
        "  def __init__(self, num_labels):\n",
        "    super().__init__()\n",
        "    self.num_labels = num_labels\n",
        "\n",
        "    self.encoder = torch.hub.load('huggingface/pytorch-transformers', 'model', 'distilbert-base-uncased')\n",
        "    self.classifier = torch.nn.Linear(self.encoder.config.hidden_size, num_labels)\n",
        "\n",
        "  def forward(self, x, mask):\n",
        "    x = self.encoder(input_ids=x, attention_mask=mask)['last_hidden_state']\n",
        "    x = self.classifier(x)\n",
        "\n",
        "    return x\n",
        "\n",
        "\n",
        "# 최대 문장 길이\n",
        "num_labels = len(label_info)\n",
        "model = NerClassifier(num_labels)\n",
        "\n",
        "# model freeze\n",
        "for param in model.encoder.parameters():\n",
        "  param.requires_grad = False\n",
        "\n",
        "\n",
        "model = model.to(device)\n",
        "# loss function 변경, 다중분류\n",
        "loss_fn = nn.CrossEntropyLoss(ignore_index=0)\n",
        "\n",
        "lr = 0.001\n",
        "optimizer = Adam(model.parameters(), lr=lr)"
      ]
    },
    {
      "cell_type": "markdown",
      "metadata": {
        "id": "CbZVWXV71iDt"
      },
      "source": [
        "## [MY CODE] model 학습"
      ]
    },
    {
      "cell_type": "code",
      "execution_count": null,
      "metadata": {
        "colab": {
          "base_uri": "https://localhost:8080/"
        },
        "id": "PvMQunUhmQcC",
        "outputId": "0eba702f-b782-4ebe-e8fa-deed1760e129"
      },
      "outputs": [],
      "source": [
        "import time\n",
        "\n",
        "n_epochs = 20\n",
        "\n",
        "loss_list = []\n",
        "for epoch in range(n_epochs):\n",
        "  total_loss = 0.\n",
        "  model.train()\n",
        "\n",
        "  start = time.time()\n",
        "  for data in train_loader:\n",
        "    model.zero_grad()\n",
        "    inputs, masks, labels = data\n",
        "    inputs, masks, labels = inputs.to(device), masks.to(device), labels.to(device).long()\n",
        "\n",
        "    preds = model(inputs, masks) # batch x word_dims x num_labels\n",
        "    preds = preds.view(-1, preds.shape[-1]) # batch*word_dims x num_labels\n",
        "    labels2 = labels.view(-1) # batch*word_dims\n",
        "    loss = loss_fn(preds, labels2)\n",
        "    loss.backward()\n",
        "    optimizer.step()\n",
        "\n",
        "    total_loss += loss.item()\n",
        "\n",
        "  end = time.time() - start\n",
        "  average_loss = total_loss/len(train_loader)\n",
        "  loss_list.append(average_loss)\n",
        "  print(f\"Epoch {epoch:3d} | Time : {end} | Train Loss: {total_loss} | Average Train Loss: {average_loss}\")\n"
      ]
    },
    {
      "cell_type": "code",
      "execution_count": null,
      "metadata": {
        "colab": {
          "base_uri": "https://localhost:8080/",
          "height": 430
        },
        "id": "GQ3ZLf9Eymwa",
        "outputId": "21117663-ab36-4c0c-ee5a-dd495fbcbb90"
      },
      "outputs": [],
      "source": [
        "import numpy as np\n",
        "from matplotlib import pyplot as plt\n",
        "\n",
        "x = np.arange(len(loss_list))\n",
        "\n",
        "plt.plot(x, loss_list, label='loss')\n",
        "plt.show()"
      ]
    },
    {
      "cell_type": "markdown",
      "metadata": {
        "id": "e-CjqflbyEcc"
      },
      "source": [
        "## [LOG] 학습결과: loss가 조금씩 내려가고 있다."
      ]
    },
    {
      "cell_type": "code",
      "execution_count": null,
      "metadata": {
        "id": "rkmtzU3RymDm"
      },
      "outputs": [],
      "source": []
    },
    {
      "cell_type": "code",
      "execution_count": null,
      "metadata": {
        "id": "7_WXcDjBmQcC"
      },
      "outputs": [],
      "source": [
        "# 기존 accuracy 코드\n",
        "# with torch.no_grad():\n",
        "#   model.eval()\n",
        "#   train_acc = accuracy(model, train_loader, device)\n",
        "#   test_acc = accuracy(model, test_loader, device)\n",
        "#   print(f\"=========> Train acc: {train_acc:.3f} | Test acc: {test_acc:.3f}\")"
      ]
    },
    {
      "cell_type": "markdown",
      "metadata": {
        "id": "YKuzVuokvC1O"
      },
      "source": [
        "## [FEEDBACK] accuracy를 어떻게 비교해야 할 지 모르겠습니다."
      ]
    },
    {
      "cell_type": "code",
      "execution_count": null,
      "metadata": {
        "id": "TF2iXxhcmQcD"
      },
      "outputs": [],
      "source": []
    }
  ],
  "metadata": {
    "accelerator": "GPU",
    "colab": {
      "gpuType": "T4",
      "include_colab_link": true,
      "provenance": []
    },
    "kernelspec": {
      "display_name": "Python 3",
      "name": "python3"
    },
    "language_info": {
      "codemirror_mode": {
        "name": "ipython",
        "version": 3
      },
      "file_extension": ".py",
      "mimetype": "text/x-python",
      "name": "python",
      "nbconvert_exporter": "python",
      "pygments_lexer": "ipython3",
      "version": "3.11.9"
    },
    "widgets": {
      "application/vnd.jupyter.widget-state+json": {
        "0105a7a636ff4394bd799d2d3f5102ec": {
          "model_module": "@jupyter-widgets/base",
          "model_module_version": "1.2.0",
          "model_name": "LayoutModel",
          "state": {
            "_model_module": "@jupyter-widgets/base",
            "_model_module_version": "1.2.0",
            "_model_name": "LayoutModel",
            "_view_count": null,
            "_view_module": "@jupyter-widgets/base",
            "_view_module_version": "1.2.0",
            "_view_name": "LayoutView",
            "align_content": null,
            "align_items": null,
            "align_self": null,
            "border": null,
            "bottom": null,
            "display": null,
            "flex": null,
            "flex_flow": null,
            "grid_area": null,
            "grid_auto_columns": null,
            "grid_auto_flow": null,
            "grid_auto_rows": null,
            "grid_column": null,
            "grid_gap": null,
            "grid_row": null,
            "grid_template_areas": null,
            "grid_template_columns": null,
            "grid_template_rows": null,
            "height": null,
            "justify_content": null,
            "justify_items": null,
            "left": null,
            "margin": null,
            "max_height": null,
            "max_width": null,
            "min_height": null,
            "min_width": null,
            "object_fit": null,
            "object_position": null,
            "order": null,
            "overflow": null,
            "overflow_x": null,
            "overflow_y": null,
            "padding": null,
            "right": null,
            "top": null,
            "visibility": null,
            "width": null
          }
        },
        "12c1e0ff98384c58ac03bd7a0bd0a475": {
          "model_module": "@jupyter-widgets/base",
          "model_module_version": "1.2.0",
          "model_name": "LayoutModel",
          "state": {
            "_model_module": "@jupyter-widgets/base",
            "_model_module_version": "1.2.0",
            "_model_name": "LayoutModel",
            "_view_count": null,
            "_view_module": "@jupyter-widgets/base",
            "_view_module_version": "1.2.0",
            "_view_name": "LayoutView",
            "align_content": null,
            "align_items": null,
            "align_self": null,
            "border": null,
            "bottom": null,
            "display": null,
            "flex": null,
            "flex_flow": null,
            "grid_area": null,
            "grid_auto_columns": null,
            "grid_auto_flow": null,
            "grid_auto_rows": null,
            "grid_column": null,
            "grid_gap": null,
            "grid_row": null,
            "grid_template_areas": null,
            "grid_template_columns": null,
            "grid_template_rows": null,
            "height": null,
            "justify_content": null,
            "justify_items": null,
            "left": null,
            "margin": null,
            "max_height": null,
            "max_width": null,
            "min_height": null,
            "min_width": null,
            "object_fit": null,
            "object_position": null,
            "order": null,
            "overflow": null,
            "overflow_x": null,
            "overflow_y": null,
            "padding": null,
            "right": null,
            "top": null,
            "visibility": null,
            "width": null
          }
        },
        "167789bd42cd4eaaab384df8dc9f8046": {
          "model_module": "@jupyter-widgets/controls",
          "model_module_version": "1.5.0",
          "model_name": "DescriptionStyleModel",
          "state": {
            "_model_module": "@jupyter-widgets/controls",
            "_model_module_version": "1.5.0",
            "_model_name": "DescriptionStyleModel",
            "_view_count": null,
            "_view_module": "@jupyter-widgets/base",
            "_view_module_version": "1.2.0",
            "_view_name": "StyleView",
            "description_width": ""
          }
        },
        "16e10861262445ecabc0f401d09104f1": {
          "model_module": "@jupyter-widgets/controls",
          "model_module_version": "1.5.0",
          "model_name": "HTMLModel",
          "state": {
            "_dom_classes": [],
            "_model_module": "@jupyter-widgets/controls",
            "_model_module_version": "1.5.0",
            "_model_name": "HTMLModel",
            "_view_count": null,
            "_view_module": "@jupyter-widgets/controls",
            "_view_module_version": "1.5.0",
            "_view_name": "HTMLView",
            "description": "",
            "description_tooltip": null,
            "layout": "IPY_MODEL_d4b6a53665524ba488c6c03c586c830f",
            "placeholder": "​",
            "style": "IPY_MODEL_bfb0453efccc4e9a8b7b643b7448f227",
            "value": " 483/483 [00:00&lt;00:00, 36.6kB/s]"
          }
        },
        "1e27a5526b30435a948f905aeb304547": {
          "model_module": "@jupyter-widgets/controls",
          "model_module_version": "1.5.0",
          "model_name": "HBoxModel",
          "state": {
            "_dom_classes": [],
            "_model_module": "@jupyter-widgets/controls",
            "_model_module_version": "1.5.0",
            "_model_name": "HBoxModel",
            "_view_count": null,
            "_view_module": "@jupyter-widgets/controls",
            "_view_module_version": "1.5.0",
            "_view_name": "HBoxView",
            "box_style": "",
            "children": [
              "IPY_MODEL_2a6dba92d15942b6992a4504afeb68a1",
              "IPY_MODEL_22091693f2a44014b9e4558695f1ca57",
              "IPY_MODEL_f502482c490b4e57a83ad5cfae7d95b1"
            ],
            "layout": "IPY_MODEL_f483fb2bb5474a16ba14e7a55fed9674"
          }
        },
        "22091693f2a44014b9e4558695f1ca57": {
          "model_module": "@jupyter-widgets/controls",
          "model_module_version": "1.5.0",
          "model_name": "FloatProgressModel",
          "state": {
            "_dom_classes": [],
            "_model_module": "@jupyter-widgets/controls",
            "_model_module_version": "1.5.0",
            "_model_name": "FloatProgressModel",
            "_view_count": null,
            "_view_module": "@jupyter-widgets/controls",
            "_view_module_version": "1.5.0",
            "_view_name": "ProgressView",
            "bar_style": "success",
            "description": "",
            "description_tooltip": null,
            "layout": "IPY_MODEL_fb9be36aed8e4c73a8819c78ce83e6c7",
            "max": 231508,
            "min": 0,
            "orientation": "horizontal",
            "style": "IPY_MODEL_25c42f600a164206960b58ce5fa85d3f",
            "value": 231508
          }
        },
        "25c42f600a164206960b58ce5fa85d3f": {
          "model_module": "@jupyter-widgets/controls",
          "model_module_version": "1.5.0",
          "model_name": "ProgressStyleModel",
          "state": {
            "_model_module": "@jupyter-widgets/controls",
            "_model_module_version": "1.5.0",
            "_model_name": "ProgressStyleModel",
            "_view_count": null,
            "_view_module": "@jupyter-widgets/base",
            "_view_module_version": "1.2.0",
            "_view_name": "StyleView",
            "bar_color": null,
            "description_width": ""
          }
        },
        "2a6dba92d15942b6992a4504afeb68a1": {
          "model_module": "@jupyter-widgets/controls",
          "model_module_version": "1.5.0",
          "model_name": "HTMLModel",
          "state": {
            "_dom_classes": [],
            "_model_module": "@jupyter-widgets/controls",
            "_model_module_version": "1.5.0",
            "_model_name": "HTMLModel",
            "_view_count": null,
            "_view_module": "@jupyter-widgets/controls",
            "_view_module_version": "1.5.0",
            "_view_name": "HTMLView",
            "description": "",
            "description_tooltip": null,
            "layout": "IPY_MODEL_a1824908c1d14de09a5135acf48bb803",
            "placeholder": "​",
            "style": "IPY_MODEL_61435e3d492e4e1e8ac88044775ae051",
            "value": "vocab.txt: 100%"
          }
        },
        "364bf36c794145a89fff7cbec9c28ab9": {
          "model_module": "@jupyter-widgets/base",
          "model_module_version": "1.2.0",
          "model_name": "LayoutModel",
          "state": {
            "_model_module": "@jupyter-widgets/base",
            "_model_module_version": "1.2.0",
            "_model_name": "LayoutModel",
            "_view_count": null,
            "_view_module": "@jupyter-widgets/base",
            "_view_module_version": "1.2.0",
            "_view_name": "LayoutView",
            "align_content": null,
            "align_items": null,
            "align_self": null,
            "border": null,
            "bottom": null,
            "display": null,
            "flex": null,
            "flex_flow": null,
            "grid_area": null,
            "grid_auto_columns": null,
            "grid_auto_flow": null,
            "grid_auto_rows": null,
            "grid_column": null,
            "grid_gap": null,
            "grid_row": null,
            "grid_template_areas": null,
            "grid_template_columns": null,
            "grid_template_rows": null,
            "height": null,
            "justify_content": null,
            "justify_items": null,
            "left": null,
            "margin": null,
            "max_height": null,
            "max_width": null,
            "min_height": null,
            "min_width": null,
            "object_fit": null,
            "object_position": null,
            "order": null,
            "overflow": null,
            "overflow_x": null,
            "overflow_y": null,
            "padding": null,
            "right": null,
            "top": null,
            "visibility": null,
            "width": null
          }
        },
        "3a9fbd2812e441279c3fca72bdcc91fa": {
          "model_module": "@jupyter-widgets/controls",
          "model_module_version": "1.5.0",
          "model_name": "HTMLModel",
          "state": {
            "_dom_classes": [],
            "_model_module": "@jupyter-widgets/controls",
            "_model_module_version": "1.5.0",
            "_model_name": "HTMLModel",
            "_view_count": null,
            "_view_module": "@jupyter-widgets/controls",
            "_view_module_version": "1.5.0",
            "_view_name": "HTMLView",
            "description": "",
            "description_tooltip": null,
            "layout": "IPY_MODEL_e1ead63a6c4244e2833e2879f1295133",
            "placeholder": "​",
            "style": "IPY_MODEL_167789bd42cd4eaaab384df8dc9f8046",
            "value": " 466k/466k [00:00&lt;00:00, 3.30MB/s]"
          }
        },
        "3c92b5bde0ee4a14ba0f10991b9948c6": {
          "model_module": "@jupyter-widgets/controls",
          "model_module_version": "1.5.0",
          "model_name": "FloatProgressModel",
          "state": {
            "_dom_classes": [],
            "_model_module": "@jupyter-widgets/controls",
            "_model_module_version": "1.5.0",
            "_model_name": "FloatProgressModel",
            "_view_count": null,
            "_view_module": "@jupyter-widgets/controls",
            "_view_module_version": "1.5.0",
            "_view_name": "ProgressView",
            "bar_style": "success",
            "description": "",
            "description_tooltip": null,
            "layout": "IPY_MODEL_364bf36c794145a89fff7cbec9c28ab9",
            "max": 483,
            "min": 0,
            "orientation": "horizontal",
            "style": "IPY_MODEL_9bf225ac555e4eac9dc8f8f874d66a47",
            "value": 483
          }
        },
        "41abf14e2c784030bbf00b0d62e8f86a": {
          "model_module": "@jupyter-widgets/controls",
          "model_module_version": "1.5.0",
          "model_name": "HTMLModel",
          "state": {
            "_dom_classes": [],
            "_model_module": "@jupyter-widgets/controls",
            "_model_module_version": "1.5.0",
            "_model_name": "HTMLModel",
            "_view_count": null,
            "_view_module": "@jupyter-widgets/controls",
            "_view_module_version": "1.5.0",
            "_view_name": "HTMLView",
            "description": "",
            "description_tooltip": null,
            "layout": "IPY_MODEL_731a550ada0248bd85753be47b8c30d1",
            "placeholder": "​",
            "style": "IPY_MODEL_7eb65b1fb283494cb5a3514c06d5a940",
            "value": "tokenizer_config.json: 100%"
          }
        },
        "4a5319ab807a4b92bf70b389460f68ef": {
          "model_module": "@jupyter-widgets/base",
          "model_module_version": "1.2.0",
          "model_name": "LayoutModel",
          "state": {
            "_model_module": "@jupyter-widgets/base",
            "_model_module_version": "1.2.0",
            "_model_name": "LayoutModel",
            "_view_count": null,
            "_view_module": "@jupyter-widgets/base",
            "_view_module_version": "1.2.0",
            "_view_name": "LayoutView",
            "align_content": null,
            "align_items": null,
            "align_self": null,
            "border": null,
            "bottom": null,
            "display": null,
            "flex": null,
            "flex_flow": null,
            "grid_area": null,
            "grid_auto_columns": null,
            "grid_auto_flow": null,
            "grid_auto_rows": null,
            "grid_column": null,
            "grid_gap": null,
            "grid_row": null,
            "grid_template_areas": null,
            "grid_template_columns": null,
            "grid_template_rows": null,
            "height": null,
            "justify_content": null,
            "justify_items": null,
            "left": null,
            "margin": null,
            "max_height": null,
            "max_width": null,
            "min_height": null,
            "min_width": null,
            "object_fit": null,
            "object_position": null,
            "order": null,
            "overflow": null,
            "overflow_x": null,
            "overflow_y": null,
            "padding": null,
            "right": null,
            "top": null,
            "visibility": null,
            "width": null
          }
        },
        "4ab2c25b30b94308a3d15d056dba70a0": {
          "model_module": "@jupyter-widgets/controls",
          "model_module_version": "1.5.0",
          "model_name": "DescriptionStyleModel",
          "state": {
            "_model_module": "@jupyter-widgets/controls",
            "_model_module_version": "1.5.0",
            "_model_name": "DescriptionStyleModel",
            "_view_count": null,
            "_view_module": "@jupyter-widgets/base",
            "_view_module_version": "1.2.0",
            "_view_name": "StyleView",
            "description_width": ""
          }
        },
        "4e17a1ecf5c04d0cb3205e870e5ed040": {
          "model_module": "@jupyter-widgets/controls",
          "model_module_version": "1.5.0",
          "model_name": "HBoxModel",
          "state": {
            "_dom_classes": [],
            "_model_module": "@jupyter-widgets/controls",
            "_model_module_version": "1.5.0",
            "_model_name": "HBoxModel",
            "_view_count": null,
            "_view_module": "@jupyter-widgets/controls",
            "_view_module_version": "1.5.0",
            "_view_name": "HBoxView",
            "box_style": "",
            "children": [
              "IPY_MODEL_927a23eb5b264aa2b3340323343b2ff9",
              "IPY_MODEL_e1f71e0e20c64d8cbc7f5272c200f933",
              "IPY_MODEL_3a9fbd2812e441279c3fca72bdcc91fa"
            ],
            "layout": "IPY_MODEL_12c1e0ff98384c58ac03bd7a0bd0a475"
          }
        },
        "4f632fee79d64eeb8e96612b5118e16c": {
          "model_module": "@jupyter-widgets/base",
          "model_module_version": "1.2.0",
          "model_name": "LayoutModel",
          "state": {
            "_model_module": "@jupyter-widgets/base",
            "_model_module_version": "1.2.0",
            "_model_name": "LayoutModel",
            "_view_count": null,
            "_view_module": "@jupyter-widgets/base",
            "_view_module_version": "1.2.0",
            "_view_name": "LayoutView",
            "align_content": null,
            "align_items": null,
            "align_self": null,
            "border": null,
            "bottom": null,
            "display": null,
            "flex": null,
            "flex_flow": null,
            "grid_area": null,
            "grid_auto_columns": null,
            "grid_auto_flow": null,
            "grid_auto_rows": null,
            "grid_column": null,
            "grid_gap": null,
            "grid_row": null,
            "grid_template_areas": null,
            "grid_template_columns": null,
            "grid_template_rows": null,
            "height": null,
            "justify_content": null,
            "justify_items": null,
            "left": null,
            "margin": null,
            "max_height": null,
            "max_width": null,
            "min_height": null,
            "min_width": null,
            "object_fit": null,
            "object_position": null,
            "order": null,
            "overflow": null,
            "overflow_x": null,
            "overflow_y": null,
            "padding": null,
            "right": null,
            "top": null,
            "visibility": null,
            "width": null
          }
        },
        "55a52a262bd24703adb7bf8b3764bdc6": {
          "model_module": "@jupyter-widgets/controls",
          "model_module_version": "1.5.0",
          "model_name": "ProgressStyleModel",
          "state": {
            "_model_module": "@jupyter-widgets/controls",
            "_model_module_version": "1.5.0",
            "_model_name": "ProgressStyleModel",
            "_view_count": null,
            "_view_module": "@jupyter-widgets/base",
            "_view_module_version": "1.2.0",
            "_view_name": "StyleView",
            "bar_color": null,
            "description_width": ""
          }
        },
        "583cabdaed454fb1aaafa4764aba5e51": {
          "model_module": "@jupyter-widgets/controls",
          "model_module_version": "1.5.0",
          "model_name": "FloatProgressModel",
          "state": {
            "_dom_classes": [],
            "_model_module": "@jupyter-widgets/controls",
            "_model_module_version": "1.5.0",
            "_model_name": "FloatProgressModel",
            "_view_count": null,
            "_view_module": "@jupyter-widgets/controls",
            "_view_module_version": "1.5.0",
            "_view_name": "ProgressView",
            "bar_style": "success",
            "description": "",
            "description_tooltip": null,
            "layout": "IPY_MODEL_7da0449a10cb4612a735433ab03443c5",
            "max": 48,
            "min": 0,
            "orientation": "horizontal",
            "style": "IPY_MODEL_55a52a262bd24703adb7bf8b3764bdc6",
            "value": 48
          }
        },
        "5a7f41b3d5ad4c2a9762d6ab68ec6866": {
          "model_module": "@jupyter-widgets/base",
          "model_module_version": "1.2.0",
          "model_name": "LayoutModel",
          "state": {
            "_model_module": "@jupyter-widgets/base",
            "_model_module_version": "1.2.0",
            "_model_name": "LayoutModel",
            "_view_count": null,
            "_view_module": "@jupyter-widgets/base",
            "_view_module_version": "1.2.0",
            "_view_name": "LayoutView",
            "align_content": null,
            "align_items": null,
            "align_self": null,
            "border": null,
            "bottom": null,
            "display": null,
            "flex": null,
            "flex_flow": null,
            "grid_area": null,
            "grid_auto_columns": null,
            "grid_auto_flow": null,
            "grid_auto_rows": null,
            "grid_column": null,
            "grid_gap": null,
            "grid_row": null,
            "grid_template_areas": null,
            "grid_template_columns": null,
            "grid_template_rows": null,
            "height": null,
            "justify_content": null,
            "justify_items": null,
            "left": null,
            "margin": null,
            "max_height": null,
            "max_width": null,
            "min_height": null,
            "min_width": null,
            "object_fit": null,
            "object_position": null,
            "order": null,
            "overflow": null,
            "overflow_x": null,
            "overflow_y": null,
            "padding": null,
            "right": null,
            "top": null,
            "visibility": null,
            "width": null
          }
        },
        "5d0f27fd3fb34948a799d9c664d2408c": {
          "model_module": "@jupyter-widgets/base",
          "model_module_version": "1.2.0",
          "model_name": "LayoutModel",
          "state": {
            "_model_module": "@jupyter-widgets/base",
            "_model_module_version": "1.2.0",
            "_model_name": "LayoutModel",
            "_view_count": null,
            "_view_module": "@jupyter-widgets/base",
            "_view_module_version": "1.2.0",
            "_view_name": "LayoutView",
            "align_content": null,
            "align_items": null,
            "align_self": null,
            "border": null,
            "bottom": null,
            "display": null,
            "flex": null,
            "flex_flow": null,
            "grid_area": null,
            "grid_auto_columns": null,
            "grid_auto_flow": null,
            "grid_auto_rows": null,
            "grid_column": null,
            "grid_gap": null,
            "grid_row": null,
            "grid_template_areas": null,
            "grid_template_columns": null,
            "grid_template_rows": null,
            "height": null,
            "justify_content": null,
            "justify_items": null,
            "left": null,
            "margin": null,
            "max_height": null,
            "max_width": null,
            "min_height": null,
            "min_width": null,
            "object_fit": null,
            "object_position": null,
            "order": null,
            "overflow": null,
            "overflow_x": null,
            "overflow_y": null,
            "padding": null,
            "right": null,
            "top": null,
            "visibility": null,
            "width": null
          }
        },
        "61435e3d492e4e1e8ac88044775ae051": {
          "model_module": "@jupyter-widgets/controls",
          "model_module_version": "1.5.0",
          "model_name": "DescriptionStyleModel",
          "state": {
            "_model_module": "@jupyter-widgets/controls",
            "_model_module_version": "1.5.0",
            "_model_name": "DescriptionStyleModel",
            "_view_count": null,
            "_view_module": "@jupyter-widgets/base",
            "_view_module_version": "1.2.0",
            "_view_name": "StyleView",
            "description_width": ""
          }
        },
        "731a550ada0248bd85753be47b8c30d1": {
          "model_module": "@jupyter-widgets/base",
          "model_module_version": "1.2.0",
          "model_name": "LayoutModel",
          "state": {
            "_model_module": "@jupyter-widgets/base",
            "_model_module_version": "1.2.0",
            "_model_name": "LayoutModel",
            "_view_count": null,
            "_view_module": "@jupyter-widgets/base",
            "_view_module_version": "1.2.0",
            "_view_name": "LayoutView",
            "align_content": null,
            "align_items": null,
            "align_self": null,
            "border": null,
            "bottom": null,
            "display": null,
            "flex": null,
            "flex_flow": null,
            "grid_area": null,
            "grid_auto_columns": null,
            "grid_auto_flow": null,
            "grid_auto_rows": null,
            "grid_column": null,
            "grid_gap": null,
            "grid_row": null,
            "grid_template_areas": null,
            "grid_template_columns": null,
            "grid_template_rows": null,
            "height": null,
            "justify_content": null,
            "justify_items": null,
            "left": null,
            "margin": null,
            "max_height": null,
            "max_width": null,
            "min_height": null,
            "min_width": null,
            "object_fit": null,
            "object_position": null,
            "order": null,
            "overflow": null,
            "overflow_x": null,
            "overflow_y": null,
            "padding": null,
            "right": null,
            "top": null,
            "visibility": null,
            "width": null
          }
        },
        "7da0449a10cb4612a735433ab03443c5": {
          "model_module": "@jupyter-widgets/base",
          "model_module_version": "1.2.0",
          "model_name": "LayoutModel",
          "state": {
            "_model_module": "@jupyter-widgets/base",
            "_model_module_version": "1.2.0",
            "_model_name": "LayoutModel",
            "_view_count": null,
            "_view_module": "@jupyter-widgets/base",
            "_view_module_version": "1.2.0",
            "_view_name": "LayoutView",
            "align_content": null,
            "align_items": null,
            "align_self": null,
            "border": null,
            "bottom": null,
            "display": null,
            "flex": null,
            "flex_flow": null,
            "grid_area": null,
            "grid_auto_columns": null,
            "grid_auto_flow": null,
            "grid_auto_rows": null,
            "grid_column": null,
            "grid_gap": null,
            "grid_row": null,
            "grid_template_areas": null,
            "grid_template_columns": null,
            "grid_template_rows": null,
            "height": null,
            "justify_content": null,
            "justify_items": null,
            "left": null,
            "margin": null,
            "max_height": null,
            "max_width": null,
            "min_height": null,
            "min_width": null,
            "object_fit": null,
            "object_position": null,
            "order": null,
            "overflow": null,
            "overflow_x": null,
            "overflow_y": null,
            "padding": null,
            "right": null,
            "top": null,
            "visibility": null,
            "width": null
          }
        },
        "7eb65b1fb283494cb5a3514c06d5a940": {
          "model_module": "@jupyter-widgets/controls",
          "model_module_version": "1.5.0",
          "model_name": "DescriptionStyleModel",
          "state": {
            "_model_module": "@jupyter-widgets/controls",
            "_model_module_version": "1.5.0",
            "_model_name": "DescriptionStyleModel",
            "_view_count": null,
            "_view_module": "@jupyter-widgets/base",
            "_view_module_version": "1.2.0",
            "_view_name": "StyleView",
            "description_width": ""
          }
        },
        "8dfc5261ebc447f88224a03bdc1772fa": {
          "model_module": "@jupyter-widgets/controls",
          "model_module_version": "1.5.0",
          "model_name": "HBoxModel",
          "state": {
            "_dom_classes": [],
            "_model_module": "@jupyter-widgets/controls",
            "_model_module_version": "1.5.0",
            "_model_name": "HBoxModel",
            "_view_count": null,
            "_view_module": "@jupyter-widgets/controls",
            "_view_module_version": "1.5.0",
            "_view_name": "HBoxView",
            "box_style": "",
            "children": [
              "IPY_MODEL_a68403028f1e4f1ba3c799e8c7f7025c",
              "IPY_MODEL_3c92b5bde0ee4a14ba0f10991b9948c6",
              "IPY_MODEL_16e10861262445ecabc0f401d09104f1"
            ],
            "layout": "IPY_MODEL_fcd6c70a043543b0951aa5d65b70487b"
          }
        },
        "927a23eb5b264aa2b3340323343b2ff9": {
          "model_module": "@jupyter-widgets/controls",
          "model_module_version": "1.5.0",
          "model_name": "HTMLModel",
          "state": {
            "_dom_classes": [],
            "_model_module": "@jupyter-widgets/controls",
            "_model_module_version": "1.5.0",
            "_model_name": "HTMLModel",
            "_view_count": null,
            "_view_module": "@jupyter-widgets/controls",
            "_view_module_version": "1.5.0",
            "_view_name": "HTMLView",
            "description": "",
            "description_tooltip": null,
            "layout": "IPY_MODEL_ac3bec4ebc7f4f3db736b43d004c3b49",
            "placeholder": "​",
            "style": "IPY_MODEL_b09ffcdf7e40411da9d97d8a6d12926f",
            "value": "tokenizer.json: 100%"
          }
        },
        "9bf225ac555e4eac9dc8f8f874d66a47": {
          "model_module": "@jupyter-widgets/controls",
          "model_module_version": "1.5.0",
          "model_name": "ProgressStyleModel",
          "state": {
            "_model_module": "@jupyter-widgets/controls",
            "_model_module_version": "1.5.0",
            "_model_name": "ProgressStyleModel",
            "_view_count": null,
            "_view_module": "@jupyter-widgets/base",
            "_view_module_version": "1.2.0",
            "_view_name": "StyleView",
            "bar_color": null,
            "description_width": ""
          }
        },
        "a1824908c1d14de09a5135acf48bb803": {
          "model_module": "@jupyter-widgets/base",
          "model_module_version": "1.2.0",
          "model_name": "LayoutModel",
          "state": {
            "_model_module": "@jupyter-widgets/base",
            "_model_module_version": "1.2.0",
            "_model_name": "LayoutModel",
            "_view_count": null,
            "_view_module": "@jupyter-widgets/base",
            "_view_module_version": "1.2.0",
            "_view_name": "LayoutView",
            "align_content": null,
            "align_items": null,
            "align_self": null,
            "border": null,
            "bottom": null,
            "display": null,
            "flex": null,
            "flex_flow": null,
            "grid_area": null,
            "grid_auto_columns": null,
            "grid_auto_flow": null,
            "grid_auto_rows": null,
            "grid_column": null,
            "grid_gap": null,
            "grid_row": null,
            "grid_template_areas": null,
            "grid_template_columns": null,
            "grid_template_rows": null,
            "height": null,
            "justify_content": null,
            "justify_items": null,
            "left": null,
            "margin": null,
            "max_height": null,
            "max_width": null,
            "min_height": null,
            "min_width": null,
            "object_fit": null,
            "object_position": null,
            "order": null,
            "overflow": null,
            "overflow_x": null,
            "overflow_y": null,
            "padding": null,
            "right": null,
            "top": null,
            "visibility": null,
            "width": null
          }
        },
        "a68403028f1e4f1ba3c799e8c7f7025c": {
          "model_module": "@jupyter-widgets/controls",
          "model_module_version": "1.5.0",
          "model_name": "HTMLModel",
          "state": {
            "_dom_classes": [],
            "_model_module": "@jupyter-widgets/controls",
            "_model_module_version": "1.5.0",
            "_model_name": "HTMLModel",
            "_view_count": null,
            "_view_module": "@jupyter-widgets/controls",
            "_view_module_version": "1.5.0",
            "_view_name": "HTMLView",
            "description": "",
            "description_tooltip": null,
            "layout": "IPY_MODEL_0105a7a636ff4394bd799d2d3f5102ec",
            "placeholder": "​",
            "style": "IPY_MODEL_4ab2c25b30b94308a3d15d056dba70a0",
            "value": "config.json: 100%"
          }
        },
        "ac3bec4ebc7f4f3db736b43d004c3b49": {
          "model_module": "@jupyter-widgets/base",
          "model_module_version": "1.2.0",
          "model_name": "LayoutModel",
          "state": {
            "_model_module": "@jupyter-widgets/base",
            "_model_module_version": "1.2.0",
            "_model_name": "LayoutModel",
            "_view_count": null,
            "_view_module": "@jupyter-widgets/base",
            "_view_module_version": "1.2.0",
            "_view_name": "LayoutView",
            "align_content": null,
            "align_items": null,
            "align_self": null,
            "border": null,
            "bottom": null,
            "display": null,
            "flex": null,
            "flex_flow": null,
            "grid_area": null,
            "grid_auto_columns": null,
            "grid_auto_flow": null,
            "grid_auto_rows": null,
            "grid_column": null,
            "grid_gap": null,
            "grid_row": null,
            "grid_template_areas": null,
            "grid_template_columns": null,
            "grid_template_rows": null,
            "height": null,
            "justify_content": null,
            "justify_items": null,
            "left": null,
            "margin": null,
            "max_height": null,
            "max_width": null,
            "min_height": null,
            "min_width": null,
            "object_fit": null,
            "object_position": null,
            "order": null,
            "overflow": null,
            "overflow_x": null,
            "overflow_y": null,
            "padding": null,
            "right": null,
            "top": null,
            "visibility": null,
            "width": null
          }
        },
        "b09ffcdf7e40411da9d97d8a6d12926f": {
          "model_module": "@jupyter-widgets/controls",
          "model_module_version": "1.5.0",
          "model_name": "DescriptionStyleModel",
          "state": {
            "_model_module": "@jupyter-widgets/controls",
            "_model_module_version": "1.5.0",
            "_model_name": "DescriptionStyleModel",
            "_view_count": null,
            "_view_module": "@jupyter-widgets/base",
            "_view_module_version": "1.2.0",
            "_view_name": "StyleView",
            "description_width": ""
          }
        },
        "b455a0fbd5994717941a4e8225e097a0": {
          "model_module": "@jupyter-widgets/controls",
          "model_module_version": "1.5.0",
          "model_name": "DescriptionStyleModel",
          "state": {
            "_model_module": "@jupyter-widgets/controls",
            "_model_module_version": "1.5.0",
            "_model_name": "DescriptionStyleModel",
            "_view_count": null,
            "_view_module": "@jupyter-widgets/base",
            "_view_module_version": "1.2.0",
            "_view_name": "StyleView",
            "description_width": ""
          }
        },
        "bfb0453efccc4e9a8b7b643b7448f227": {
          "model_module": "@jupyter-widgets/controls",
          "model_module_version": "1.5.0",
          "model_name": "DescriptionStyleModel",
          "state": {
            "_model_module": "@jupyter-widgets/controls",
            "_model_module_version": "1.5.0",
            "_model_name": "DescriptionStyleModel",
            "_view_count": null,
            "_view_module": "@jupyter-widgets/base",
            "_view_module_version": "1.2.0",
            "_view_name": "StyleView",
            "description_width": ""
          }
        },
        "d4b6a53665524ba488c6c03c586c830f": {
          "model_module": "@jupyter-widgets/base",
          "model_module_version": "1.2.0",
          "model_name": "LayoutModel",
          "state": {
            "_model_module": "@jupyter-widgets/base",
            "_model_module_version": "1.2.0",
            "_model_name": "LayoutModel",
            "_view_count": null,
            "_view_module": "@jupyter-widgets/base",
            "_view_module_version": "1.2.0",
            "_view_name": "LayoutView",
            "align_content": null,
            "align_items": null,
            "align_self": null,
            "border": null,
            "bottom": null,
            "display": null,
            "flex": null,
            "flex_flow": null,
            "grid_area": null,
            "grid_auto_columns": null,
            "grid_auto_flow": null,
            "grid_auto_rows": null,
            "grid_column": null,
            "grid_gap": null,
            "grid_row": null,
            "grid_template_areas": null,
            "grid_template_columns": null,
            "grid_template_rows": null,
            "height": null,
            "justify_content": null,
            "justify_items": null,
            "left": null,
            "margin": null,
            "max_height": null,
            "max_width": null,
            "min_height": null,
            "min_width": null,
            "object_fit": null,
            "object_position": null,
            "order": null,
            "overflow": null,
            "overflow_x": null,
            "overflow_y": null,
            "padding": null,
            "right": null,
            "top": null,
            "visibility": null,
            "width": null
          }
        },
        "d92b495946bd4690b4da2ca758b30939": {
          "model_module": "@jupyter-widgets/controls",
          "model_module_version": "1.5.0",
          "model_name": "HTMLModel",
          "state": {
            "_dom_classes": [],
            "_model_module": "@jupyter-widgets/controls",
            "_model_module_version": "1.5.0",
            "_model_name": "HTMLModel",
            "_view_count": null,
            "_view_module": "@jupyter-widgets/controls",
            "_view_module_version": "1.5.0",
            "_view_name": "HTMLView",
            "description": "",
            "description_tooltip": null,
            "layout": "IPY_MODEL_4a5319ab807a4b92bf70b389460f68ef",
            "placeholder": "​",
            "style": "IPY_MODEL_daf1ec35781045f0a6c1da6215b74315",
            "value": " 48.0/48.0 [00:00&lt;00:00, 2.80kB/s]"
          }
        },
        "daf1ec35781045f0a6c1da6215b74315": {
          "model_module": "@jupyter-widgets/controls",
          "model_module_version": "1.5.0",
          "model_name": "DescriptionStyleModel",
          "state": {
            "_model_module": "@jupyter-widgets/controls",
            "_model_module_version": "1.5.0",
            "_model_name": "DescriptionStyleModel",
            "_view_count": null,
            "_view_module": "@jupyter-widgets/base",
            "_view_module_version": "1.2.0",
            "_view_name": "StyleView",
            "description_width": ""
          }
        },
        "dbd6695a4c5e4d9daadbcb97361fe6a1": {
          "model_module": "@jupyter-widgets/controls",
          "model_module_version": "1.5.0",
          "model_name": "ProgressStyleModel",
          "state": {
            "_model_module": "@jupyter-widgets/controls",
            "_model_module_version": "1.5.0",
            "_model_name": "ProgressStyleModel",
            "_view_count": null,
            "_view_module": "@jupyter-widgets/base",
            "_view_module_version": "1.2.0",
            "_view_name": "StyleView",
            "bar_color": null,
            "description_width": ""
          }
        },
        "e1ead63a6c4244e2833e2879f1295133": {
          "model_module": "@jupyter-widgets/base",
          "model_module_version": "1.2.0",
          "model_name": "LayoutModel",
          "state": {
            "_model_module": "@jupyter-widgets/base",
            "_model_module_version": "1.2.0",
            "_model_name": "LayoutModel",
            "_view_count": null,
            "_view_module": "@jupyter-widgets/base",
            "_view_module_version": "1.2.0",
            "_view_name": "LayoutView",
            "align_content": null,
            "align_items": null,
            "align_self": null,
            "border": null,
            "bottom": null,
            "display": null,
            "flex": null,
            "flex_flow": null,
            "grid_area": null,
            "grid_auto_columns": null,
            "grid_auto_flow": null,
            "grid_auto_rows": null,
            "grid_column": null,
            "grid_gap": null,
            "grid_row": null,
            "grid_template_areas": null,
            "grid_template_columns": null,
            "grid_template_rows": null,
            "height": null,
            "justify_content": null,
            "justify_items": null,
            "left": null,
            "margin": null,
            "max_height": null,
            "max_width": null,
            "min_height": null,
            "min_width": null,
            "object_fit": null,
            "object_position": null,
            "order": null,
            "overflow": null,
            "overflow_x": null,
            "overflow_y": null,
            "padding": null,
            "right": null,
            "top": null,
            "visibility": null,
            "width": null
          }
        },
        "e1f71e0e20c64d8cbc7f5272c200f933": {
          "model_module": "@jupyter-widgets/controls",
          "model_module_version": "1.5.0",
          "model_name": "FloatProgressModel",
          "state": {
            "_dom_classes": [],
            "_model_module": "@jupyter-widgets/controls",
            "_model_module_version": "1.5.0",
            "_model_name": "FloatProgressModel",
            "_view_count": null,
            "_view_module": "@jupyter-widgets/controls",
            "_view_module_version": "1.5.0",
            "_view_name": "ProgressView",
            "bar_style": "success",
            "description": "",
            "description_tooltip": null,
            "layout": "IPY_MODEL_5a7f41b3d5ad4c2a9762d6ab68ec6866",
            "max": 466062,
            "min": 0,
            "orientation": "horizontal",
            "style": "IPY_MODEL_dbd6695a4c5e4d9daadbcb97361fe6a1",
            "value": 466062
          }
        },
        "e5018c0342fe4c948577462fb9b2a23d": {
          "model_module": "@jupyter-widgets/controls",
          "model_module_version": "1.5.0",
          "model_name": "HBoxModel",
          "state": {
            "_dom_classes": [],
            "_model_module": "@jupyter-widgets/controls",
            "_model_module_version": "1.5.0",
            "_model_name": "HBoxModel",
            "_view_count": null,
            "_view_module": "@jupyter-widgets/controls",
            "_view_module_version": "1.5.0",
            "_view_name": "HBoxView",
            "box_style": "",
            "children": [
              "IPY_MODEL_41abf14e2c784030bbf00b0d62e8f86a",
              "IPY_MODEL_583cabdaed454fb1aaafa4764aba5e51",
              "IPY_MODEL_d92b495946bd4690b4da2ca758b30939"
            ],
            "layout": "IPY_MODEL_5d0f27fd3fb34948a799d9c664d2408c"
          }
        },
        "f483fb2bb5474a16ba14e7a55fed9674": {
          "model_module": "@jupyter-widgets/base",
          "model_module_version": "1.2.0",
          "model_name": "LayoutModel",
          "state": {
            "_model_module": "@jupyter-widgets/base",
            "_model_module_version": "1.2.0",
            "_model_name": "LayoutModel",
            "_view_count": null,
            "_view_module": "@jupyter-widgets/base",
            "_view_module_version": "1.2.0",
            "_view_name": "LayoutView",
            "align_content": null,
            "align_items": null,
            "align_self": null,
            "border": null,
            "bottom": null,
            "display": null,
            "flex": null,
            "flex_flow": null,
            "grid_area": null,
            "grid_auto_columns": null,
            "grid_auto_flow": null,
            "grid_auto_rows": null,
            "grid_column": null,
            "grid_gap": null,
            "grid_row": null,
            "grid_template_areas": null,
            "grid_template_columns": null,
            "grid_template_rows": null,
            "height": null,
            "justify_content": null,
            "justify_items": null,
            "left": null,
            "margin": null,
            "max_height": null,
            "max_width": null,
            "min_height": null,
            "min_width": null,
            "object_fit": null,
            "object_position": null,
            "order": null,
            "overflow": null,
            "overflow_x": null,
            "overflow_y": null,
            "padding": null,
            "right": null,
            "top": null,
            "visibility": null,
            "width": null
          }
        },
        "f502482c490b4e57a83ad5cfae7d95b1": {
          "model_module": "@jupyter-widgets/controls",
          "model_module_version": "1.5.0",
          "model_name": "HTMLModel",
          "state": {
            "_dom_classes": [],
            "_model_module": "@jupyter-widgets/controls",
            "_model_module_version": "1.5.0",
            "_model_name": "HTMLModel",
            "_view_count": null,
            "_view_module": "@jupyter-widgets/controls",
            "_view_module_version": "1.5.0",
            "_view_name": "HTMLView",
            "description": "",
            "description_tooltip": null,
            "layout": "IPY_MODEL_4f632fee79d64eeb8e96612b5118e16c",
            "placeholder": "​",
            "style": "IPY_MODEL_b455a0fbd5994717941a4e8225e097a0",
            "value": " 232k/232k [00:00&lt;00:00, 1.78MB/s]"
          }
        },
        "fb9be36aed8e4c73a8819c78ce83e6c7": {
          "model_module": "@jupyter-widgets/base",
          "model_module_version": "1.2.0",
          "model_name": "LayoutModel",
          "state": {
            "_model_module": "@jupyter-widgets/base",
            "_model_module_version": "1.2.0",
            "_model_name": "LayoutModel",
            "_view_count": null,
            "_view_module": "@jupyter-widgets/base",
            "_view_module_version": "1.2.0",
            "_view_name": "LayoutView",
            "align_content": null,
            "align_items": null,
            "align_self": null,
            "border": null,
            "bottom": null,
            "display": null,
            "flex": null,
            "flex_flow": null,
            "grid_area": null,
            "grid_auto_columns": null,
            "grid_auto_flow": null,
            "grid_auto_rows": null,
            "grid_column": null,
            "grid_gap": null,
            "grid_row": null,
            "grid_template_areas": null,
            "grid_template_columns": null,
            "grid_template_rows": null,
            "height": null,
            "justify_content": null,
            "justify_items": null,
            "left": null,
            "margin": null,
            "max_height": null,
            "max_width": null,
            "min_height": null,
            "min_width": null,
            "object_fit": null,
            "object_position": null,
            "order": null,
            "overflow": null,
            "overflow_x": null,
            "overflow_y": null,
            "padding": null,
            "right": null,
            "top": null,
            "visibility": null,
            "width": null
          }
        },
        "fcd6c70a043543b0951aa5d65b70487b": {
          "model_module": "@jupyter-widgets/base",
          "model_module_version": "1.2.0",
          "model_name": "LayoutModel",
          "state": {
            "_model_module": "@jupyter-widgets/base",
            "_model_module_version": "1.2.0",
            "_model_name": "LayoutModel",
            "_view_count": null,
            "_view_module": "@jupyter-widgets/base",
            "_view_module_version": "1.2.0",
            "_view_name": "LayoutView",
            "align_content": null,
            "align_items": null,
            "align_self": null,
            "border": null,
            "bottom": null,
            "display": null,
            "flex": null,
            "flex_flow": null,
            "grid_area": null,
            "grid_auto_columns": null,
            "grid_auto_flow": null,
            "grid_auto_rows": null,
            "grid_column": null,
            "grid_gap": null,
            "grid_row": null,
            "grid_template_areas": null,
            "grid_template_columns": null,
            "grid_template_rows": null,
            "height": null,
            "justify_content": null,
            "justify_items": null,
            "left": null,
            "margin": null,
            "max_height": null,
            "max_width": null,
            "min_height": null,
            "min_width": null,
            "object_fit": null,
            "object_position": null,
            "order": null,
            "overflow": null,
            "overflow_x": null,
            "overflow_y": null,
            "padding": null,
            "right": null,
            "top": null,
            "visibility": null,
            "width": null
          }
        }
      }
    }
  },
  "nbformat": 4,
  "nbformat_minor": 0
}
