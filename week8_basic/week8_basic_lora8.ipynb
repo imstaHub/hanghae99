{
 "cells": [
  {
   "cell_type": "markdown",
   "metadata": {},
   "source": [
    "## Week8 Basic Homework\n",
    "- corpus 사용하여 facebook/opt-350m 학습"
   ]
  },
  {
   "cell_type": "code",
   "execution_count": 1,
   "metadata": {},
   "outputs": [],
   "source": [
    "import os\n",
    "import sys\n",
    "import json\n",
    "import torch\n",
    "import wandb\n",
    "import logging\n",
    "import evaluate\n",
    "import transformers\n",
    "import numpy as np\n",
    "import pandas as pd\n",
    "\n",
    "from sklearn.model_selection import train_test_split\n",
    "\n",
    "import datasets\n",
    "from transformers import (\n",
    "    AutoModelForCausalLM,\n",
    "    AutoTokenizer,\n",
    ")\n",
    "\n",
    "from peft import (\n",
    "    get_peft_config,\n",
    "    get_peft_model,\n",
    "    LoraConfig,\n",
    "    TaskType\n",
    ")\n",
    "\n",
    "from trl import (\n",
    "    SFTConfig,\n",
    "    SFTTrainer,\n",
    "    DataCollatorForCompletionOnlyLM\n",
    ")\n",
    "\n",
    "from transformers.trainer_utils import get_last_checkpoint"
   ]
  },
  {
   "cell_type": "code",
   "execution_count": 2,
   "metadata": {},
   "outputs": [
    {
     "name": "stdout",
     "output_type": "stream",
     "text": [
      "mps\n"
     ]
    }
   ],
   "source": [
    "#device setting\n",
    "if torch.backends.mps.is_available():\n",
    "    device = torch.device(\"mps\")\n",
    "elif torch.backends.cuda.is_built():\n",
    "    device = torch.device(\"cuda\")\n",
    "else:\n",
    "    device = torch.device(\"cpu\")\n",
    "\n",
    "print(device)"
   ]
  },
  {
   "cell_type": "markdown",
   "metadata": {},
   "source": [
    "## [MY CODE] Model Load (opt-350m)"
   ]
  },
  {
   "cell_type": "code",
   "execution_count": 3,
   "metadata": {},
   "outputs": [],
   "source": [
    "# facebook - 2k tokens\n",
    "model_name = \"facebook/opt-350m\"\n",
    "tokenizer = AutoTokenizer.from_pretrained(model_name)\n",
    "model = AutoModelForCausalLM.from_pretrained(\n",
    "    model_name,\n",
    "    device_map=device,\n",
    "    torch_dtype=torch.bfloat16\n",
    ")"
   ]
  },
  {
   "cell_type": "code",
   "execution_count": 4,
   "metadata": {},
   "outputs": [
    {
     "name": "stdout",
     "output_type": "stream",
     "text": [
      "trainable params: 3,563,520 || all params: 334,759,936 || trainable%: 1.0645\n"
     ]
    }
   ],
   "source": [
    "lora_r: int = 8\n",
    "lora_dropout: float = 0.1\n",
    "lora_alpha: int = 32\n",
    "\n",
    "target_modules = set()\n",
    "\n",
    "for name, module in model.named_modules():\n",
    "    if isinstance(module, torch.nn.Linear):\n",
    "        names = name.split('.')\n",
    "        target_modules.add(names[0] if len(names) == 1 else names[-1])\n",
    "\n",
    "if \"lm_head\" in target_modules:  # needed for 16-bit\n",
    "    target_modules.remove(\"lm_head\")\n",
    "\n",
    "target_modules = list(target_modules)\n",
    "\n",
    "peft_config = LoraConfig(\n",
    "    task_type=TaskType.CAUSAL_LM,\n",
    "    inference_mode=False,\n",
    "    r=lora_r,\n",
    "    lora_alpha=lora_alpha,\n",
    "    lora_dropout=lora_dropout,\n",
    "    target_modules=target_modules\n",
    ")\n",
    "\n",
    "model = get_peft_model(model, peft_config)\n",
    "model.print_trainable_parameters()"
   ]
  },
  {
   "cell_type": "markdown",
   "metadata": {},
   "source": [
    "## [MY CODE] Data Load (corpus)"
   ]
  },
  {
   "cell_type": "code",
   "execution_count": 6,
   "metadata": {},
   "outputs": [
    {
     "data": {
      "text/plain": [
       "DatasetDict({\n",
       "    train: Dataset({\n",
       "        features: ['input', 'output'],\n",
       "        num_rows: 110\n",
       "    })\n",
       "    test: Dataset({\n",
       "        features: ['input', 'output'],\n",
       "        num_rows: 28\n",
       "    })\n",
       "})"
      ]
     },
     "execution_count": 6,
     "metadata": {},
     "output_type": "execute_result"
    }
   ],
   "source": [
    "with open(\"corpus_small.json\", \"r\", encoding=\"utf-8\") as f:\n",
    "    corpus = json.load(f)\n",
    "\n",
    "df = pd.DataFrame(corpus)\n",
    "\n",
    "train_df, test_df = train_test_split(df, test_size = 0.2, random_state = 42)\n",
    "\n",
    "ds_train = datasets.Dataset.from_pandas(train_df, preserve_index=False)\n",
    "ds_test = datasets.Dataset.from_pandas(test_df, preserve_index=False)\n",
    "\n",
    "data_files = datasets.DatasetDict({\"train\":ds_train,\n",
    "                                   \"test\":ds_test})\n",
    "\n",
    "data_files"
   ]
  },
  {
   "cell_type": "markdown",
   "metadata": {},
   "source": [
    "## [MY CODE] 학습 준비 - training arguments, data preprocess function, collator"
   ]
  },
  {
   "cell_type": "code",
   "execution_count": 7,
   "metadata": {},
   "outputs": [
    {
     "name": "stderr",
     "output_type": "stream",
     "text": [
      "\u001b[34m\u001b[1mwandb\u001b[0m: Currently logged in as: \u001b[33mimsta\u001b[0m (\u001b[33mimsta-hub\u001b[0m) to \u001b[32mhttps://api.wandb.ai\u001b[0m. Use \u001b[1m`wandb login --relogin`\u001b[0m to force relogin\n",
      "\u001b[34m\u001b[1mwandb\u001b[0m: Using wandb-core as the SDK backend.  Please refer to https://wandb.me/wandb-core for more information.\n"
     ]
    },
    {
     "data": {
      "text/html": [
       "Tracking run with wandb version 0.19.5"
      ],
      "text/plain": [
       "<IPython.core.display.HTML object>"
      ]
     },
     "metadata": {},
     "output_type": "display_data"
    },
    {
     "data": {
      "text/html": [
       "Run data is saved locally in <code>/Users/jh/workspaces/notebook/voyage/homework/wandb/run-20250212_214726-bj9nnq4o</code>"
      ],
      "text/plain": [
       "<IPython.core.display.HTML object>"
      ]
     },
     "metadata": {},
     "output_type": "display_data"
    },
    {
     "data": {
      "text/html": [
       "Syncing run <strong><a href='https://wandb.ai/imsta-hub/Hanghae99/runs/bj9nnq4o' target=\"_blank\">fancy-microwave-21</a></strong> to <a href='https://wandb.ai/imsta-hub/Hanghae99' target=\"_blank\">Weights & Biases</a> (<a href='https://wandb.me/developer-guide' target=\"_blank\">docs</a>)<br>"
      ],
      "text/plain": [
       "<IPython.core.display.HTML object>"
      ]
     },
     "metadata": {},
     "output_type": "display_data"
    },
    {
     "data": {
      "text/html": [
       " View project at <a href='https://wandb.ai/imsta-hub/Hanghae99' target=\"_blank\">https://wandb.ai/imsta-hub/Hanghae99</a>"
      ],
      "text/plain": [
       "<IPython.core.display.HTML object>"
      ]
     },
     "metadata": {},
     "output_type": "display_data"
    },
    {
     "data": {
      "text/html": [
       " View run at <a href='https://wandb.ai/imsta-hub/Hanghae99/runs/bj9nnq4o' target=\"_blank\">https://wandb.ai/imsta-hub/Hanghae99/runs/bj9nnq4o</a>"
      ],
      "text/plain": [
       "<IPython.core.display.HTML object>"
      ]
     },
     "metadata": {},
     "output_type": "display_data"
    }
   ],
   "source": [
    "# # wandb 접속\n",
    "wandb.init(project='Hanghae99')\n",
    "wandb.run.name = 'fb-lora8-finetuning'\n",
    "\n",
    "logger = logging.getLogger()\n",
    "\n",
    "logging.basicConfig(\n",
    "    format=\"%(asctime)s - %(levelname)s - %(name)s - %(message)s\",\n",
    "    datefmt=\"%m/%d/%Y %H:%M:%S\",\n",
    "    handlers=[logging.StreamHandler(sys.stdout)],\n",
    ")"
   ]
  },
  {
   "cell_type": "code",
   "execution_count": null,
   "metadata": {},
   "outputs": [],
   "source": [
    "training_args = SFTConfig(output_dir=os.path.join(os.getcwd(),'trained_model/fb_8'),\n",
    "                        learning_rate=1e-4,\n",
    "                        per_device_train_batch_size=2,\n",
    "                        per_device_eval_batch_size=2,\n",
    "                        num_train_epochs=10,\n",
    "                        weight_decay=0.01,\n",
    "                        eval_strategy=\"epoch\",\n",
    "                        save_strategy=\"epoch\",\n",
    "                        load_best_model_at_end=True,\n",
    "                        report_to = \"wandb\",\n",
    "                        push_to_hub=False,\n",
    "                        )\n",
    "\n",
    "# logger 설정\n",
    "if training_args.should_log:\n",
    "    transformers.utils.logging.set_verbosity_info()  # log level을 INFO로 변경\n",
    "\n",
    "# log level: 10 DEBUG, 20 INFO, 30 WARNING, 40 ERROR, 50 CRITICAL\n",
    "log_level = training_args.get_process_log_level()\n",
    "\n",
    "# 우리가 가지고 있는 logger와 HuggingFace의 logger의 log level 설정\n",
    "logger.setLevel(log_level)\n",
    "transformers.utils.logging.set_verbosity(log_level)\n",
    "\n",
    "# 기타 HuggingFace logger option들을 설정\n",
    "transformers.utils.logging.enable_default_handler() # logger 기능 활성화\n",
    "transformers.utils.logging.enable_explicit_format() # 포맷 설정: [LEVELNAME|FILENAME|LINE NUMBER] TIME >> MESSAGE"
   ]
  },
  {
   "cell_type": "code",
   "execution_count": 9,
   "metadata": {},
   "outputs": [],
   "source": [
    "def formatting_prompts_func(src_df):\n",
    "    output_texts = []\n",
    "    for i in range(len(src_df['input'])):\n",
    "        text = f\"{src_df['input'][i]}\\n{src_df['output'][i]}\"\n",
    "        output_texts.append(text)\n",
    "    return output_texts"
   ]
  },
  {
   "cell_type": "code",
   "execution_count": 10,
   "metadata": {},
   "outputs": [],
   "source": [
    "tokenizer.padding_side = \"right\"\n",
    "\n",
    "response_template = \"Answer:\"\n",
    "collator = DataCollatorForCompletionOnlyLM(response_template, tokenizer=tokenizer)"
   ]
  },
  {
   "cell_type": "code",
   "execution_count": 11,
   "metadata": {},
   "outputs": [
    {
     "name": "stderr",
     "output_type": "stream",
     "text": [
      "[INFO|configuration_utils.py:695] 2025-02-12 21:47:50,481 >> loading configuration file config.json from cache at /Users/jh/.cache/huggingface/hub/models--facebook--opt-350m/snapshots/08ab08cc4b72ff5593870b5d527cf4230323703c/config.json\n",
      "[INFO|configuration_utils.py:762] 2025-02-12 21:47:50,484 >> Model config OPTConfig {\n",
      "  \"_name_or_path\": \"facebook/opt-350m\",\n",
      "  \"_remove_final_layer_norm\": false,\n",
      "  \"activation_dropout\": 0.0,\n",
      "  \"activation_function\": \"relu\",\n",
      "  \"architectures\": [\n",
      "    \"OPTForCausalLM\"\n",
      "  ],\n",
      "  \"attention_dropout\": 0.0,\n",
      "  \"bos_token_id\": 2,\n",
      "  \"do_layer_norm_before\": false,\n",
      "  \"dropout\": 0.1,\n",
      "  \"enable_bias\": true,\n",
      "  \"eos_token_id\": 2,\n",
      "  \"ffn_dim\": 4096,\n",
      "  \"hidden_size\": 1024,\n",
      "  \"init_std\": 0.02,\n",
      "  \"layer_norm_elementwise_affine\": true,\n",
      "  \"layerdrop\": 0.0,\n",
      "  \"max_position_embeddings\": 2048,\n",
      "  \"model_type\": \"opt\",\n",
      "  \"num_attention_heads\": 16,\n",
      "  \"num_hidden_layers\": 24,\n",
      "  \"pad_token_id\": 1,\n",
      "  \"prefix\": \"</s>\",\n",
      "  \"torch_dtype\": \"float16\",\n",
      "  \"transformers_version\": \"4.47.1\",\n",
      "  \"use_cache\": true,\n",
      "  \"vocab_size\": 50272,\n",
      "  \"word_embed_proj_dim\": 512\n",
      "}\n",
      "\n",
      "[INFO|tokenization_utils_base.py:2030] 2025-02-12 21:47:50,486 >> loading file vocab.json from cache at /Users/jh/.cache/huggingface/hub/models--facebook--opt-350m/snapshots/08ab08cc4b72ff5593870b5d527cf4230323703c/vocab.json\n",
      "[INFO|tokenization_utils_base.py:2030] 2025-02-12 21:47:50,487 >> loading file merges.txt from cache at /Users/jh/.cache/huggingface/hub/models--facebook--opt-350m/snapshots/08ab08cc4b72ff5593870b5d527cf4230323703c/merges.txt\n",
      "[INFO|tokenization_utils_base.py:2030] 2025-02-12 21:47:50,488 >> loading file tokenizer.json from cache at None\n",
      "[INFO|tokenization_utils_base.py:2030] 2025-02-12 21:47:50,489 >> loading file added_tokens.json from cache at None\n",
      "[INFO|tokenization_utils_base.py:2030] 2025-02-12 21:47:50,490 >> loading file special_tokens_map.json from cache at /Users/jh/.cache/huggingface/hub/models--facebook--opt-350m/snapshots/08ab08cc4b72ff5593870b5d527cf4230323703c/special_tokens_map.json\n",
      "[INFO|tokenization_utils_base.py:2030] 2025-02-12 21:47:50,490 >> loading file tokenizer_config.json from cache at /Users/jh/.cache/huggingface/hub/models--facebook--opt-350m/snapshots/08ab08cc4b72ff5593870b5d527cf4230323703c/tokenizer_config.json\n",
      "[INFO|tokenization_utils_base.py:2030] 2025-02-12 21:47:50,491 >> loading file chat_template.jinja from cache at None\n",
      "[INFO|configuration_utils.py:695] 2025-02-12 21:47:50,494 >> loading configuration file config.json from cache at /Users/jh/.cache/huggingface/hub/models--facebook--opt-350m/snapshots/08ab08cc4b72ff5593870b5d527cf4230323703c/config.json\n",
      "[INFO|configuration_utils.py:762] 2025-02-12 21:47:50,495 >> Model config OPTConfig {\n",
      "  \"_name_or_path\": \"facebook/opt-350m\",\n",
      "  \"_remove_final_layer_norm\": false,\n",
      "  \"activation_dropout\": 0.0,\n",
      "  \"activation_function\": \"relu\",\n",
      "  \"architectures\": [\n",
      "    \"OPTForCausalLM\"\n",
      "  ],\n",
      "  \"attention_dropout\": 0.0,\n",
      "  \"bos_token_id\": 2,\n",
      "  \"do_layer_norm_before\": false,\n",
      "  \"dropout\": 0.1,\n",
      "  \"enable_bias\": true,\n",
      "  \"eos_token_id\": 2,\n",
      "  \"ffn_dim\": 4096,\n",
      "  \"hidden_size\": 1024,\n",
      "  \"init_std\": 0.02,\n",
      "  \"layer_norm_elementwise_affine\": true,\n",
      "  \"layerdrop\": 0.0,\n",
      "  \"max_position_embeddings\": 2048,\n",
      "  \"model_type\": \"opt\",\n",
      "  \"num_attention_heads\": 16,\n",
      "  \"num_hidden_layers\": 24,\n",
      "  \"pad_token_id\": 1,\n",
      "  \"prefix\": \"</s>\",\n",
      "  \"torch_dtype\": \"float16\",\n",
      "  \"transformers_version\": \"4.47.1\",\n",
      "  \"use_cache\": true,\n",
      "  \"vocab_size\": 50272,\n",
      "  \"word_embed_proj_dim\": 512\n",
      "}\n",
      "\n",
      "[INFO|configuration_utils.py:695] 2025-02-12 21:47:50,536 >> loading configuration file config.json from cache at /Users/jh/.cache/huggingface/hub/models--facebook--opt-350m/snapshots/08ab08cc4b72ff5593870b5d527cf4230323703c/config.json\n",
      "[INFO|configuration_utils.py:762] 2025-02-12 21:47:50,537 >> Model config OPTConfig {\n",
      "  \"_name_or_path\": \"facebook/opt-350m\",\n",
      "  \"_remove_final_layer_norm\": false,\n",
      "  \"activation_dropout\": 0.0,\n",
      "  \"activation_function\": \"relu\",\n",
      "  \"architectures\": [\n",
      "    \"OPTForCausalLM\"\n",
      "  ],\n",
      "  \"attention_dropout\": 0.0,\n",
      "  \"bos_token_id\": 2,\n",
      "  \"do_layer_norm_before\": false,\n",
      "  \"dropout\": 0.1,\n",
      "  \"enable_bias\": true,\n",
      "  \"eos_token_id\": 2,\n",
      "  \"ffn_dim\": 4096,\n",
      "  \"hidden_size\": 1024,\n",
      "  \"init_std\": 0.02,\n",
      "  \"layer_norm_elementwise_affine\": true,\n",
      "  \"layerdrop\": 0.0,\n",
      "  \"max_position_embeddings\": 2048,\n",
      "  \"model_type\": \"opt\",\n",
      "  \"num_attention_heads\": 16,\n",
      "  \"num_hidden_layers\": 24,\n",
      "  \"pad_token_id\": 1,\n",
      "  \"prefix\": \"</s>\",\n",
      "  \"torch_dtype\": \"float16\",\n",
      "  \"transformers_version\": \"4.47.1\",\n",
      "  \"use_cache\": true,\n",
      "  \"vocab_size\": 50272,\n",
      "  \"word_embed_proj_dim\": 512\n",
      "}\n",
      "\n"
     ]
    },
    {
     "data": {
      "application/vnd.jupyter.widget-view+json": {
       "model_id": "a0b07d6512504a618d74f79a676cb6f1",
       "version_major": 2,
       "version_minor": 0
      },
      "text/plain": [
       "Map:   0%|          | 0/110 [00:00<?, ? examples/s]"
      ]
     },
     "metadata": {},
     "output_type": "display_data"
    },
    {
     "data": {
      "application/vnd.jupyter.widget-view+json": {
       "model_id": "8a9ce7e9985741dba9f9b77adb5db3b0",
       "version_major": 2,
       "version_minor": 0
      },
      "text/plain": [
       "Map:   0%|          | 0/28 [00:00<?, ? examples/s]"
      ]
     },
     "metadata": {},
     "output_type": "display_data"
    },
    {
     "name": "stderr",
     "output_type": "stream",
     "text": [
      "[INFO|trainer.py:2362] 2025-02-12 21:47:50,870 >> ***** Running training *****\n",
      "[INFO|trainer.py:2363] 2025-02-12 21:47:50,870 >>   Num examples = 110\n",
      "[INFO|trainer.py:2364] 2025-02-12 21:47:50,871 >>   Num Epochs = 10\n",
      "[INFO|trainer.py:2365] 2025-02-12 21:47:50,871 >>   Instantaneous batch size per device = 4\n",
      "[INFO|trainer.py:2368] 2025-02-12 21:47:50,871 >>   Total train batch size (w. parallel, distributed & accumulation) = 4\n",
      "[INFO|trainer.py:2369] 2025-02-12 21:47:50,872 >>   Gradient Accumulation steps = 1\n",
      "[INFO|trainer.py:2370] 2025-02-12 21:47:50,872 >>   Total optimization steps = 280\n",
      "[INFO|trainer.py:2371] 2025-02-12 21:47:50,874 >>   Number of trainable parameters = 3,563,520\n",
      "[INFO|integration_utils.py:811] 2025-02-12 21:47:50,877 >> Automatic Weights & Biases logging enabled, to disable set os.environ[\"WANDB_DISABLED\"] = \"true\"\n",
      "\u001b[34m\u001b[1mwandb\u001b[0m: \u001b[33mWARNING\u001b[0m The `run_name` is currently set to the same value as `TrainingArguments.output_dir`. If this was not intended, please specify a different run name by setting the `TrainingArguments.run_name` parameter.\n"
     ]
    },
    {
     "data": {
      "application/vnd.jupyter.widget-view+json": {
       "model_id": "008535e36bda4303a8c718575e3dbf1b",
       "version_major": 2,
       "version_minor": 0
      },
      "text/plain": [
       "  0%|          | 0/280 [00:00<?, ?it/s]"
      ]
     },
     "metadata": {},
     "output_type": "display_data"
    },
    {
     "name": "stderr",
     "output_type": "stream",
     "text": [
      "[INFO|trainer.py:4203] 2025-02-12 21:53:00,864 >> \n",
      "***** Running Evaluation *****\n",
      "[INFO|trainer.py:4205] 2025-02-12 21:53:00,872 >>   Num examples = 28\n",
      "[INFO|trainer.py:4208] 2025-02-12 21:53:00,872 >>   Batch size = 4\n"
     ]
    },
    {
     "data": {
      "application/vnd.jupyter.widget-view+json": {
       "model_id": "49423463cc1a4039b28829efeab4943b",
       "version_major": 2,
       "version_minor": 0
      },
      "text/plain": [
       "  0%|          | 0/7 [00:00<?, ?it/s]"
      ]
     },
     "metadata": {},
     "output_type": "display_data"
    },
    {
     "name": "stderr",
     "output_type": "stream",
     "text": [
      "/Users/jh/workspaces/notebook/voyage/.venv/lib/python3.11/site-packages/trl/trainer/utils.py:139: UserWarning: Could not find response key `Answer:` in the following instance: </s>Human: This is a set of summary:\n",
      "The document discusses the challenges and considerations associated with seawater reverse osmosis (SWRO) membrane filtration systems, particularly focusing on fouling, which is the accumulation of various substances that negatively impact membrane performance. Key points include:\n",
      "\n",
      "1. **Fouling Issues**: Fouling is caused by precipitates, colloidal particles, bacteria, biofilm, and dissolved organic matter, leading to reduced permeate production and shorter membrane lifespan.\n",
      "\n",
      "2. **Membrane Lifespan**: SWRO membranes typically last 5-6 years, but fouling can significantly affect their longevity.\n",
      "\n",
      "3. **Cleaning Methods**: To address fouling, chemical and mechanical cleaning methods are employed, but these must be carefully managed to prevent further damage to the membranes.\n",
      "\n",
      "4. **Energy Consumption**: The specific energy consumption (SEC) for the SWRO process ranges from 2.3 to 3.0 kWh/m³, which is much higher than the theoretical energy requirement of 0.7 kWh/m³ for 100% recovery and 1.1 kWh/m³ for 50% recovery.\n",
      "\n",
      "5. **Cost Efficiency**: Cleaning the membranes every four years is suggested to result in the lowest energy consumption and cumulative costs over a 12-year period.\n",
      "\n",
      "Overall, the document highlights the complexities of operating SWRO systems, the impact of fouling, and the importance of balancing cleaning processes with energy efficiency and cost.\n",
      "The document presents a research report evaluating the effectiveness of cleaning-in-place (CIP) for membranes and the optimal replacement period for membranes in a seawater reverse osmosis (SWRO) plant in the Maldives. Key points include:\n",
      "\n",
      "1. **Fouling Impact**: Fouling reduces SWRO membrane performance, leading to increased differential pressure, decreased efficiency, and lower permeate quality.\n",
      "\n",
      "2. **Factors Influencing Membrane Lifespan**: The lifespan of RO membranes is affected by feed water quality, membrane flux (influenced by recovery percentage), and the extent of fouling/scaling.\n",
      "\n",
      "3. **CIP Practice**: CIP is a common method used to mitigate fouling in RO plants.\n",
      "\n",
      "4. **Financial Analysis**: The study compares the financial impacts of membrane replacement versus CIP on specific energy consumption (SEC) using operational data from January 2018 to January 2024.\n",
      "\n",
      "5. **Breakeven Analysis**: \n",
      "   - The breakeven point for replacing membranes every 4 years versus every 5 years is 5 years.\n",
      "   - The breakeven for 4-year replacement against a scenario with only CIP is 6.08 years.\n",
      "\n",
      "6. **Energy Consumption Improvement**: On average, SEC improves by 0.07 kWh/m³ after CIP.\n",
      "\n",
      "7. **Optimal Replacement Period**: Replacing membranes every 4 years results in the lowest energy consumption and cumulative costs over a 12-year period. \n",
      "\n",
      "Overall, the study suggests that regular membrane replacement is more cost-effective than relying solely on CIP in the long term.\n",
      "The document discusses the energy consumption associated with water treatment processes, specifically focusing on the specific energy consumption (SEC) of membrane-based systems. Key points include:\n",
      "\n",
      "1. **Energy Requirements**: The thermodynamic energy requirement for water recovery is 0.7 kWh/m³ for 100% recovery and 1.1 kWh/m³ for 50% recovery. A baseline test showed an SEC of 1.58 kWh/m³ at 42% recovery, which is higher than the theoretical values.\n",
      "\n",
      "2. **Current SEC Levels**: An internal audit at MWSC’s Hulhumalé site found SEC values ranging from 2.12 kWh/m³ to 2.92 kWh/m³, indicating higher energy consumption than ideal.\n",
      "\n",
      "3. **Impact of Membrane Fouling**: Membrane fouling significantly increases SEC by causing blockages that degrade performance, leading to higher energy demands and operating costs.\n",
      "\n",
      "4. **Cleaning Methods**: Various cleaning methods are employed to address fouling:\n",
      "   - Low pH cleaners (e.g., citric acid) target scale minerals and inorganic materials.\n",
      "   - High pH cleaners address organic fouling and biofouling.\n",
      "   - Stronger chemicals like hydrochloric acid may be used for severe scaling, but they risk damaging membranes.\n",
      "   - Biocides are used to prevent bacterial growth.\n",
      "   - Mechanical methods, such as reverse flow cleaning, effectively remove biological fouling and particulates.\n",
      "\n",
      "5. **Effective Cleaning Agents**: High pH cleaners, such as combinations of sodium tripolyphosphate and EDTA or sodium hydroxide and sodium dodecyl sulfate, are. This instance will be ignored in loss calculation. Note, if this happens often, consider increasing the `max_seq_length`.\n",
      "  warnings.warn(\n",
      "[INFO|trainer.py:3887] 2025-02-12 21:53:15,469 >> Saving model checkpoint to /Users/jh/workspaces/notebook/voyage/homework/trained_model/fb_8/checkpoint-28\n"
     ]
    },
    {
     "name": "stdout",
     "output_type": "stream",
     "text": [
      "{'eval_loss': 2.068080425262451, 'eval_runtime': 14.5994, 'eval_samples_per_second': 1.918, 'eval_steps_per_second': 0.479, 'epoch': 1.0}\n"
     ]
    },
    {
     "name": "stderr",
     "output_type": "stream",
     "text": [
      "[INFO|configuration_utils.py:695] 2025-02-12 21:53:15,998 >> loading configuration file config.json from cache at /Users/jh/.cache/huggingface/hub/models--facebook--opt-350m/snapshots/08ab08cc4b72ff5593870b5d527cf4230323703c/config.json\n",
      "[INFO|configuration_utils.py:762] 2025-02-12 21:53:16,000 >> Model config OPTConfig {\n",
      "  \"_name_or_path\": \"opt-350m\",\n",
      "  \"_remove_final_layer_norm\": false,\n",
      "  \"activation_dropout\": 0.0,\n",
      "  \"activation_function\": \"relu\",\n",
      "  \"architectures\": [\n",
      "    \"OPTForCausalLM\"\n",
      "  ],\n",
      "  \"attention_dropout\": 0.0,\n",
      "  \"bos_token_id\": 2,\n",
      "  \"do_layer_norm_before\": false,\n",
      "  \"dropout\": 0.1,\n",
      "  \"enable_bias\": true,\n",
      "  \"eos_token_id\": 2,\n",
      "  \"ffn_dim\": 4096,\n",
      "  \"hidden_size\": 1024,\n",
      "  \"init_std\": 0.02,\n",
      "  \"layer_norm_elementwise_affine\": true,\n",
      "  \"layerdrop\": 0.0,\n",
      "  \"max_position_embeddings\": 2048,\n",
      "  \"model_type\": \"opt\",\n",
      "  \"num_attention_heads\": 16,\n",
      "  \"num_hidden_layers\": 24,\n",
      "  \"pad_token_id\": 1,\n",
      "  \"prefix\": \"</s>\",\n",
      "  \"torch_dtype\": \"float16\",\n",
      "  \"transformers_version\": \"4.47.1\",\n",
      "  \"use_cache\": true,\n",
      "  \"vocab_size\": 50272,\n",
      "  \"word_embed_proj_dim\": 512\n",
      "}\n",
      "\n",
      "[INFO|tokenization_utils_base.py:2485] 2025-02-12 21:53:16,099 >> tokenizer config file saved in /Users/jh/workspaces/notebook/voyage/homework/trained_model/fb_8/checkpoint-28/tokenizer_config.json\n",
      "[INFO|tokenization_utils_base.py:2494] 2025-02-12 21:53:16,101 >> Special tokens file saved in /Users/jh/workspaces/notebook/voyage/homework/trained_model/fb_8/checkpoint-28/special_tokens_map.json\n",
      "[INFO|trainer.py:4203] 2025-02-12 21:56:28,078 >> \n",
      "***** Running Evaluation *****\n",
      "[INFO|trainer.py:4205] 2025-02-12 21:56:28,079 >>   Num examples = 28\n",
      "[INFO|trainer.py:4208] 2025-02-12 21:56:28,079 >>   Batch size = 4\n"
     ]
    },
    {
     "data": {
      "application/vnd.jupyter.widget-view+json": {
       "model_id": "e4a4cb7450484f36b4f1306c6a9c42c3",
       "version_major": 2,
       "version_minor": 0
      },
      "text/plain": [
       "  0%|          | 0/7 [00:00<?, ?it/s]"
      ]
     },
     "metadata": {},
     "output_type": "display_data"
    },
    {
     "name": "stderr",
     "output_type": "stream",
     "text": [
      "/Users/jh/workspaces/notebook/voyage/.venv/lib/python3.11/site-packages/trl/trainer/utils.py:139: UserWarning: Could not find response key `Answer:` in the following instance: </s>Human: This is a set of summary:\n",
      "The document discusses the challenges and considerations associated with seawater reverse osmosis (SWRO) membrane filtration systems, particularly focusing on fouling, which is the accumulation of various substances that negatively impact membrane performance. Key points include:\n",
      "\n",
      "1. **Fouling Issues**: Fouling is caused by precipitates, colloidal particles, bacteria, biofilm, and dissolved organic matter, leading to reduced permeate production and shorter membrane lifespan.\n",
      "\n",
      "2. **Membrane Lifespan**: SWRO membranes typically last 5-6 years, but fouling can significantly affect their longevity.\n",
      "\n",
      "3. **Cleaning Methods**: To address fouling, chemical and mechanical cleaning methods are employed, but these must be carefully managed to prevent further damage to the membranes.\n",
      "\n",
      "4. **Energy Consumption**: The specific energy consumption (SEC) for the SWRO process ranges from 2.3 to 3.0 kWh/m³, which is much higher than the theoretical energy requirement of 0.7 kWh/m³ for 100% recovery and 1.1 kWh/m³ for 50% recovery.\n",
      "\n",
      "5. **Cost Efficiency**: Cleaning the membranes every four years is suggested to result in the lowest energy consumption and cumulative costs over a 12-year period.\n",
      "\n",
      "Overall, the document highlights the complexities of operating SWRO systems, the impact of fouling, and the importance of balancing cleaning processes with energy efficiency and cost.\n",
      "The document presents a research report evaluating the effectiveness of cleaning-in-place (CIP) for membranes and the optimal replacement period for membranes in a seawater reverse osmosis (SWRO) plant in the Maldives. Key points include:\n",
      "\n",
      "1. **Fouling Impact**: Fouling reduces SWRO membrane performance, leading to increased differential pressure, decreased efficiency, and lower permeate quality.\n",
      "\n",
      "2. **Factors Influencing Membrane Lifespan**: The lifespan of RO membranes is affected by feed water quality, membrane flux (influenced by recovery percentage), and the extent of fouling/scaling.\n",
      "\n",
      "3. **CIP Practice**: CIP is a common method used to mitigate fouling in RO plants.\n",
      "\n",
      "4. **Financial Analysis**: The study compares the financial impacts of membrane replacement versus CIP on specific energy consumption (SEC) using operational data from January 2018 to January 2024.\n",
      "\n",
      "5. **Breakeven Analysis**: \n",
      "   - The breakeven point for replacing membranes every 4 years versus every 5 years is 5 years.\n",
      "   - The breakeven for 4-year replacement against a scenario with only CIP is 6.08 years.\n",
      "\n",
      "6. **Energy Consumption Improvement**: On average, SEC improves by 0.07 kWh/m³ after CIP.\n",
      "\n",
      "7. **Optimal Replacement Period**: Replacing membranes every 4 years results in the lowest energy consumption and cumulative costs over a 12-year period. \n",
      "\n",
      "Overall, the study suggests that regular membrane replacement is more cost-effective than relying solely on CIP in the long term.\n",
      "The document discusses the energy consumption associated with water treatment processes, specifically focusing on the specific energy consumption (SEC) of membrane-based systems. Key points include:\n",
      "\n",
      "1. **Energy Requirements**: The thermodynamic energy requirement for water recovery is 0.7 kWh/m³ for 100% recovery and 1.1 kWh/m³ for 50% recovery. A baseline test showed an SEC of 1.58 kWh/m³ at 42% recovery, which is higher than the theoretical values.\n",
      "\n",
      "2. **Current SEC Levels**: An internal audit at MWSC’s Hulhumalé site found SEC values ranging from 2.12 kWh/m³ to 2.92 kWh/m³, indicating higher energy consumption than ideal.\n",
      "\n",
      "3. **Impact of Membrane Fouling**: Membrane fouling significantly increases SEC by causing blockages that degrade performance, leading to higher energy demands and operating costs.\n",
      "\n",
      "4. **Cleaning Methods**: Various cleaning methods are employed to address fouling:\n",
      "   - Low pH cleaners (e.g., citric acid) target scale minerals and inorganic materials.\n",
      "   - High pH cleaners address organic fouling and biofouling.\n",
      "   - Stronger chemicals like hydrochloric acid may be used for severe scaling, but they risk damaging membranes.\n",
      "   - Biocides are used to prevent bacterial growth.\n",
      "   - Mechanical methods, such as reverse flow cleaning, effectively remove biological fouling and particulates.\n",
      "\n",
      "5. **Effective Cleaning Agents**: High pH cleaners, such as combinations of sodium tripolyphosphate and EDTA or sodium hydroxide and sodium dodecyl sulfate, are. This instance will be ignored in loss calculation. Note, if this happens often, consider increasing the `max_seq_length`.\n",
      "  warnings.warn(\n",
      "[INFO|trainer.py:3887] 2025-02-12 21:56:41,919 >> Saving model checkpoint to /Users/jh/workspaces/notebook/voyage/homework/trained_model/fb_8/checkpoint-56\n"
     ]
    },
    {
     "name": "stdout",
     "output_type": "stream",
     "text": [
      "{'eval_loss': 1.9988839626312256, 'eval_runtime': 13.8373, 'eval_samples_per_second': 2.024, 'eval_steps_per_second': 0.506, 'epoch': 2.0}\n"
     ]
    },
    {
     "name": "stderr",
     "output_type": "stream",
     "text": [
      "[INFO|configuration_utils.py:695] 2025-02-12 21:56:42,366 >> loading configuration file config.json from cache at /Users/jh/.cache/huggingface/hub/models--facebook--opt-350m/snapshots/08ab08cc4b72ff5593870b5d527cf4230323703c/config.json\n",
      "[INFO|configuration_utils.py:762] 2025-02-12 21:56:42,368 >> Model config OPTConfig {\n",
      "  \"_name_or_path\": \"opt-350m\",\n",
      "  \"_remove_final_layer_norm\": false,\n",
      "  \"activation_dropout\": 0.0,\n",
      "  \"activation_function\": \"relu\",\n",
      "  \"architectures\": [\n",
      "    \"OPTForCausalLM\"\n",
      "  ],\n",
      "  \"attention_dropout\": 0.0,\n",
      "  \"bos_token_id\": 2,\n",
      "  \"do_layer_norm_before\": false,\n",
      "  \"dropout\": 0.1,\n",
      "  \"enable_bias\": true,\n",
      "  \"eos_token_id\": 2,\n",
      "  \"ffn_dim\": 4096,\n",
      "  \"hidden_size\": 1024,\n",
      "  \"init_std\": 0.02,\n",
      "  \"layer_norm_elementwise_affine\": true,\n",
      "  \"layerdrop\": 0.0,\n",
      "  \"max_position_embeddings\": 2048,\n",
      "  \"model_type\": \"opt\",\n",
      "  \"num_attention_heads\": 16,\n",
      "  \"num_hidden_layers\": 24,\n",
      "  \"pad_token_id\": 1,\n",
      "  \"prefix\": \"</s>\",\n",
      "  \"torch_dtype\": \"float16\",\n",
      "  \"transformers_version\": \"4.47.1\",\n",
      "  \"use_cache\": true,\n",
      "  \"vocab_size\": 50272,\n",
      "  \"word_embed_proj_dim\": 512\n",
      "}\n",
      "\n",
      "[INFO|tokenization_utils_base.py:2485] 2025-02-12 21:56:42,453 >> tokenizer config file saved in /Users/jh/workspaces/notebook/voyage/homework/trained_model/fb_8/checkpoint-56/tokenizer_config.json\n",
      "[INFO|tokenization_utils_base.py:2494] 2025-02-12 21:56:42,454 >> Special tokens file saved in /Users/jh/workspaces/notebook/voyage/homework/trained_model/fb_8/checkpoint-56/special_tokens_map.json\n",
      "[INFO|trainer.py:4203] 2025-02-12 21:59:42,953 >> \n",
      "***** Running Evaluation *****\n",
      "[INFO|trainer.py:4205] 2025-02-12 21:59:42,955 >>   Num examples = 28\n",
      "[INFO|trainer.py:4208] 2025-02-12 21:59:42,955 >>   Batch size = 4\n"
     ]
    },
    {
     "data": {
      "application/vnd.jupyter.widget-view+json": {
       "model_id": "8044191999ff4a01bb2bdd2ffbbd0b51",
       "version_major": 2,
       "version_minor": 0
      },
      "text/plain": [
       "  0%|          | 0/7 [00:00<?, ?it/s]"
      ]
     },
     "metadata": {},
     "output_type": "display_data"
    },
    {
     "name": "stderr",
     "output_type": "stream",
     "text": [
      "/Users/jh/workspaces/notebook/voyage/.venv/lib/python3.11/site-packages/trl/trainer/utils.py:139: UserWarning: Could not find response key `Answer:` in the following instance: </s>Human: This is a set of summary:\n",
      "The document discusses the challenges and considerations associated with seawater reverse osmosis (SWRO) membrane filtration systems, particularly focusing on fouling, which is the accumulation of various substances that negatively impact membrane performance. Key points include:\n",
      "\n",
      "1. **Fouling Issues**: Fouling is caused by precipitates, colloidal particles, bacteria, biofilm, and dissolved organic matter, leading to reduced permeate production and shorter membrane lifespan.\n",
      "\n",
      "2. **Membrane Lifespan**: SWRO membranes typically last 5-6 years, but fouling can significantly affect their longevity.\n",
      "\n",
      "3. **Cleaning Methods**: To address fouling, chemical and mechanical cleaning methods are employed, but these must be carefully managed to prevent further damage to the membranes.\n",
      "\n",
      "4. **Energy Consumption**: The specific energy consumption (SEC) for the SWRO process ranges from 2.3 to 3.0 kWh/m³, which is much higher than the theoretical energy requirement of 0.7 kWh/m³ for 100% recovery and 1.1 kWh/m³ for 50% recovery.\n",
      "\n",
      "5. **Cost Efficiency**: Cleaning the membranes every four years is suggested to result in the lowest energy consumption and cumulative costs over a 12-year period.\n",
      "\n",
      "Overall, the document highlights the complexities of operating SWRO systems, the impact of fouling, and the importance of balancing cleaning processes with energy efficiency and cost.\n",
      "The document presents a research report evaluating the effectiveness of cleaning-in-place (CIP) for membranes and the optimal replacement period for membranes in a seawater reverse osmosis (SWRO) plant in the Maldives. Key points include:\n",
      "\n",
      "1. **Fouling Impact**: Fouling reduces SWRO membrane performance, leading to increased differential pressure, decreased efficiency, and lower permeate quality.\n",
      "\n",
      "2. **Factors Influencing Membrane Lifespan**: The lifespan of RO membranes is affected by feed water quality, membrane flux (influenced by recovery percentage), and the extent of fouling/scaling.\n",
      "\n",
      "3. **CIP Practice**: CIP is a common method used to mitigate fouling in RO plants.\n",
      "\n",
      "4. **Financial Analysis**: The study compares the financial impacts of membrane replacement versus CIP on specific energy consumption (SEC) using operational data from January 2018 to January 2024.\n",
      "\n",
      "5. **Breakeven Analysis**: \n",
      "   - The breakeven point for replacing membranes every 4 years versus every 5 years is 5 years.\n",
      "   - The breakeven for 4-year replacement against a scenario with only CIP is 6.08 years.\n",
      "\n",
      "6. **Energy Consumption Improvement**: On average, SEC improves by 0.07 kWh/m³ after CIP.\n",
      "\n",
      "7. **Optimal Replacement Period**: Replacing membranes every 4 years results in the lowest energy consumption and cumulative costs over a 12-year period. \n",
      "\n",
      "Overall, the study suggests that regular membrane replacement is more cost-effective than relying solely on CIP in the long term.\n",
      "The document discusses the energy consumption associated with water treatment processes, specifically focusing on the specific energy consumption (SEC) of membrane-based systems. Key points include:\n",
      "\n",
      "1. **Energy Requirements**: The thermodynamic energy requirement for water recovery is 0.7 kWh/m³ for 100% recovery and 1.1 kWh/m³ for 50% recovery. A baseline test showed an SEC of 1.58 kWh/m³ at 42% recovery, which is higher than the theoretical values.\n",
      "\n",
      "2. **Current SEC Levels**: An internal audit at MWSC’s Hulhumalé site found SEC values ranging from 2.12 kWh/m³ to 2.92 kWh/m³, indicating higher energy consumption than ideal.\n",
      "\n",
      "3. **Impact of Membrane Fouling**: Membrane fouling significantly increases SEC by causing blockages that degrade performance, leading to higher energy demands and operating costs.\n",
      "\n",
      "4. **Cleaning Methods**: Various cleaning methods are employed to address fouling:\n",
      "   - Low pH cleaners (e.g., citric acid) target scale minerals and inorganic materials.\n",
      "   - High pH cleaners address organic fouling and biofouling.\n",
      "   - Stronger chemicals like hydrochloric acid may be used for severe scaling, but they risk damaging membranes.\n",
      "   - Biocides are used to prevent bacterial growth.\n",
      "   - Mechanical methods, such as reverse flow cleaning, effectively remove biological fouling and particulates.\n",
      "\n",
      "5. **Effective Cleaning Agents**: High pH cleaners, such as combinations of sodium tripolyphosphate and EDTA or sodium hydroxide and sodium dodecyl sulfate, are. This instance will be ignored in loss calculation. Note, if this happens often, consider increasing the `max_seq_length`.\n",
      "  warnings.warn(\n",
      "[INFO|trainer.py:3887] 2025-02-12 21:59:56,822 >> Saving model checkpoint to /Users/jh/workspaces/notebook/voyage/homework/trained_model/fb_8/checkpoint-84\n"
     ]
    },
    {
     "name": "stdout",
     "output_type": "stream",
     "text": [
      "{'eval_loss': 1.9654017686843872, 'eval_runtime': 13.8643, 'eval_samples_per_second': 2.02, 'eval_steps_per_second': 0.505, 'epoch': 3.0}\n"
     ]
    },
    {
     "name": "stderr",
     "output_type": "stream",
     "text": [
      "[INFO|configuration_utils.py:695] 2025-02-12 21:59:57,260 >> loading configuration file config.json from cache at /Users/jh/.cache/huggingface/hub/models--facebook--opt-350m/snapshots/08ab08cc4b72ff5593870b5d527cf4230323703c/config.json\n",
      "[INFO|configuration_utils.py:762] 2025-02-12 21:59:57,262 >> Model config OPTConfig {\n",
      "  \"_name_or_path\": \"opt-350m\",\n",
      "  \"_remove_final_layer_norm\": false,\n",
      "  \"activation_dropout\": 0.0,\n",
      "  \"activation_function\": \"relu\",\n",
      "  \"architectures\": [\n",
      "    \"OPTForCausalLM\"\n",
      "  ],\n",
      "  \"attention_dropout\": 0.0,\n",
      "  \"bos_token_id\": 2,\n",
      "  \"do_layer_norm_before\": false,\n",
      "  \"dropout\": 0.1,\n",
      "  \"enable_bias\": true,\n",
      "  \"eos_token_id\": 2,\n",
      "  \"ffn_dim\": 4096,\n",
      "  \"hidden_size\": 1024,\n",
      "  \"init_std\": 0.02,\n",
      "  \"layer_norm_elementwise_affine\": true,\n",
      "  \"layerdrop\": 0.0,\n",
      "  \"max_position_embeddings\": 2048,\n",
      "  \"model_type\": \"opt\",\n",
      "  \"num_attention_heads\": 16,\n",
      "  \"num_hidden_layers\": 24,\n",
      "  \"pad_token_id\": 1,\n",
      "  \"prefix\": \"</s>\",\n",
      "  \"torch_dtype\": \"float16\",\n",
      "  \"transformers_version\": \"4.47.1\",\n",
      "  \"use_cache\": true,\n",
      "  \"vocab_size\": 50272,\n",
      "  \"word_embed_proj_dim\": 512\n",
      "}\n",
      "\n",
      "[INFO|tokenization_utils_base.py:2485] 2025-02-12 21:59:57,345 >> tokenizer config file saved in /Users/jh/workspaces/notebook/voyage/homework/trained_model/fb_8/checkpoint-84/tokenizer_config.json\n",
      "[INFO|tokenization_utils_base.py:2494] 2025-02-12 21:59:57,346 >> Special tokens file saved in /Users/jh/workspaces/notebook/voyage/homework/trained_model/fb_8/checkpoint-84/special_tokens_map.json\n",
      "[INFO|trainer.py:4203] 2025-02-12 22:03:05,048 >> \n",
      "***** Running Evaluation *****\n",
      "[INFO|trainer.py:4205] 2025-02-12 22:03:05,050 >>   Num examples = 28\n",
      "[INFO|trainer.py:4208] 2025-02-12 22:03:05,050 >>   Batch size = 4\n"
     ]
    },
    {
     "data": {
      "application/vnd.jupyter.widget-view+json": {
       "model_id": "b910bb7ab0dd43b8b0ea71f34ed8f2cc",
       "version_major": 2,
       "version_minor": 0
      },
      "text/plain": [
       "  0%|          | 0/7 [00:00<?, ?it/s]"
      ]
     },
     "metadata": {},
     "output_type": "display_data"
    },
    {
     "name": "stderr",
     "output_type": "stream",
     "text": [
      "/Users/jh/workspaces/notebook/voyage/.venv/lib/python3.11/site-packages/trl/trainer/utils.py:139: UserWarning: Could not find response key `Answer:` in the following instance: </s>Human: This is a set of summary:\n",
      "The document discusses the challenges and considerations associated with seawater reverse osmosis (SWRO) membrane filtration systems, particularly focusing on fouling, which is the accumulation of various substances that negatively impact membrane performance. Key points include:\n",
      "\n",
      "1. **Fouling Issues**: Fouling is caused by precipitates, colloidal particles, bacteria, biofilm, and dissolved organic matter, leading to reduced permeate production and shorter membrane lifespan.\n",
      "\n",
      "2. **Membrane Lifespan**: SWRO membranes typically last 5-6 years, but fouling can significantly affect their longevity.\n",
      "\n",
      "3. **Cleaning Methods**: To address fouling, chemical and mechanical cleaning methods are employed, but these must be carefully managed to prevent further damage to the membranes.\n",
      "\n",
      "4. **Energy Consumption**: The specific energy consumption (SEC) for the SWRO process ranges from 2.3 to 3.0 kWh/m³, which is much higher than the theoretical energy requirement of 0.7 kWh/m³ for 100% recovery and 1.1 kWh/m³ for 50% recovery.\n",
      "\n",
      "5. **Cost Efficiency**: Cleaning the membranes every four years is suggested to result in the lowest energy consumption and cumulative costs over a 12-year period.\n",
      "\n",
      "Overall, the document highlights the complexities of operating SWRO systems, the impact of fouling, and the importance of balancing cleaning processes with energy efficiency and cost.\n",
      "The document presents a research report evaluating the effectiveness of cleaning-in-place (CIP) for membranes and the optimal replacement period for membranes in a seawater reverse osmosis (SWRO) plant in the Maldives. Key points include:\n",
      "\n",
      "1. **Fouling Impact**: Fouling reduces SWRO membrane performance, leading to increased differential pressure, decreased efficiency, and lower permeate quality.\n",
      "\n",
      "2. **Factors Influencing Membrane Lifespan**: The lifespan of RO membranes is affected by feed water quality, membrane flux (influenced by recovery percentage), and the extent of fouling/scaling.\n",
      "\n",
      "3. **CIP Practice**: CIP is a common method used to mitigate fouling in RO plants.\n",
      "\n",
      "4. **Financial Analysis**: The study compares the financial impacts of membrane replacement versus CIP on specific energy consumption (SEC) using operational data from January 2018 to January 2024.\n",
      "\n",
      "5. **Breakeven Analysis**: \n",
      "   - The breakeven point for replacing membranes every 4 years versus every 5 years is 5 years.\n",
      "   - The breakeven for 4-year replacement against a scenario with only CIP is 6.08 years.\n",
      "\n",
      "6. **Energy Consumption Improvement**: On average, SEC improves by 0.07 kWh/m³ after CIP.\n",
      "\n",
      "7. **Optimal Replacement Period**: Replacing membranes every 4 years results in the lowest energy consumption and cumulative costs over a 12-year period. \n",
      "\n",
      "Overall, the study suggests that regular membrane replacement is more cost-effective than relying solely on CIP in the long term.\n",
      "The document discusses the energy consumption associated with water treatment processes, specifically focusing on the specific energy consumption (SEC) of membrane-based systems. Key points include:\n",
      "\n",
      "1. **Energy Requirements**: The thermodynamic energy requirement for water recovery is 0.7 kWh/m³ for 100% recovery and 1.1 kWh/m³ for 50% recovery. A baseline test showed an SEC of 1.58 kWh/m³ at 42% recovery, which is higher than the theoretical values.\n",
      "\n",
      "2. **Current SEC Levels**: An internal audit at MWSC’s Hulhumalé site found SEC values ranging from 2.12 kWh/m³ to 2.92 kWh/m³, indicating higher energy consumption than ideal.\n",
      "\n",
      "3. **Impact of Membrane Fouling**: Membrane fouling significantly increases SEC by causing blockages that degrade performance, leading to higher energy demands and operating costs.\n",
      "\n",
      "4. **Cleaning Methods**: Various cleaning methods are employed to address fouling:\n",
      "   - Low pH cleaners (e.g., citric acid) target scale minerals and inorganic materials.\n",
      "   - High pH cleaners address organic fouling and biofouling.\n",
      "   - Stronger chemicals like hydrochloric acid may be used for severe scaling, but they risk damaging membranes.\n",
      "   - Biocides are used to prevent bacterial growth.\n",
      "   - Mechanical methods, such as reverse flow cleaning, effectively remove biological fouling and particulates.\n",
      "\n",
      "5. **Effective Cleaning Agents**: High pH cleaners, such as combinations of sodium tripolyphosphate and EDTA or sodium hydroxide and sodium dodecyl sulfate, are. This instance will be ignored in loss calculation. Note, if this happens often, consider increasing the `max_seq_length`.\n",
      "  warnings.warn(\n",
      "[INFO|trainer.py:3887] 2025-02-12 22:03:18,846 >> Saving model checkpoint to /Users/jh/workspaces/notebook/voyage/homework/trained_model/fb_8/checkpoint-112\n"
     ]
    },
    {
     "name": "stdout",
     "output_type": "stream",
     "text": [
      "{'eval_loss': 1.9464285373687744, 'eval_runtime': 13.796, 'eval_samples_per_second': 2.03, 'eval_steps_per_second': 0.507, 'epoch': 4.0}\n"
     ]
    },
    {
     "name": "stderr",
     "output_type": "stream",
     "text": [
      "[INFO|configuration_utils.py:695] 2025-02-12 22:03:19,282 >> loading configuration file config.json from cache at /Users/jh/.cache/huggingface/hub/models--facebook--opt-350m/snapshots/08ab08cc4b72ff5593870b5d527cf4230323703c/config.json\n",
      "[INFO|configuration_utils.py:762] 2025-02-12 22:03:19,284 >> Model config OPTConfig {\n",
      "  \"_name_or_path\": \"opt-350m\",\n",
      "  \"_remove_final_layer_norm\": false,\n",
      "  \"activation_dropout\": 0.0,\n",
      "  \"activation_function\": \"relu\",\n",
      "  \"architectures\": [\n",
      "    \"OPTForCausalLM\"\n",
      "  ],\n",
      "  \"attention_dropout\": 0.0,\n",
      "  \"bos_token_id\": 2,\n",
      "  \"do_layer_norm_before\": false,\n",
      "  \"dropout\": 0.1,\n",
      "  \"enable_bias\": true,\n",
      "  \"eos_token_id\": 2,\n",
      "  \"ffn_dim\": 4096,\n",
      "  \"hidden_size\": 1024,\n",
      "  \"init_std\": 0.02,\n",
      "  \"layer_norm_elementwise_affine\": true,\n",
      "  \"layerdrop\": 0.0,\n",
      "  \"max_position_embeddings\": 2048,\n",
      "  \"model_type\": \"opt\",\n",
      "  \"num_attention_heads\": 16,\n",
      "  \"num_hidden_layers\": 24,\n",
      "  \"pad_token_id\": 1,\n",
      "  \"prefix\": \"</s>\",\n",
      "  \"torch_dtype\": \"float16\",\n",
      "  \"transformers_version\": \"4.47.1\",\n",
      "  \"use_cache\": true,\n",
      "  \"vocab_size\": 50272,\n",
      "  \"word_embed_proj_dim\": 512\n",
      "}\n",
      "\n",
      "[INFO|tokenization_utils_base.py:2485] 2025-02-12 22:03:19,367 >> tokenizer config file saved in /Users/jh/workspaces/notebook/voyage/homework/trained_model/fb_8/checkpoint-112/tokenizer_config.json\n",
      "[INFO|tokenization_utils_base.py:2494] 2025-02-12 22:03:19,367 >> Special tokens file saved in /Users/jh/workspaces/notebook/voyage/homework/trained_model/fb_8/checkpoint-112/special_tokens_map.json\n",
      "[INFO|trainer.py:4203] 2025-02-12 22:26:48,629 >> \n",
      "***** Running Evaluation *****\n",
      "[INFO|trainer.py:4205] 2025-02-12 22:26:48,630 >>   Num examples = 28\n",
      "[INFO|trainer.py:4208] 2025-02-12 22:26:48,630 >>   Batch size = 4\n"
     ]
    },
    {
     "data": {
      "application/vnd.jupyter.widget-view+json": {
       "model_id": "c2160e10390d4f7a987bc3c6ea0414da",
       "version_major": 2,
       "version_minor": 0
      },
      "text/plain": [
       "  0%|          | 0/7 [00:00<?, ?it/s]"
      ]
     },
     "metadata": {},
     "output_type": "display_data"
    },
    {
     "name": "stderr",
     "output_type": "stream",
     "text": [
      "/Users/jh/workspaces/notebook/voyage/.venv/lib/python3.11/site-packages/trl/trainer/utils.py:139: UserWarning: Could not find response key `Answer:` in the following instance: </s>Human: This is a set of summary:\n",
      "The document discusses the challenges and considerations associated with seawater reverse osmosis (SWRO) membrane filtration systems, particularly focusing on fouling, which is the accumulation of various substances that negatively impact membrane performance. Key points include:\n",
      "\n",
      "1. **Fouling Issues**: Fouling is caused by precipitates, colloidal particles, bacteria, biofilm, and dissolved organic matter, leading to reduced permeate production and shorter membrane lifespan.\n",
      "\n",
      "2. **Membrane Lifespan**: SWRO membranes typically last 5-6 years, but fouling can significantly affect their longevity.\n",
      "\n",
      "3. **Cleaning Methods**: To address fouling, chemical and mechanical cleaning methods are employed, but these must be carefully managed to prevent further damage to the membranes.\n",
      "\n",
      "4. **Energy Consumption**: The specific energy consumption (SEC) for the SWRO process ranges from 2.3 to 3.0 kWh/m³, which is much higher than the theoretical energy requirement of 0.7 kWh/m³ for 100% recovery and 1.1 kWh/m³ for 50% recovery.\n",
      "\n",
      "5. **Cost Efficiency**: Cleaning the membranes every four years is suggested to result in the lowest energy consumption and cumulative costs over a 12-year period.\n",
      "\n",
      "Overall, the document highlights the complexities of operating SWRO systems, the impact of fouling, and the importance of balancing cleaning processes with energy efficiency and cost.\n",
      "The document presents a research report evaluating the effectiveness of cleaning-in-place (CIP) for membranes and the optimal replacement period for membranes in a seawater reverse osmosis (SWRO) plant in the Maldives. Key points include:\n",
      "\n",
      "1. **Fouling Impact**: Fouling reduces SWRO membrane performance, leading to increased differential pressure, decreased efficiency, and lower permeate quality.\n",
      "\n",
      "2. **Factors Influencing Membrane Lifespan**: The lifespan of RO membranes is affected by feed water quality, membrane flux (influenced by recovery percentage), and the extent of fouling/scaling.\n",
      "\n",
      "3. **CIP Practice**: CIP is a common method used to mitigate fouling in RO plants.\n",
      "\n",
      "4. **Financial Analysis**: The study compares the financial impacts of membrane replacement versus CIP on specific energy consumption (SEC) using operational data from January 2018 to January 2024.\n",
      "\n",
      "5. **Breakeven Analysis**: \n",
      "   - The breakeven point for replacing membranes every 4 years versus every 5 years is 5 years.\n",
      "   - The breakeven for 4-year replacement against a scenario with only CIP is 6.08 years.\n",
      "\n",
      "6. **Energy Consumption Improvement**: On average, SEC improves by 0.07 kWh/m³ after CIP.\n",
      "\n",
      "7. **Optimal Replacement Period**: Replacing membranes every 4 years results in the lowest energy consumption and cumulative costs over a 12-year period. \n",
      "\n",
      "Overall, the study suggests that regular membrane replacement is more cost-effective than relying solely on CIP in the long term.\n",
      "The document discusses the energy consumption associated with water treatment processes, specifically focusing on the specific energy consumption (SEC) of membrane-based systems. Key points include:\n",
      "\n",
      "1. **Energy Requirements**: The thermodynamic energy requirement for water recovery is 0.7 kWh/m³ for 100% recovery and 1.1 kWh/m³ for 50% recovery. A baseline test showed an SEC of 1.58 kWh/m³ at 42% recovery, which is higher than the theoretical values.\n",
      "\n",
      "2. **Current SEC Levels**: An internal audit at MWSC’s Hulhumalé site found SEC values ranging from 2.12 kWh/m³ to 2.92 kWh/m³, indicating higher energy consumption than ideal.\n",
      "\n",
      "3. **Impact of Membrane Fouling**: Membrane fouling significantly increases SEC by causing blockages that degrade performance, leading to higher energy demands and operating costs.\n",
      "\n",
      "4. **Cleaning Methods**: Various cleaning methods are employed to address fouling:\n",
      "   - Low pH cleaners (e.g., citric acid) target scale minerals and inorganic materials.\n",
      "   - High pH cleaners address organic fouling and biofouling.\n",
      "   - Stronger chemicals like hydrochloric acid may be used for severe scaling, but they risk damaging membranes.\n",
      "   - Biocides are used to prevent bacterial growth.\n",
      "   - Mechanical methods, such as reverse flow cleaning, effectively remove biological fouling and particulates.\n",
      "\n",
      "5. **Effective Cleaning Agents**: High pH cleaners, such as combinations of sodium tripolyphosphate and EDTA or sodium hydroxide and sodium dodecyl sulfate, are. This instance will be ignored in loss calculation. Note, if this happens often, consider increasing the `max_seq_length`.\n",
      "  warnings.warn(\n",
      "[INFO|trainer.py:3887] 2025-02-12 22:27:02,493 >> Saving model checkpoint to /Users/jh/workspaces/notebook/voyage/homework/trained_model/fb_8/checkpoint-140\n",
      "/Users/jh/workspaces/notebook/voyage/.venv/lib/python3.11/site-packages/peft/utils/other.py:716: UserWarning: Unable to fetch remote file due to the following error (ProtocolError('Connection aborted.', RemoteDisconnected('Remote end closed connection without response')), '(Request ID: 875ede2e-333e-4ccb-8b25-f1316857ec58)') - silently ignoring the lookup for the file config.json in facebook/opt-350m.\n",
      "  warnings.warn(\n",
      "/Users/jh/workspaces/notebook/voyage/.venv/lib/python3.11/site-packages/peft/utils/save_and_load.py:246: UserWarning: Could not find a config file in facebook/opt-350m - will assume that the vocabulary was not modified.\n",
      "  warnings.warn(\n",
      "[INFO|tokenization_utils_base.py:2485] 2025-02-12 22:27:02,598 >> tokenizer config file saved in /Users/jh/workspaces/notebook/voyage/homework/trained_model/fb_8/checkpoint-140/tokenizer_config.json\n",
      "[INFO|tokenization_utils_base.py:2494] 2025-02-12 22:27:02,599 >> Special tokens file saved in /Users/jh/workspaces/notebook/voyage/homework/trained_model/fb_8/checkpoint-140/special_tokens_map.json\n"
     ]
    },
    {
     "name": "stdout",
     "output_type": "stream",
     "text": [
      "{'eval_loss': 1.9330357313156128, 'eval_runtime': 13.863, 'eval_samples_per_second': 2.02, 'eval_steps_per_second': 0.505, 'epoch': 5.0}\n"
     ]
    },
    {
     "name": "stderr",
     "output_type": "stream",
     "text": [
      "[INFO|trainer.py:4203] 2025-02-12 22:30:10,511 >> \n",
      "***** Running Evaluation *****\n",
      "[INFO|trainer.py:4205] 2025-02-12 22:30:10,513 >>   Num examples = 28\n",
      "[INFO|trainer.py:4208] 2025-02-12 22:30:10,513 >>   Batch size = 4\n"
     ]
    },
    {
     "data": {
      "application/vnd.jupyter.widget-view+json": {
       "model_id": "657f9d02ea9b40ee850d38d169b10aca",
       "version_major": 2,
       "version_minor": 0
      },
      "text/plain": [
       "  0%|          | 0/7 [00:00<?, ?it/s]"
      ]
     },
     "metadata": {},
     "output_type": "display_data"
    },
    {
     "name": "stderr",
     "output_type": "stream",
     "text": [
      "/Users/jh/workspaces/notebook/voyage/.venv/lib/python3.11/site-packages/trl/trainer/utils.py:139: UserWarning: Could not find response key `Answer:` in the following instance: </s>Human: This is a set of summary:\n",
      "The document discusses the challenges and considerations associated with seawater reverse osmosis (SWRO) membrane filtration systems, particularly focusing on fouling, which is the accumulation of various substances that negatively impact membrane performance. Key points include:\n",
      "\n",
      "1. **Fouling Issues**: Fouling is caused by precipitates, colloidal particles, bacteria, biofilm, and dissolved organic matter, leading to reduced permeate production and shorter membrane lifespan.\n",
      "\n",
      "2. **Membrane Lifespan**: SWRO membranes typically last 5-6 years, but fouling can significantly affect their longevity.\n",
      "\n",
      "3. **Cleaning Methods**: To address fouling, chemical and mechanical cleaning methods are employed, but these must be carefully managed to prevent further damage to the membranes.\n",
      "\n",
      "4. **Energy Consumption**: The specific energy consumption (SEC) for the SWRO process ranges from 2.3 to 3.0 kWh/m³, which is much higher than the theoretical energy requirement of 0.7 kWh/m³ for 100% recovery and 1.1 kWh/m³ for 50% recovery.\n",
      "\n",
      "5. **Cost Efficiency**: Cleaning the membranes every four years is suggested to result in the lowest energy consumption and cumulative costs over a 12-year period.\n",
      "\n",
      "Overall, the document highlights the complexities of operating SWRO systems, the impact of fouling, and the importance of balancing cleaning processes with energy efficiency and cost.\n",
      "The document presents a research report evaluating the effectiveness of cleaning-in-place (CIP) for membranes and the optimal replacement period for membranes in a seawater reverse osmosis (SWRO) plant in the Maldives. Key points include:\n",
      "\n",
      "1. **Fouling Impact**: Fouling reduces SWRO membrane performance, leading to increased differential pressure, decreased efficiency, and lower permeate quality.\n",
      "\n",
      "2. **Factors Influencing Membrane Lifespan**: The lifespan of RO membranes is affected by feed water quality, membrane flux (influenced by recovery percentage), and the extent of fouling/scaling.\n",
      "\n",
      "3. **CIP Practice**: CIP is a common method used to mitigate fouling in RO plants.\n",
      "\n",
      "4. **Financial Analysis**: The study compares the financial impacts of membrane replacement versus CIP on specific energy consumption (SEC) using operational data from January 2018 to January 2024.\n",
      "\n",
      "5. **Breakeven Analysis**: \n",
      "   - The breakeven point for replacing membranes every 4 years versus every 5 years is 5 years.\n",
      "   - The breakeven for 4-year replacement against a scenario with only CIP is 6.08 years.\n",
      "\n",
      "6. **Energy Consumption Improvement**: On average, SEC improves by 0.07 kWh/m³ after CIP.\n",
      "\n",
      "7. **Optimal Replacement Period**: Replacing membranes every 4 years results in the lowest energy consumption and cumulative costs over a 12-year period. \n",
      "\n",
      "Overall, the study suggests that regular membrane replacement is more cost-effective than relying solely on CIP in the long term.\n",
      "The document discusses the energy consumption associated with water treatment processes, specifically focusing on the specific energy consumption (SEC) of membrane-based systems. Key points include:\n",
      "\n",
      "1. **Energy Requirements**: The thermodynamic energy requirement for water recovery is 0.7 kWh/m³ for 100% recovery and 1.1 kWh/m³ for 50% recovery. A baseline test showed an SEC of 1.58 kWh/m³ at 42% recovery, which is higher than the theoretical values.\n",
      "\n",
      "2. **Current SEC Levels**: An internal audit at MWSC’s Hulhumalé site found SEC values ranging from 2.12 kWh/m³ to 2.92 kWh/m³, indicating higher energy consumption than ideal.\n",
      "\n",
      "3. **Impact of Membrane Fouling**: Membrane fouling significantly increases SEC by causing blockages that degrade performance, leading to higher energy demands and operating costs.\n",
      "\n",
      "4. **Cleaning Methods**: Various cleaning methods are employed to address fouling:\n",
      "   - Low pH cleaners (e.g., citric acid) target scale minerals and inorganic materials.\n",
      "   - High pH cleaners address organic fouling and biofouling.\n",
      "   - Stronger chemicals like hydrochloric acid may be used for severe scaling, but they risk damaging membranes.\n",
      "   - Biocides are used to prevent bacterial growth.\n",
      "   - Mechanical methods, such as reverse flow cleaning, effectively remove biological fouling and particulates.\n",
      "\n",
      "5. **Effective Cleaning Agents**: High pH cleaners, such as combinations of sodium tripolyphosphate and EDTA or sodium hydroxide and sodium dodecyl sulfate, are. This instance will be ignored in loss calculation. Note, if this happens often, consider increasing the `max_seq_length`.\n",
      "  warnings.warn(\n",
      "[INFO|trainer.py:3887] 2025-02-12 22:30:24,333 >> Saving model checkpoint to /Users/jh/workspaces/notebook/voyage/homework/trained_model/fb_8/checkpoint-168\n"
     ]
    },
    {
     "name": "stdout",
     "output_type": "stream",
     "text": [
      "{'eval_loss': 1.9330357313156128, 'eval_runtime': 13.8194, 'eval_samples_per_second': 2.026, 'eval_steps_per_second': 0.507, 'epoch': 6.0}\n"
     ]
    },
    {
     "name": "stderr",
     "output_type": "stream",
     "text": [
      "[INFO|configuration_utils.py:695] 2025-02-12 22:30:25,188 >> loading configuration file config.json from cache at /Users/jh/.cache/huggingface/hub/models--facebook--opt-350m/snapshots/08ab08cc4b72ff5593870b5d527cf4230323703c/config.json\n",
      "[INFO|configuration_utils.py:762] 2025-02-12 22:30:25,190 >> Model config OPTConfig {\n",
      "  \"_name_or_path\": \"opt-350m\",\n",
      "  \"_remove_final_layer_norm\": false,\n",
      "  \"activation_dropout\": 0.0,\n",
      "  \"activation_function\": \"relu\",\n",
      "  \"architectures\": [\n",
      "    \"OPTForCausalLM\"\n",
      "  ],\n",
      "  \"attention_dropout\": 0.0,\n",
      "  \"bos_token_id\": 2,\n",
      "  \"do_layer_norm_before\": false,\n",
      "  \"dropout\": 0.1,\n",
      "  \"enable_bias\": true,\n",
      "  \"eos_token_id\": 2,\n",
      "  \"ffn_dim\": 4096,\n",
      "  \"hidden_size\": 1024,\n",
      "  \"init_std\": 0.02,\n",
      "  \"layer_norm_elementwise_affine\": true,\n",
      "  \"layerdrop\": 0.0,\n",
      "  \"max_position_embeddings\": 2048,\n",
      "  \"model_type\": \"opt\",\n",
      "  \"num_attention_heads\": 16,\n",
      "  \"num_hidden_layers\": 24,\n",
      "  \"pad_token_id\": 1,\n",
      "  \"prefix\": \"</s>\",\n",
      "  \"torch_dtype\": \"float16\",\n",
      "  \"transformers_version\": \"4.47.1\",\n",
      "  \"use_cache\": true,\n",
      "  \"vocab_size\": 50272,\n",
      "  \"word_embed_proj_dim\": 512\n",
      "}\n",
      "\n",
      "[INFO|tokenization_utils_base.py:2485] 2025-02-12 22:30:25,307 >> tokenizer config file saved in /Users/jh/workspaces/notebook/voyage/homework/trained_model/fb_8/checkpoint-168/tokenizer_config.json\n",
      "[INFO|tokenization_utils_base.py:2494] 2025-02-12 22:30:25,308 >> Special tokens file saved in /Users/jh/workspaces/notebook/voyage/homework/trained_model/fb_8/checkpoint-168/special_tokens_map.json\n",
      "[INFO|trainer.py:4203] 2025-02-12 22:33:38,642 >> \n",
      "***** Running Evaluation *****\n",
      "[INFO|trainer.py:4205] 2025-02-12 22:33:38,644 >>   Num examples = 28\n",
      "[INFO|trainer.py:4208] 2025-02-12 22:33:38,644 >>   Batch size = 4\n"
     ]
    },
    {
     "data": {
      "application/vnd.jupyter.widget-view+json": {
       "model_id": "93ddc1325a404be8b6cb682fffddedfc",
       "version_major": 2,
       "version_minor": 0
      },
      "text/plain": [
       "  0%|          | 0/7 [00:00<?, ?it/s]"
      ]
     },
     "metadata": {},
     "output_type": "display_data"
    },
    {
     "name": "stderr",
     "output_type": "stream",
     "text": [
      "/Users/jh/workspaces/notebook/voyage/.venv/lib/python3.11/site-packages/trl/trainer/utils.py:139: UserWarning: Could not find response key `Answer:` in the following instance: </s>Human: This is a set of summary:\n",
      "The document discusses the challenges and considerations associated with seawater reverse osmosis (SWRO) membrane filtration systems, particularly focusing on fouling, which is the accumulation of various substances that negatively impact membrane performance. Key points include:\n",
      "\n",
      "1. **Fouling Issues**: Fouling is caused by precipitates, colloidal particles, bacteria, biofilm, and dissolved organic matter, leading to reduced permeate production and shorter membrane lifespan.\n",
      "\n",
      "2. **Membrane Lifespan**: SWRO membranes typically last 5-6 years, but fouling can significantly affect their longevity.\n",
      "\n",
      "3. **Cleaning Methods**: To address fouling, chemical and mechanical cleaning methods are employed, but these must be carefully managed to prevent further damage to the membranes.\n",
      "\n",
      "4. **Energy Consumption**: The specific energy consumption (SEC) for the SWRO process ranges from 2.3 to 3.0 kWh/m³, which is much higher than the theoretical energy requirement of 0.7 kWh/m³ for 100% recovery and 1.1 kWh/m³ for 50% recovery.\n",
      "\n",
      "5. **Cost Efficiency**: Cleaning the membranes every four years is suggested to result in the lowest energy consumption and cumulative costs over a 12-year period.\n",
      "\n",
      "Overall, the document highlights the complexities of operating SWRO systems, the impact of fouling, and the importance of balancing cleaning processes with energy efficiency and cost.\n",
      "The document presents a research report evaluating the effectiveness of cleaning-in-place (CIP) for membranes and the optimal replacement period for membranes in a seawater reverse osmosis (SWRO) plant in the Maldives. Key points include:\n",
      "\n",
      "1. **Fouling Impact**: Fouling reduces SWRO membrane performance, leading to increased differential pressure, decreased efficiency, and lower permeate quality.\n",
      "\n",
      "2. **Factors Influencing Membrane Lifespan**: The lifespan of RO membranes is affected by feed water quality, membrane flux (influenced by recovery percentage), and the extent of fouling/scaling.\n",
      "\n",
      "3. **CIP Practice**: CIP is a common method used to mitigate fouling in RO plants.\n",
      "\n",
      "4. **Financial Analysis**: The study compares the financial impacts of membrane replacement versus CIP on specific energy consumption (SEC) using operational data from January 2018 to January 2024.\n",
      "\n",
      "5. **Breakeven Analysis**: \n",
      "   - The breakeven point for replacing membranes every 4 years versus every 5 years is 5 years.\n",
      "   - The breakeven for 4-year replacement against a scenario with only CIP is 6.08 years.\n",
      "\n",
      "6. **Energy Consumption Improvement**: On average, SEC improves by 0.07 kWh/m³ after CIP.\n",
      "\n",
      "7. **Optimal Replacement Period**: Replacing membranes every 4 years results in the lowest energy consumption and cumulative costs over a 12-year period. \n",
      "\n",
      "Overall, the study suggests that regular membrane replacement is more cost-effective than relying solely on CIP in the long term.\n",
      "The document discusses the energy consumption associated with water treatment processes, specifically focusing on the specific energy consumption (SEC) of membrane-based systems. Key points include:\n",
      "\n",
      "1. **Energy Requirements**: The thermodynamic energy requirement for water recovery is 0.7 kWh/m³ for 100% recovery and 1.1 kWh/m³ for 50% recovery. A baseline test showed an SEC of 1.58 kWh/m³ at 42% recovery, which is higher than the theoretical values.\n",
      "\n",
      "2. **Current SEC Levels**: An internal audit at MWSC’s Hulhumalé site found SEC values ranging from 2.12 kWh/m³ to 2.92 kWh/m³, indicating higher energy consumption than ideal.\n",
      "\n",
      "3. **Impact of Membrane Fouling**: Membrane fouling significantly increases SEC by causing blockages that degrade performance, leading to higher energy demands and operating costs.\n",
      "\n",
      "4. **Cleaning Methods**: Various cleaning methods are employed to address fouling:\n",
      "   - Low pH cleaners (e.g., citric acid) target scale minerals and inorganic materials.\n",
      "   - High pH cleaners address organic fouling and biofouling.\n",
      "   - Stronger chemicals like hydrochloric acid may be used for severe scaling, but they risk damaging membranes.\n",
      "   - Biocides are used to prevent bacterial growth.\n",
      "   - Mechanical methods, such as reverse flow cleaning, effectively remove biological fouling and particulates.\n",
      "\n",
      "5. **Effective Cleaning Agents**: High pH cleaners, such as combinations of sodium tripolyphosphate and EDTA or sodium hydroxide and sodium dodecyl sulfate, are. This instance will be ignored in loss calculation. Note, if this happens often, consider increasing the `max_seq_length`.\n",
      "  warnings.warn(\n",
      "[INFO|trainer.py:3887] 2025-02-12 22:33:52,590 >> Saving model checkpoint to /Users/jh/workspaces/notebook/voyage/homework/trained_model/fb_8/checkpoint-196\n"
     ]
    },
    {
     "name": "stdout",
     "output_type": "stream",
     "text": [
      "{'eval_loss': 1.9341517686843872, 'eval_runtime': 13.9448, 'eval_samples_per_second': 2.008, 'eval_steps_per_second': 0.502, 'epoch': 7.0}\n"
     ]
    },
    {
     "name": "stderr",
     "output_type": "stream",
     "text": [
      "[INFO|configuration_utils.py:695] 2025-02-12 22:33:53,043 >> loading configuration file config.json from cache at /Users/jh/.cache/huggingface/hub/models--facebook--opt-350m/snapshots/08ab08cc4b72ff5593870b5d527cf4230323703c/config.json\n",
      "[INFO|configuration_utils.py:762] 2025-02-12 22:33:53,045 >> Model config OPTConfig {\n",
      "  \"_name_or_path\": \"opt-350m\",\n",
      "  \"_remove_final_layer_norm\": false,\n",
      "  \"activation_dropout\": 0.0,\n",
      "  \"activation_function\": \"relu\",\n",
      "  \"architectures\": [\n",
      "    \"OPTForCausalLM\"\n",
      "  ],\n",
      "  \"attention_dropout\": 0.0,\n",
      "  \"bos_token_id\": 2,\n",
      "  \"do_layer_norm_before\": false,\n",
      "  \"dropout\": 0.1,\n",
      "  \"enable_bias\": true,\n",
      "  \"eos_token_id\": 2,\n",
      "  \"ffn_dim\": 4096,\n",
      "  \"hidden_size\": 1024,\n",
      "  \"init_std\": 0.02,\n",
      "  \"layer_norm_elementwise_affine\": true,\n",
      "  \"layerdrop\": 0.0,\n",
      "  \"max_position_embeddings\": 2048,\n",
      "  \"model_type\": \"opt\",\n",
      "  \"num_attention_heads\": 16,\n",
      "  \"num_hidden_layers\": 24,\n",
      "  \"pad_token_id\": 1,\n",
      "  \"prefix\": \"</s>\",\n",
      "  \"torch_dtype\": \"float16\",\n",
      "  \"transformers_version\": \"4.47.1\",\n",
      "  \"use_cache\": true,\n",
      "  \"vocab_size\": 50272,\n",
      "  \"word_embed_proj_dim\": 512\n",
      "}\n",
      "\n",
      "[INFO|tokenization_utils_base.py:2485] 2025-02-12 22:33:53,138 >> tokenizer config file saved in /Users/jh/workspaces/notebook/voyage/homework/trained_model/fb_8/checkpoint-196/tokenizer_config.json\n",
      "[INFO|tokenization_utils_base.py:2494] 2025-02-12 22:33:53,139 >> Special tokens file saved in /Users/jh/workspaces/notebook/voyage/homework/trained_model/fb_8/checkpoint-196/special_tokens_map.json\n",
      "[INFO|trainer.py:4203] 2025-02-12 22:36:56,211 >> \n",
      "***** Running Evaluation *****\n",
      "[INFO|trainer.py:4205] 2025-02-12 22:36:56,212 >>   Num examples = 28\n",
      "[INFO|trainer.py:4208] 2025-02-12 22:36:56,212 >>   Batch size = 4\n"
     ]
    },
    {
     "data": {
      "application/vnd.jupyter.widget-view+json": {
       "model_id": "d274a06203604d8a91a9b19092183da0",
       "version_major": 2,
       "version_minor": 0
      },
      "text/plain": [
       "  0%|          | 0/7 [00:00<?, ?it/s]"
      ]
     },
     "metadata": {},
     "output_type": "display_data"
    },
    {
     "name": "stderr",
     "output_type": "stream",
     "text": [
      "/Users/jh/workspaces/notebook/voyage/.venv/lib/python3.11/site-packages/trl/trainer/utils.py:139: UserWarning: Could not find response key `Answer:` in the following instance: </s>Human: This is a set of summary:\n",
      "The document discusses the challenges and considerations associated with seawater reverse osmosis (SWRO) membrane filtration systems, particularly focusing on fouling, which is the accumulation of various substances that negatively impact membrane performance. Key points include:\n",
      "\n",
      "1. **Fouling Issues**: Fouling is caused by precipitates, colloidal particles, bacteria, biofilm, and dissolved organic matter, leading to reduced permeate production and shorter membrane lifespan.\n",
      "\n",
      "2. **Membrane Lifespan**: SWRO membranes typically last 5-6 years, but fouling can significantly affect their longevity.\n",
      "\n",
      "3. **Cleaning Methods**: To address fouling, chemical and mechanical cleaning methods are employed, but these must be carefully managed to prevent further damage to the membranes.\n",
      "\n",
      "4. **Energy Consumption**: The specific energy consumption (SEC) for the SWRO process ranges from 2.3 to 3.0 kWh/m³, which is much higher than the theoretical energy requirement of 0.7 kWh/m³ for 100% recovery and 1.1 kWh/m³ for 50% recovery.\n",
      "\n",
      "5. **Cost Efficiency**: Cleaning the membranes every four years is suggested to result in the lowest energy consumption and cumulative costs over a 12-year period.\n",
      "\n",
      "Overall, the document highlights the complexities of operating SWRO systems, the impact of fouling, and the importance of balancing cleaning processes with energy efficiency and cost.\n",
      "The document presents a research report evaluating the effectiveness of cleaning-in-place (CIP) for membranes and the optimal replacement period for membranes in a seawater reverse osmosis (SWRO) plant in the Maldives. Key points include:\n",
      "\n",
      "1. **Fouling Impact**: Fouling reduces SWRO membrane performance, leading to increased differential pressure, decreased efficiency, and lower permeate quality.\n",
      "\n",
      "2. **Factors Influencing Membrane Lifespan**: The lifespan of RO membranes is affected by feed water quality, membrane flux (influenced by recovery percentage), and the extent of fouling/scaling.\n",
      "\n",
      "3. **CIP Practice**: CIP is a common method used to mitigate fouling in RO plants.\n",
      "\n",
      "4. **Financial Analysis**: The study compares the financial impacts of membrane replacement versus CIP on specific energy consumption (SEC) using operational data from January 2018 to January 2024.\n",
      "\n",
      "5. **Breakeven Analysis**: \n",
      "   - The breakeven point for replacing membranes every 4 years versus every 5 years is 5 years.\n",
      "   - The breakeven for 4-year replacement against a scenario with only CIP is 6.08 years.\n",
      "\n",
      "6. **Energy Consumption Improvement**: On average, SEC improves by 0.07 kWh/m³ after CIP.\n",
      "\n",
      "7. **Optimal Replacement Period**: Replacing membranes every 4 years results in the lowest energy consumption and cumulative costs over a 12-year period. \n",
      "\n",
      "Overall, the study suggests that regular membrane replacement is more cost-effective than relying solely on CIP in the long term.\n",
      "The document discusses the energy consumption associated with water treatment processes, specifically focusing on the specific energy consumption (SEC) of membrane-based systems. Key points include:\n",
      "\n",
      "1. **Energy Requirements**: The thermodynamic energy requirement for water recovery is 0.7 kWh/m³ for 100% recovery and 1.1 kWh/m³ for 50% recovery. A baseline test showed an SEC of 1.58 kWh/m³ at 42% recovery, which is higher than the theoretical values.\n",
      "\n",
      "2. **Current SEC Levels**: An internal audit at MWSC’s Hulhumalé site found SEC values ranging from 2.12 kWh/m³ to 2.92 kWh/m³, indicating higher energy consumption than ideal.\n",
      "\n",
      "3. **Impact of Membrane Fouling**: Membrane fouling significantly increases SEC by causing blockages that degrade performance, leading to higher energy demands and operating costs.\n",
      "\n",
      "4. **Cleaning Methods**: Various cleaning methods are employed to address fouling:\n",
      "   - Low pH cleaners (e.g., citric acid) target scale minerals and inorganic materials.\n",
      "   - High pH cleaners address organic fouling and biofouling.\n",
      "   - Stronger chemicals like hydrochloric acid may be used for severe scaling, but they risk damaging membranes.\n",
      "   - Biocides are used to prevent bacterial growth.\n",
      "   - Mechanical methods, such as reverse flow cleaning, effectively remove biological fouling and particulates.\n",
      "\n",
      "5. **Effective Cleaning Agents**: High pH cleaners, such as combinations of sodium tripolyphosphate and EDTA or sodium hydroxide and sodium dodecyl sulfate, are. This instance will be ignored in loss calculation. Note, if this happens often, consider increasing the `max_seq_length`.\n",
      "  warnings.warn(\n",
      "[INFO|trainer.py:3887] 2025-02-12 22:37:09,990 >> Saving model checkpoint to /Users/jh/workspaces/notebook/voyage/homework/trained_model/fb_8/checkpoint-224\n"
     ]
    },
    {
     "name": "stdout",
     "output_type": "stream",
     "text": [
      "{'eval_loss': 1.9363839626312256, 'eval_runtime': 13.7772, 'eval_samples_per_second': 2.032, 'eval_steps_per_second': 0.508, 'epoch': 8.0}\n"
     ]
    },
    {
     "name": "stderr",
     "output_type": "stream",
     "text": [
      "[INFO|configuration_utils.py:695] 2025-02-12 22:37:10,438 >> loading configuration file config.json from cache at /Users/jh/.cache/huggingface/hub/models--facebook--opt-350m/snapshots/08ab08cc4b72ff5593870b5d527cf4230323703c/config.json\n",
      "[INFO|configuration_utils.py:762] 2025-02-12 22:37:10,440 >> Model config OPTConfig {\n",
      "  \"_name_or_path\": \"opt-350m\",\n",
      "  \"_remove_final_layer_norm\": false,\n",
      "  \"activation_dropout\": 0.0,\n",
      "  \"activation_function\": \"relu\",\n",
      "  \"architectures\": [\n",
      "    \"OPTForCausalLM\"\n",
      "  ],\n",
      "  \"attention_dropout\": 0.0,\n",
      "  \"bos_token_id\": 2,\n",
      "  \"do_layer_norm_before\": false,\n",
      "  \"dropout\": 0.1,\n",
      "  \"enable_bias\": true,\n",
      "  \"eos_token_id\": 2,\n",
      "  \"ffn_dim\": 4096,\n",
      "  \"hidden_size\": 1024,\n",
      "  \"init_std\": 0.02,\n",
      "  \"layer_norm_elementwise_affine\": true,\n",
      "  \"layerdrop\": 0.0,\n",
      "  \"max_position_embeddings\": 2048,\n",
      "  \"model_type\": \"opt\",\n",
      "  \"num_attention_heads\": 16,\n",
      "  \"num_hidden_layers\": 24,\n",
      "  \"pad_token_id\": 1,\n",
      "  \"prefix\": \"</s>\",\n",
      "  \"torch_dtype\": \"float16\",\n",
      "  \"transformers_version\": \"4.47.1\",\n",
      "  \"use_cache\": true,\n",
      "  \"vocab_size\": 50272,\n",
      "  \"word_embed_proj_dim\": 512\n",
      "}\n",
      "\n",
      "[INFO|tokenization_utils_base.py:2485] 2025-02-12 22:37:10,540 >> tokenizer config file saved in /Users/jh/workspaces/notebook/voyage/homework/trained_model/fb_8/checkpoint-224/tokenizer_config.json\n",
      "[INFO|tokenization_utils_base.py:2494] 2025-02-12 22:37:10,541 >> Special tokens file saved in /Users/jh/workspaces/notebook/voyage/homework/trained_model/fb_8/checkpoint-224/special_tokens_map.json\n",
      "[INFO|trainer.py:4203] 2025-02-12 22:40:12,561 >> \n",
      "***** Running Evaluation *****\n",
      "[INFO|trainer.py:4205] 2025-02-12 22:40:12,563 >>   Num examples = 28\n",
      "[INFO|trainer.py:4208] 2025-02-12 22:40:12,563 >>   Batch size = 4\n"
     ]
    },
    {
     "data": {
      "application/vnd.jupyter.widget-view+json": {
       "model_id": "ed81df4c2fbf470e99d6cc1e051b2095",
       "version_major": 2,
       "version_minor": 0
      },
      "text/plain": [
       "  0%|          | 0/7 [00:00<?, ?it/s]"
      ]
     },
     "metadata": {},
     "output_type": "display_data"
    },
    {
     "name": "stderr",
     "output_type": "stream",
     "text": [
      "/Users/jh/workspaces/notebook/voyage/.venv/lib/python3.11/site-packages/trl/trainer/utils.py:139: UserWarning: Could not find response key `Answer:` in the following instance: </s>Human: This is a set of summary:\n",
      "The document discusses the challenges and considerations associated with seawater reverse osmosis (SWRO) membrane filtration systems, particularly focusing on fouling, which is the accumulation of various substances that negatively impact membrane performance. Key points include:\n",
      "\n",
      "1. **Fouling Issues**: Fouling is caused by precipitates, colloidal particles, bacteria, biofilm, and dissolved organic matter, leading to reduced permeate production and shorter membrane lifespan.\n",
      "\n",
      "2. **Membrane Lifespan**: SWRO membranes typically last 5-6 years, but fouling can significantly affect their longevity.\n",
      "\n",
      "3. **Cleaning Methods**: To address fouling, chemical and mechanical cleaning methods are employed, but these must be carefully managed to prevent further damage to the membranes.\n",
      "\n",
      "4. **Energy Consumption**: The specific energy consumption (SEC) for the SWRO process ranges from 2.3 to 3.0 kWh/m³, which is much higher than the theoretical energy requirement of 0.7 kWh/m³ for 100% recovery and 1.1 kWh/m³ for 50% recovery.\n",
      "\n",
      "5. **Cost Efficiency**: Cleaning the membranes every four years is suggested to result in the lowest energy consumption and cumulative costs over a 12-year period.\n",
      "\n",
      "Overall, the document highlights the complexities of operating SWRO systems, the impact of fouling, and the importance of balancing cleaning processes with energy efficiency and cost.\n",
      "The document presents a research report evaluating the effectiveness of cleaning-in-place (CIP) for membranes and the optimal replacement period for membranes in a seawater reverse osmosis (SWRO) plant in the Maldives. Key points include:\n",
      "\n",
      "1. **Fouling Impact**: Fouling reduces SWRO membrane performance, leading to increased differential pressure, decreased efficiency, and lower permeate quality.\n",
      "\n",
      "2. **Factors Influencing Membrane Lifespan**: The lifespan of RO membranes is affected by feed water quality, membrane flux (influenced by recovery percentage), and the extent of fouling/scaling.\n",
      "\n",
      "3. **CIP Practice**: CIP is a common method used to mitigate fouling in RO plants.\n",
      "\n",
      "4. **Financial Analysis**: The study compares the financial impacts of membrane replacement versus CIP on specific energy consumption (SEC) using operational data from January 2018 to January 2024.\n",
      "\n",
      "5. **Breakeven Analysis**: \n",
      "   - The breakeven point for replacing membranes every 4 years versus every 5 years is 5 years.\n",
      "   - The breakeven for 4-year replacement against a scenario with only CIP is 6.08 years.\n",
      "\n",
      "6. **Energy Consumption Improvement**: On average, SEC improves by 0.07 kWh/m³ after CIP.\n",
      "\n",
      "7. **Optimal Replacement Period**: Replacing membranes every 4 years results in the lowest energy consumption and cumulative costs over a 12-year period. \n",
      "\n",
      "Overall, the study suggests that regular membrane replacement is more cost-effective than relying solely on CIP in the long term.\n",
      "The document discusses the energy consumption associated with water treatment processes, specifically focusing on the specific energy consumption (SEC) of membrane-based systems. Key points include:\n",
      "\n",
      "1. **Energy Requirements**: The thermodynamic energy requirement for water recovery is 0.7 kWh/m³ for 100% recovery and 1.1 kWh/m³ for 50% recovery. A baseline test showed an SEC of 1.58 kWh/m³ at 42% recovery, which is higher than the theoretical values.\n",
      "\n",
      "2. **Current SEC Levels**: An internal audit at MWSC’s Hulhumalé site found SEC values ranging from 2.12 kWh/m³ to 2.92 kWh/m³, indicating higher energy consumption than ideal.\n",
      "\n",
      "3. **Impact of Membrane Fouling**: Membrane fouling significantly increases SEC by causing blockages that degrade performance, leading to higher energy demands and operating costs.\n",
      "\n",
      "4. **Cleaning Methods**: Various cleaning methods are employed to address fouling:\n",
      "   - Low pH cleaners (e.g., citric acid) target scale minerals and inorganic materials.\n",
      "   - High pH cleaners address organic fouling and biofouling.\n",
      "   - Stronger chemicals like hydrochloric acid may be used for severe scaling, but they risk damaging membranes.\n",
      "   - Biocides are used to prevent bacterial growth.\n",
      "   - Mechanical methods, such as reverse flow cleaning, effectively remove biological fouling and particulates.\n",
      "\n",
      "5. **Effective Cleaning Agents**: High pH cleaners, such as combinations of sodium tripolyphosphate and EDTA or sodium hydroxide and sodium dodecyl sulfate, are. This instance will be ignored in loss calculation. Note, if this happens often, consider increasing the `max_seq_length`.\n",
      "  warnings.warn(\n",
      "[INFO|trainer.py:3887] 2025-02-12 22:40:26,282 >> Saving model checkpoint to /Users/jh/workspaces/notebook/voyage/homework/trained_model/fb_8/checkpoint-252\n"
     ]
    },
    {
     "name": "stdout",
     "output_type": "stream",
     "text": [
      "{'eval_loss': 1.9363839626312256, 'eval_runtime': 13.719, 'eval_samples_per_second': 2.041, 'eval_steps_per_second': 0.51, 'epoch': 9.0}\n"
     ]
    },
    {
     "name": "stderr",
     "output_type": "stream",
     "text": [
      "[INFO|configuration_utils.py:695] 2025-02-12 22:40:26,792 >> loading configuration file config.json from cache at /Users/jh/.cache/huggingface/hub/models--facebook--opt-350m/snapshots/08ab08cc4b72ff5593870b5d527cf4230323703c/config.json\n",
      "[INFO|configuration_utils.py:762] 2025-02-12 22:40:26,795 >> Model config OPTConfig {\n",
      "  \"_name_or_path\": \"opt-350m\",\n",
      "  \"_remove_final_layer_norm\": false,\n",
      "  \"activation_dropout\": 0.0,\n",
      "  \"activation_function\": \"relu\",\n",
      "  \"architectures\": [\n",
      "    \"OPTForCausalLM\"\n",
      "  ],\n",
      "  \"attention_dropout\": 0.0,\n",
      "  \"bos_token_id\": 2,\n",
      "  \"do_layer_norm_before\": false,\n",
      "  \"dropout\": 0.1,\n",
      "  \"enable_bias\": true,\n",
      "  \"eos_token_id\": 2,\n",
      "  \"ffn_dim\": 4096,\n",
      "  \"hidden_size\": 1024,\n",
      "  \"init_std\": 0.02,\n",
      "  \"layer_norm_elementwise_affine\": true,\n",
      "  \"layerdrop\": 0.0,\n",
      "  \"max_position_embeddings\": 2048,\n",
      "  \"model_type\": \"opt\",\n",
      "  \"num_attention_heads\": 16,\n",
      "  \"num_hidden_layers\": 24,\n",
      "  \"pad_token_id\": 1,\n",
      "  \"prefix\": \"</s>\",\n",
      "  \"torch_dtype\": \"float16\",\n",
      "  \"transformers_version\": \"4.47.1\",\n",
      "  \"use_cache\": true,\n",
      "  \"vocab_size\": 50272,\n",
      "  \"word_embed_proj_dim\": 512\n",
      "}\n",
      "\n",
      "[INFO|tokenization_utils_base.py:2485] 2025-02-12 22:40:26,882 >> tokenizer config file saved in /Users/jh/workspaces/notebook/voyage/homework/trained_model/fb_8/checkpoint-252/tokenizer_config.json\n",
      "[INFO|tokenization_utils_base.py:2494] 2025-02-12 22:40:26,883 >> Special tokens file saved in /Users/jh/workspaces/notebook/voyage/homework/trained_model/fb_8/checkpoint-252/special_tokens_map.json\n",
      "[INFO|trainer.py:3887] 2025-02-12 22:43:19,584 >> Saving model checkpoint to /Users/jh/workspaces/notebook/voyage/homework/trained_model/fb_8/checkpoint-280\n",
      "[INFO|configuration_utils.py:695] 2025-02-12 22:43:20,088 >> loading configuration file config.json from cache at /Users/jh/.cache/huggingface/hub/models--facebook--opt-350m/snapshots/08ab08cc4b72ff5593870b5d527cf4230323703c/config.json\n",
      "[INFO|configuration_utils.py:762] 2025-02-12 22:43:20,090 >> Model config OPTConfig {\n",
      "  \"_name_or_path\": \"opt-350m\",\n",
      "  \"_remove_final_layer_norm\": false,\n",
      "  \"activation_dropout\": 0.0,\n",
      "  \"activation_function\": \"relu\",\n",
      "  \"architectures\": [\n",
      "    \"OPTForCausalLM\"\n",
      "  ],\n",
      "  \"attention_dropout\": 0.0,\n",
      "  \"bos_token_id\": 2,\n",
      "  \"do_layer_norm_before\": false,\n",
      "  \"dropout\": 0.1,\n",
      "  \"enable_bias\": true,\n",
      "  \"eos_token_id\": 2,\n",
      "  \"ffn_dim\": 4096,\n",
      "  \"hidden_size\": 1024,\n",
      "  \"init_std\": 0.02,\n",
      "  \"layer_norm_elementwise_affine\": true,\n",
      "  \"layerdrop\": 0.0,\n",
      "  \"max_position_embeddings\": 2048,\n",
      "  \"model_type\": \"opt\",\n",
      "  \"num_attention_heads\": 16,\n",
      "  \"num_hidden_layers\": 24,\n",
      "  \"pad_token_id\": 1,\n",
      "  \"prefix\": \"</s>\",\n",
      "  \"torch_dtype\": \"float16\",\n",
      "  \"transformers_version\": \"4.47.1\",\n",
      "  \"use_cache\": true,\n",
      "  \"vocab_size\": 50272,\n",
      "  \"word_embed_proj_dim\": 512\n",
      "}\n",
      "\n",
      "[INFO|tokenization_utils_base.py:2485] 2025-02-12 22:43:20,230 >> tokenizer config file saved in /Users/jh/workspaces/notebook/voyage/homework/trained_model/fb_8/checkpoint-280/tokenizer_config.json\n",
      "[INFO|tokenization_utils_base.py:2494] 2025-02-12 22:43:20,231 >> Special tokens file saved in /Users/jh/workspaces/notebook/voyage/homework/trained_model/fb_8/checkpoint-280/special_tokens_map.json\n",
      "[INFO|trainer.py:4203] 2025-02-12 22:43:20,480 >> \n",
      "***** Running Evaluation *****\n",
      "[INFO|trainer.py:4205] 2025-02-12 22:43:20,481 >>   Num examples = 28\n",
      "[INFO|trainer.py:4208] 2025-02-12 22:43:20,481 >>   Batch size = 4\n"
     ]
    },
    {
     "data": {
      "application/vnd.jupyter.widget-view+json": {
       "model_id": "0fdfdebe06774a3b95ee943c49d696c1",
       "version_major": 2,
       "version_minor": 0
      },
      "text/plain": [
       "  0%|          | 0/7 [00:00<?, ?it/s]"
      ]
     },
     "metadata": {},
     "output_type": "display_data"
    },
    {
     "name": "stderr",
     "output_type": "stream",
     "text": [
      "/Users/jh/workspaces/notebook/voyage/.venv/lib/python3.11/site-packages/trl/trainer/utils.py:139: UserWarning: Could not find response key `Answer:` in the following instance: </s>Human: This is a set of summary:\n",
      "The document discusses the challenges and considerations associated with seawater reverse osmosis (SWRO) membrane filtration systems, particularly focusing on fouling, which is the accumulation of various substances that negatively impact membrane performance. Key points include:\n",
      "\n",
      "1. **Fouling Issues**: Fouling is caused by precipitates, colloidal particles, bacteria, biofilm, and dissolved organic matter, leading to reduced permeate production and shorter membrane lifespan.\n",
      "\n",
      "2. **Membrane Lifespan**: SWRO membranes typically last 5-6 years, but fouling can significantly affect their longevity.\n",
      "\n",
      "3. **Cleaning Methods**: To address fouling, chemical and mechanical cleaning methods are employed, but these must be carefully managed to prevent further damage to the membranes.\n",
      "\n",
      "4. **Energy Consumption**: The specific energy consumption (SEC) for the SWRO process ranges from 2.3 to 3.0 kWh/m³, which is much higher than the theoretical energy requirement of 0.7 kWh/m³ for 100% recovery and 1.1 kWh/m³ for 50% recovery.\n",
      "\n",
      "5. **Cost Efficiency**: Cleaning the membranes every four years is suggested to result in the lowest energy consumption and cumulative costs over a 12-year period.\n",
      "\n",
      "Overall, the document highlights the complexities of operating SWRO systems, the impact of fouling, and the importance of balancing cleaning processes with energy efficiency and cost.\n",
      "The document presents a research report evaluating the effectiveness of cleaning-in-place (CIP) for membranes and the optimal replacement period for membranes in a seawater reverse osmosis (SWRO) plant in the Maldives. Key points include:\n",
      "\n",
      "1. **Fouling Impact**: Fouling reduces SWRO membrane performance, leading to increased differential pressure, decreased efficiency, and lower permeate quality.\n",
      "\n",
      "2. **Factors Influencing Membrane Lifespan**: The lifespan of RO membranes is affected by feed water quality, membrane flux (influenced by recovery percentage), and the extent of fouling/scaling.\n",
      "\n",
      "3. **CIP Practice**: CIP is a common method used to mitigate fouling in RO plants.\n",
      "\n",
      "4. **Financial Analysis**: The study compares the financial impacts of membrane replacement versus CIP on specific energy consumption (SEC) using operational data from January 2018 to January 2024.\n",
      "\n",
      "5. **Breakeven Analysis**: \n",
      "   - The breakeven point for replacing membranes every 4 years versus every 5 years is 5 years.\n",
      "   - The breakeven for 4-year replacement against a scenario with only CIP is 6.08 years.\n",
      "\n",
      "6. **Energy Consumption Improvement**: On average, SEC improves by 0.07 kWh/m³ after CIP.\n",
      "\n",
      "7. **Optimal Replacement Period**: Replacing membranes every 4 years results in the lowest energy consumption and cumulative costs over a 12-year period. \n",
      "\n",
      "Overall, the study suggests that regular membrane replacement is more cost-effective than relying solely on CIP in the long term.\n",
      "The document discusses the energy consumption associated with water treatment processes, specifically focusing on the specific energy consumption (SEC) of membrane-based systems. Key points include:\n",
      "\n",
      "1. **Energy Requirements**: The thermodynamic energy requirement for water recovery is 0.7 kWh/m³ for 100% recovery and 1.1 kWh/m³ for 50% recovery. A baseline test showed an SEC of 1.58 kWh/m³ at 42% recovery, which is higher than the theoretical values.\n",
      "\n",
      "2. **Current SEC Levels**: An internal audit at MWSC’s Hulhumalé site found SEC values ranging from 2.12 kWh/m³ to 2.92 kWh/m³, indicating higher energy consumption than ideal.\n",
      "\n",
      "3. **Impact of Membrane Fouling**: Membrane fouling significantly increases SEC by causing blockages that degrade performance, leading to higher energy demands and operating costs.\n",
      "\n",
      "4. **Cleaning Methods**: Various cleaning methods are employed to address fouling:\n",
      "   - Low pH cleaners (e.g., citric acid) target scale minerals and inorganic materials.\n",
      "   - High pH cleaners address organic fouling and biofouling.\n",
      "   - Stronger chemicals like hydrochloric acid may be used for severe scaling, but they risk damaging membranes.\n",
      "   - Biocides are used to prevent bacterial growth.\n",
      "   - Mechanical methods, such as reverse flow cleaning, effectively remove biological fouling and particulates.\n",
      "\n",
      "5. **Effective Cleaning Agents**: High pH cleaners, such as combinations of sodium tripolyphosphate and EDTA or sodium hydroxide and sodium dodecyl sulfate, are. This instance will be ignored in loss calculation. Note, if this happens often, consider increasing the `max_seq_length`.\n",
      "  warnings.warn(\n",
      "[INFO|trainer.py:3887] 2025-02-12 22:43:34,187 >> Saving model checkpoint to /Users/jh/workspaces/notebook/voyage/homework/trained_model/fb_8/checkpoint-280\n"
     ]
    },
    {
     "name": "stdout",
     "output_type": "stream",
     "text": [
      "{'eval_loss': 1.9375, 'eval_runtime': 13.7059, 'eval_samples_per_second': 2.043, 'eval_steps_per_second': 0.511, 'epoch': 10.0}\n"
     ]
    },
    {
     "name": "stderr",
     "output_type": "stream",
     "text": [
      "[INFO|configuration_utils.py:695] 2025-02-12 22:43:34,662 >> loading configuration file config.json from cache at /Users/jh/.cache/huggingface/hub/models--facebook--opt-350m/snapshots/08ab08cc4b72ff5593870b5d527cf4230323703c/config.json\n",
      "[INFO|configuration_utils.py:762] 2025-02-12 22:43:34,665 >> Model config OPTConfig {\n",
      "  \"_name_or_path\": \"opt-350m\",\n",
      "  \"_remove_final_layer_norm\": false,\n",
      "  \"activation_dropout\": 0.0,\n",
      "  \"activation_function\": \"relu\",\n",
      "  \"architectures\": [\n",
      "    \"OPTForCausalLM\"\n",
      "  ],\n",
      "  \"attention_dropout\": 0.0,\n",
      "  \"bos_token_id\": 2,\n",
      "  \"do_layer_norm_before\": false,\n",
      "  \"dropout\": 0.1,\n",
      "  \"enable_bias\": true,\n",
      "  \"eos_token_id\": 2,\n",
      "  \"ffn_dim\": 4096,\n",
      "  \"hidden_size\": 1024,\n",
      "  \"init_std\": 0.02,\n",
      "  \"layer_norm_elementwise_affine\": true,\n",
      "  \"layerdrop\": 0.0,\n",
      "  \"max_position_embeddings\": 2048,\n",
      "  \"model_type\": \"opt\",\n",
      "  \"num_attention_heads\": 16,\n",
      "  \"num_hidden_layers\": 24,\n",
      "  \"pad_token_id\": 1,\n",
      "  \"prefix\": \"</s>\",\n",
      "  \"torch_dtype\": \"float16\",\n",
      "  \"transformers_version\": \"4.47.1\",\n",
      "  \"use_cache\": true,\n",
      "  \"vocab_size\": 50272,\n",
      "  \"word_embed_proj_dim\": 512\n",
      "}\n",
      "\n",
      "[INFO|tokenization_utils_base.py:2485] 2025-02-12 22:43:34,795 >> tokenizer config file saved in /Users/jh/workspaces/notebook/voyage/homework/trained_model/fb_8/checkpoint-280/tokenizer_config.json\n",
      "[INFO|tokenization_utils_base.py:2494] 2025-02-12 22:43:34,797 >> Special tokens file saved in /Users/jh/workspaces/notebook/voyage/homework/trained_model/fb_8/checkpoint-280/special_tokens_map.json\n",
      "[INFO|trainer.py:2636] 2025-02-12 22:43:34,984 >> \n",
      "\n",
      "Training completed. Do not forget to share your model on huggingface.co/models =)\n",
      "\n",
      "\n",
      "[INFO|trainer.py:2874] 2025-02-12 22:43:34,985 >> Loading best model from /Users/jh/workspaces/notebook/voyage/homework/trained_model/fb_8/checkpoint-140 (score: 1.9330357313156128).\n",
      "[INFO|trainer.py:3887] 2025-02-12 22:43:35,092 >> Saving model checkpoint to /Users/jh/workspaces/notebook/voyage/homework/trained_model/fb_8\n"
     ]
    },
    {
     "name": "stdout",
     "output_type": "stream",
     "text": [
      "{'train_runtime': 3344.2065, 'train_samples_per_second': 0.329, 'train_steps_per_second': 0.084, 'train_loss': 1.8474888392857143, 'epoch': 10.0}\n"
     ]
    },
    {
     "name": "stderr",
     "output_type": "stream",
     "text": [
      "[INFO|configuration_utils.py:695] 2025-02-12 22:43:35,692 >> loading configuration file config.json from cache at /Users/jh/.cache/huggingface/hub/models--facebook--opt-350m/snapshots/08ab08cc4b72ff5593870b5d527cf4230323703c/config.json\n",
      "[INFO|configuration_utils.py:762] 2025-02-12 22:43:35,695 >> Model config OPTConfig {\n",
      "  \"_name_or_path\": \"opt-350m\",\n",
      "  \"_remove_final_layer_norm\": false,\n",
      "  \"activation_dropout\": 0.0,\n",
      "  \"activation_function\": \"relu\",\n",
      "  \"architectures\": [\n",
      "    \"OPTForCausalLM\"\n",
      "  ],\n",
      "  \"attention_dropout\": 0.0,\n",
      "  \"bos_token_id\": 2,\n",
      "  \"do_layer_norm_before\": false,\n",
      "  \"dropout\": 0.1,\n",
      "  \"enable_bias\": true,\n",
      "  \"eos_token_id\": 2,\n",
      "  \"ffn_dim\": 4096,\n",
      "  \"hidden_size\": 1024,\n",
      "  \"init_std\": 0.02,\n",
      "  \"layer_norm_elementwise_affine\": true,\n",
      "  \"layerdrop\": 0.0,\n",
      "  \"max_position_embeddings\": 2048,\n",
      "  \"model_type\": \"opt\",\n",
      "  \"num_attention_heads\": 16,\n",
      "  \"num_hidden_layers\": 24,\n",
      "  \"pad_token_id\": 1,\n",
      "  \"prefix\": \"</s>\",\n",
      "  \"torch_dtype\": \"float16\",\n",
      "  \"transformers_version\": \"4.47.1\",\n",
      "  \"use_cache\": true,\n",
      "  \"vocab_size\": 50272,\n",
      "  \"word_embed_proj_dim\": 512\n",
      "}\n",
      "\n",
      "[INFO|tokenization_utils_base.py:2485] 2025-02-12 22:43:35,754 >> tokenizer config file saved in /Users/jh/workspaces/notebook/voyage/homework/trained_model/fb_8/tokenizer_config.json\n",
      "[INFO|tokenization_utils_base.py:2494] 2025-02-12 22:43:35,755 >> Special tokens file saved in /Users/jh/workspaces/notebook/voyage/homework/trained_model/fb_8/special_tokens_map.json\n"
     ]
    },
    {
     "name": "stdout",
     "output_type": "stream",
     "text": [
      "***** train metrics *****\n",
      "  epoch                    =       10.0\n",
      "  total_flos               =  1788434GF\n",
      "  train_loss               =     1.8475\n",
      "  train_runtime            = 0:55:44.20\n",
      "  train_samples_per_second =      0.329\n",
      "  train_steps_per_second   =      0.084\n"
     ]
    }
   ],
   "source": [
    "trainer = SFTTrainer(\n",
    "    model,\n",
    "    train_dataset=ds_train,\n",
    "    args=training_args,\n",
    "    formatting_func=formatting_prompts_func,\n",
    "    data_collator=collator,\n",
    "    eval_dataset=ds_test\n",
    ")\n",
    "#trainer.train()\n",
    "\n",
    "checkpoint = None\n",
    "last_checkpoint = get_last_checkpoint(training_args.output_dir)  # 만약 output_dir에 checkpoint가 남아있으면 이를 사용하고, 없으면 None이 return됩니다.\n",
    "if training_args.resume_from_checkpoint is not None:  # output_dir이 아닌 다른 위치에서의 checkpoint를 resume_from_checkpoint로 지정할 수 있습니다.\n",
    "    checkpoint = training_args.resume_from_checkpoint\n",
    "else:  # 아니면 last_checkpoint로 checkpoint를 지정합니다.\n",
    "    checkpoint = last_checkpoint\n",
    "\n",
    "train_result = trainer.train()\n",
    "\n",
    "trainer.save_model()\n",
    "\n",
    "metrics = train_result.metrics\n",
    "trainer.log_metrics(\"train\", metrics)\n",
    "trainer.save_metrics(\"train\", metrics)\n",
    "trainer.save_state()"
   ]
  },
  {
   "cell_type": "code",
   "execution_count": null,
   "metadata": {},
   "outputs": [],
   "source": []
  }
 ],
 "metadata": {
  "kernelspec": {
   "display_name": ".venv",
   "language": "python",
   "name": "python3"
  },
  "language_info": {
   "codemirror_mode": {
    "name": "ipython",
    "version": 3
   },
   "file_extension": ".py",
   "mimetype": "text/x-python",
   "name": "python",
   "nbconvert_exporter": "python",
   "pygments_lexer": "ipython3",
   "version": "3.11.9"
  }
 },
 "nbformat": 4,
 "nbformat_minor": 2
}
