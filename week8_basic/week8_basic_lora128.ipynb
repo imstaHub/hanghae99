{
 "cells": [
  {
   "cell_type": "markdown",
   "metadata": {},
   "source": [
    "## Week8 Basic Homework\n",
    "- corpus 사용하여 facebook/opt-350m 학습"
   ]
  },
  {
   "cell_type": "code",
   "execution_count": 1,
   "metadata": {},
   "outputs": [],
   "source": [
    "import os\n",
    "import sys\n",
    "import json\n",
    "import torch\n",
    "import wandb\n",
    "import logging\n",
    "import evaluate\n",
    "import transformers\n",
    "import numpy as np\n",
    "import pandas as pd\n",
    "\n",
    "from sklearn.model_selection import train_test_split\n",
    "\n",
    "import datasets\n",
    "from transformers import (\n",
    "    AutoModelForCausalLM,\n",
    "    AutoTokenizer,\n",
    ")\n",
    "\n",
    "from peft import (\n",
    "    get_peft_config,\n",
    "    get_peft_model,\n",
    "    LoraConfig,\n",
    "    TaskType\n",
    ")\n",
    "\n",
    "from trl import (\n",
    "    SFTConfig,\n",
    "    SFTTrainer,\n",
    "    DataCollatorForCompletionOnlyLM\n",
    ")\n",
    "\n",
    "from transformers.trainer_utils import get_last_checkpoint"
   ]
  },
  {
   "cell_type": "code",
   "execution_count": 2,
   "metadata": {},
   "outputs": [
    {
     "name": "stdout",
     "output_type": "stream",
     "text": [
      "mps\n"
     ]
    }
   ],
   "source": [
    "#device setting\n",
    "if torch.backends.mps.is_available():\n",
    "    device = torch.device(\"mps\")\n",
    "elif torch.backends.cuda.is_built():\n",
    "    device = torch.device(\"cuda\")\n",
    "else:\n",
    "    device = torch.device(\"cpu\")\n",
    "\n",
    "print(device)"
   ]
  },
  {
   "cell_type": "markdown",
   "metadata": {},
   "source": [
    "## [MY CODE] Model Load (opt-350m)"
   ]
  },
  {
   "cell_type": "code",
   "execution_count": 3,
   "metadata": {},
   "outputs": [],
   "source": [
    "# facebook - 2k tokens\n",
    "model_name = \"facebook/opt-350m\"\n",
    "tokenizer = AutoTokenizer.from_pretrained(model_name)\n",
    "model = AutoModelForCausalLM.from_pretrained(\n",
    "    model_name,\n",
    "    device_map=device,\n",
    "    torch_dtype=torch.bfloat16\n",
    ")"
   ]
  },
  {
   "cell_type": "code",
   "execution_count": 4,
   "metadata": {},
   "outputs": [
    {
     "name": "stdout",
     "output_type": "stream",
     "text": [
      "trainable params: 57,016,320 || all params: 388,212,736 || trainable%: 14.6869\n"
     ]
    }
   ],
   "source": [
    "lora_r: int = 128\n",
    "lora_dropout: float = 0.1\n",
    "lora_alpha: int = 32\n",
    "\n",
    "target_modules = set()\n",
    "\n",
    "for name, module in model.named_modules():\n",
    "    if isinstance(module, torch.nn.Linear):\n",
    "        names = name.split('.')\n",
    "        target_modules.add(names[0] if len(names) == 1 else names[-1])\n",
    "\n",
    "if \"lm_head\" in target_modules:  # needed for 16-bit\n",
    "    target_modules.remove(\"lm_head\")\n",
    "\n",
    "target_modules = list(target_modules)\n",
    "\n",
    "peft_config = LoraConfig(\n",
    "    task_type=TaskType.CAUSAL_LM,\n",
    "    inference_mode=False,\n",
    "    r=lora_r,\n",
    "    lora_alpha=lora_alpha,\n",
    "    lora_dropout=lora_dropout,\n",
    "    target_modules=target_modules\n",
    ")\n",
    "model = get_peft_model(model, peft_config)\n",
    "model.print_trainable_parameters()"
   ]
  },
  {
   "cell_type": "markdown",
   "metadata": {},
   "source": [
    "## [MY CODE] Data Load (corpus)"
   ]
  },
  {
   "cell_type": "code",
   "execution_count": 10,
   "metadata": {},
   "outputs": [
    {
     "data": {
      "text/plain": [
       "DatasetDict({\n",
       "    train: Dataset({\n",
       "        features: ['input', 'output'],\n",
       "        num_rows: 108\n",
       "    })\n",
       "    test: Dataset({\n",
       "        features: ['input', 'output'],\n",
       "        num_rows: 27\n",
       "    })\n",
       "})"
      ]
     },
     "execution_count": 10,
     "metadata": {},
     "output_type": "execute_result"
    }
   ],
   "source": [
    "with open(\"corpus_small.json\", \"r\", encoding=\"utf-8\") as f:\n",
    "    corpus = json.load(f)\n",
    "\n",
    "tmp_corpus = []\n",
    "for c in corpus:\n",
    "    if(len(c['input'])+len(c['output'])<7800):\n",
    "        tmp_corpus.append(c)\n",
    "\n",
    "corpus = tmp_corpus\n",
    "\n",
    "df = pd.DataFrame(corpus)\n",
    "\n",
    "train_df, test_df = train_test_split(df, test_size = 0.2, random_state = 42)\n",
    "\n",
    "ds_train = datasets.Dataset.from_pandas(train_df, preserve_index=False)\n",
    "ds_test = datasets.Dataset.from_pandas(test_df, preserve_index=False)\n",
    "\n",
    "data_files = datasets.DatasetDict({\"train\":ds_train,\n",
    "                                   \"test\":ds_test})\n",
    "\n",
    "data_files"
   ]
  },
  {
   "cell_type": "markdown",
   "metadata": {},
   "source": [
    "## [MY CODE] 학습 준비 - training arguments, data preprocess function, collator"
   ]
  },
  {
   "cell_type": "code",
   "execution_count": 6,
   "metadata": {},
   "outputs": [
    {
     "name": "stderr",
     "output_type": "stream",
     "text": [
      "\u001b[34m\u001b[1mwandb\u001b[0m: Currently logged in as: \u001b[33mimsta\u001b[0m (\u001b[33mimsta-hub\u001b[0m) to \u001b[32mhttps://api.wandb.ai\u001b[0m. Use \u001b[1m`wandb login --relogin`\u001b[0m to force relogin\n",
      "\u001b[34m\u001b[1mwandb\u001b[0m: Using wandb-core as the SDK backend.  Please refer to https://wandb.me/wandb-core for more information.\n"
     ]
    },
    {
     "data": {
      "text/html": [
       "Tracking run with wandb version 0.19.5"
      ],
      "text/plain": [
       "<IPython.core.display.HTML object>"
      ]
     },
     "metadata": {},
     "output_type": "display_data"
    },
    {
     "data": {
      "text/html": [
       "Run data is saved locally in <code>/Users/jh/workspaces/notebook/voyage/homework/wandb/run-20250212_224828-j8btunf5</code>"
      ],
      "text/plain": [
       "<IPython.core.display.HTML object>"
      ]
     },
     "metadata": {},
     "output_type": "display_data"
    },
    {
     "data": {
      "text/html": [
       "Syncing run <strong><a href='https://wandb.ai/imsta-hub/Hanghae99/runs/j8btunf5' target=\"_blank\">likely-sea-22</a></strong> to <a href='https://wandb.ai/imsta-hub/Hanghae99' target=\"_blank\">Weights & Biases</a> (<a href='https://wandb.me/developer-guide' target=\"_blank\">docs</a>)<br>"
      ],
      "text/plain": [
       "<IPython.core.display.HTML object>"
      ]
     },
     "metadata": {},
     "output_type": "display_data"
    },
    {
     "data": {
      "text/html": [
       " View project at <a href='https://wandb.ai/imsta-hub/Hanghae99' target=\"_blank\">https://wandb.ai/imsta-hub/Hanghae99</a>"
      ],
      "text/plain": [
       "<IPython.core.display.HTML object>"
      ]
     },
     "metadata": {},
     "output_type": "display_data"
    },
    {
     "data": {
      "text/html": [
       " View run at <a href='https://wandb.ai/imsta-hub/Hanghae99/runs/j8btunf5' target=\"_blank\">https://wandb.ai/imsta-hub/Hanghae99/runs/j8btunf5</a>"
      ],
      "text/plain": [
       "<IPython.core.display.HTML object>"
      ]
     },
     "metadata": {},
     "output_type": "display_data"
    }
   ],
   "source": [
    "# # wandb 접속\n",
    "wandb.init(project='Hanghae99')\n",
    "wandb.run.name = 'fb-lora128-finetuning'\n",
    "\n",
    "logger = logging.getLogger()\n",
    "\n",
    "logging.basicConfig(\n",
    "    format=\"%(asctime)s - %(levelname)s - %(name)s - %(message)s\",\n",
    "    datefmt=\"%m/%d/%Y %H:%M:%S\",\n",
    "    handlers=[logging.StreamHandler(sys.stdout)],\n",
    ")"
   ]
  },
  {
   "cell_type": "code",
   "execution_count": 7,
   "metadata": {},
   "outputs": [],
   "source": [
    "training_args = SFTConfig(output_dir=os.path.join(os.getcwd(),'trained_model/fb_128'),\n",
    "                        learning_rate=1e-4,\n",
    "                        per_device_train_batch_size=2,\n",
    "                        per_device_eval_batch_size=2,\n",
    "                        num_train_epochs=10,\n",
    "                        weight_decay=0.01,\n",
    "                        eval_strategy=\"epoch\",\n",
    "                        save_strategy=\"epoch\",\n",
    "                        load_best_model_at_end=True,\n",
    "                        report_to = \"wandb\",\n",
    "                        push_to_hub=False,\n",
    "                        )\n",
    "\n",
    "# logger 설정\n",
    "if training_args.should_log:\n",
    "    transformers.utils.logging.set_verbosity_info()  # log level을 INFO로 변경\n",
    "\n",
    "# log level: 10 DEBUG, 20 INFO, 30 WARNING, 40 ERROR, 50 CRITICAL\n",
    "log_level = training_args.get_process_log_level()\n",
    "\n",
    "# 우리가 가지고 있는 logger와 HuggingFace의 logger의 log level 설정\n",
    "logger.setLevel(log_level)\n",
    "transformers.utils.logging.set_verbosity(log_level)\n",
    "\n",
    "# 기타 HuggingFace logger option들을 설정\n",
    "transformers.utils.logging.enable_default_handler() # logger 기능 활성화\n",
    "transformers.utils.logging.enable_explicit_format() # 포맷 설정: [LEVELNAME|FILENAME|LINE NUMBER] TIME >> MESSAGE"
   ]
  },
  {
   "cell_type": "code",
   "execution_count": 8,
   "metadata": {},
   "outputs": [],
   "source": [
    "def formatting_prompts_func(src_df):\n",
    "    output_texts = []\n",
    "    for i in range(len(src_df['input'])):\n",
    "        text = f\"{src_df['input'][i]}\\n{src_df['output'][i]}\"\n",
    "        output_texts.append(text)\n",
    "    return output_texts"
   ]
  },
  {
   "cell_type": "code",
   "execution_count": 9,
   "metadata": {},
   "outputs": [],
   "source": [
    "tokenizer.padding_side = \"right\"\n",
    "\n",
    "response_template = \"Answer:\"\n",
    "collator = DataCollatorForCompletionOnlyLM(response_template, tokenizer=tokenizer)"
   ]
  },
  {
   "cell_type": "code",
   "execution_count": 11,
   "metadata": {},
   "outputs": [
    {
     "name": "stderr",
     "output_type": "stream",
     "text": [
      "[INFO|configuration_utils.py:695] 2025-02-12 22:51:13,185 >> loading configuration file config.json from cache at /Users/jh/.cache/huggingface/hub/models--facebook--opt-350m/snapshots/08ab08cc4b72ff5593870b5d527cf4230323703c/config.json\n",
      "[INFO|configuration_utils.py:762] 2025-02-12 22:51:13,186 >> Model config OPTConfig {\n",
      "  \"_name_or_path\": \"facebook/opt-350m\",\n",
      "  \"_remove_final_layer_norm\": false,\n",
      "  \"activation_dropout\": 0.0,\n",
      "  \"activation_function\": \"relu\",\n",
      "  \"architectures\": [\n",
      "    \"OPTForCausalLM\"\n",
      "  ],\n",
      "  \"attention_dropout\": 0.0,\n",
      "  \"bos_token_id\": 2,\n",
      "  \"do_layer_norm_before\": false,\n",
      "  \"dropout\": 0.1,\n",
      "  \"enable_bias\": true,\n",
      "  \"eos_token_id\": 2,\n",
      "  \"ffn_dim\": 4096,\n",
      "  \"hidden_size\": 1024,\n",
      "  \"init_std\": 0.02,\n",
      "  \"layer_norm_elementwise_affine\": true,\n",
      "  \"layerdrop\": 0.0,\n",
      "  \"max_position_embeddings\": 2048,\n",
      "  \"model_type\": \"opt\",\n",
      "  \"num_attention_heads\": 16,\n",
      "  \"num_hidden_layers\": 24,\n",
      "  \"pad_token_id\": 1,\n",
      "  \"prefix\": \"</s>\",\n",
      "  \"torch_dtype\": \"float16\",\n",
      "  \"transformers_version\": \"4.47.1\",\n",
      "  \"use_cache\": true,\n",
      "  \"vocab_size\": 50272,\n",
      "  \"word_embed_proj_dim\": 512\n",
      "}\n",
      "\n",
      "[INFO|tokenization_utils_base.py:2030] 2025-02-12 22:51:13,188 >> loading file vocab.json from cache at /Users/jh/.cache/huggingface/hub/models--facebook--opt-350m/snapshots/08ab08cc4b72ff5593870b5d527cf4230323703c/vocab.json\n",
      "[INFO|tokenization_utils_base.py:2030] 2025-02-12 22:51:13,189 >> loading file merges.txt from cache at /Users/jh/.cache/huggingface/hub/models--facebook--opt-350m/snapshots/08ab08cc4b72ff5593870b5d527cf4230323703c/merges.txt\n",
      "[INFO|tokenization_utils_base.py:2030] 2025-02-12 22:51:13,189 >> loading file tokenizer.json from cache at None\n",
      "[INFO|tokenization_utils_base.py:2030] 2025-02-12 22:51:13,189 >> loading file added_tokens.json from cache at None\n",
      "[INFO|tokenization_utils_base.py:2030] 2025-02-12 22:51:13,190 >> loading file special_tokens_map.json from cache at /Users/jh/.cache/huggingface/hub/models--facebook--opt-350m/snapshots/08ab08cc4b72ff5593870b5d527cf4230323703c/special_tokens_map.json\n",
      "[INFO|tokenization_utils_base.py:2030] 2025-02-12 22:51:13,190 >> loading file tokenizer_config.json from cache at /Users/jh/.cache/huggingface/hub/models--facebook--opt-350m/snapshots/08ab08cc4b72ff5593870b5d527cf4230323703c/tokenizer_config.json\n",
      "[INFO|tokenization_utils_base.py:2030] 2025-02-12 22:51:13,191 >> loading file chat_template.jinja from cache at None\n",
      "[INFO|configuration_utils.py:695] 2025-02-12 22:51:13,192 >> loading configuration file config.json from cache at /Users/jh/.cache/huggingface/hub/models--facebook--opt-350m/snapshots/08ab08cc4b72ff5593870b5d527cf4230323703c/config.json\n",
      "[INFO|configuration_utils.py:762] 2025-02-12 22:51:13,193 >> Model config OPTConfig {\n",
      "  \"_name_or_path\": \"facebook/opt-350m\",\n",
      "  \"_remove_final_layer_norm\": false,\n",
      "  \"activation_dropout\": 0.0,\n",
      "  \"activation_function\": \"relu\",\n",
      "  \"architectures\": [\n",
      "    \"OPTForCausalLM\"\n",
      "  ],\n",
      "  \"attention_dropout\": 0.0,\n",
      "  \"bos_token_id\": 2,\n",
      "  \"do_layer_norm_before\": false,\n",
      "  \"dropout\": 0.1,\n",
      "  \"enable_bias\": true,\n",
      "  \"eos_token_id\": 2,\n",
      "  \"ffn_dim\": 4096,\n",
      "  \"hidden_size\": 1024,\n",
      "  \"init_std\": 0.02,\n",
      "  \"layer_norm_elementwise_affine\": true,\n",
      "  \"layerdrop\": 0.0,\n",
      "  \"max_position_embeddings\": 2048,\n",
      "  \"model_type\": \"opt\",\n",
      "  \"num_attention_heads\": 16,\n",
      "  \"num_hidden_layers\": 24,\n",
      "  \"pad_token_id\": 1,\n",
      "  \"prefix\": \"</s>\",\n",
      "  \"torch_dtype\": \"float16\",\n",
      "  \"transformers_version\": \"4.47.1\",\n",
      "  \"use_cache\": true,\n",
      "  \"vocab_size\": 50272,\n",
      "  \"word_embed_proj_dim\": 512\n",
      "}\n",
      "\n",
      "[INFO|configuration_utils.py:695] 2025-02-12 22:51:13,228 >> loading configuration file config.json from cache at /Users/jh/.cache/huggingface/hub/models--facebook--opt-350m/snapshots/08ab08cc4b72ff5593870b5d527cf4230323703c/config.json\n",
      "[INFO|configuration_utils.py:762] 2025-02-12 22:51:13,229 >> Model config OPTConfig {\n",
      "  \"_name_or_path\": \"facebook/opt-350m\",\n",
      "  \"_remove_final_layer_norm\": false,\n",
      "  \"activation_dropout\": 0.0,\n",
      "  \"activation_function\": \"relu\",\n",
      "  \"architectures\": [\n",
      "    \"OPTForCausalLM\"\n",
      "  ],\n",
      "  \"attention_dropout\": 0.0,\n",
      "  \"bos_token_id\": 2,\n",
      "  \"do_layer_norm_before\": false,\n",
      "  \"dropout\": 0.1,\n",
      "  \"enable_bias\": true,\n",
      "  \"eos_token_id\": 2,\n",
      "  \"ffn_dim\": 4096,\n",
      "  \"hidden_size\": 1024,\n",
      "  \"init_std\": 0.02,\n",
      "  \"layer_norm_elementwise_affine\": true,\n",
      "  \"layerdrop\": 0.0,\n",
      "  \"max_position_embeddings\": 2048,\n",
      "  \"model_type\": \"opt\",\n",
      "  \"num_attention_heads\": 16,\n",
      "  \"num_hidden_layers\": 24,\n",
      "  \"pad_token_id\": 1,\n",
      "  \"prefix\": \"</s>\",\n",
      "  \"torch_dtype\": \"float16\",\n",
      "  \"transformers_version\": \"4.47.1\",\n",
      "  \"use_cache\": true,\n",
      "  \"vocab_size\": 50272,\n",
      "  \"word_embed_proj_dim\": 512\n",
      "}\n",
      "\n"
     ]
    },
    {
     "data": {
      "application/vnd.jupyter.widget-view+json": {
       "model_id": "272c2a13c61a4dbab31ae723e2cc49f2",
       "version_major": 2,
       "version_minor": 0
      },
      "text/plain": [
       "Map:   0%|          | 0/108 [00:00<?, ? examples/s]"
      ]
     },
     "metadata": {},
     "output_type": "display_data"
    },
    {
     "data": {
      "application/vnd.jupyter.widget-view+json": {
       "model_id": "6dbc4521120849fba222aefa089f9cfd",
       "version_major": 2,
       "version_minor": 0
      },
      "text/plain": [
       "Map:   0%|          | 0/27 [00:00<?, ? examples/s]"
      ]
     },
     "metadata": {},
     "output_type": "display_data"
    },
    {
     "name": "stderr",
     "output_type": "stream",
     "text": [
      "[INFO|trainer.py:2362] 2025-02-12 22:51:13,653 >> ***** Running training *****\n",
      "[INFO|trainer.py:2363] 2025-02-12 22:51:13,653 >>   Num examples = 108\n",
      "[INFO|trainer.py:2364] 2025-02-12 22:51:13,654 >>   Num Epochs = 10\n",
      "[INFO|trainer.py:2365] 2025-02-12 22:51:13,654 >>   Instantaneous batch size per device = 2\n",
      "[INFO|trainer.py:2368] 2025-02-12 22:51:13,655 >>   Total train batch size (w. parallel, distributed & accumulation) = 2\n",
      "[INFO|trainer.py:2369] 2025-02-12 22:51:13,655 >>   Gradient Accumulation steps = 1\n",
      "[INFO|trainer.py:2370] 2025-02-12 22:51:13,655 >>   Total optimization steps = 540\n",
      "[INFO|trainer.py:2371] 2025-02-12 22:51:13,658 >>   Number of trainable parameters = 57,016,320\n",
      "[INFO|integration_utils.py:811] 2025-02-12 22:51:13,661 >> Automatic Weights & Biases logging enabled, to disable set os.environ[\"WANDB_DISABLED\"] = \"true\"\n",
      "\u001b[34m\u001b[1mwandb\u001b[0m: \u001b[33mWARNING\u001b[0m The `run_name` is currently set to the same value as `TrainingArguments.output_dir`. If this was not intended, please specify a different run name by setting the `TrainingArguments.run_name` parameter.\n"
     ]
    },
    {
     "data": {
      "application/vnd.jupyter.widget-view+json": {
       "model_id": "37b31a2186af4e5aadb7a4b33214deaa",
       "version_major": 2,
       "version_minor": 0
      },
      "text/plain": [
       "  0%|          | 0/540 [00:00<?, ?it/s]"
      ]
     },
     "metadata": {},
     "output_type": "display_data"
    },
    {
     "name": "stderr",
     "output_type": "stream",
     "text": [
      "[INFO|trainer.py:4203] 2025-02-12 22:54:16,230 >> \n",
      "***** Running Evaluation *****\n",
      "[INFO|trainer.py:4205] 2025-02-12 22:54:16,240 >>   Num examples = 27\n",
      "[INFO|trainer.py:4208] 2025-02-12 22:54:16,240 >>   Batch size = 2\n"
     ]
    },
    {
     "data": {
      "application/vnd.jupyter.widget-view+json": {
       "model_id": "4a566005aa614898aa7763770ccc7362",
       "version_major": 2,
       "version_minor": 0
      },
      "text/plain": [
       "  0%|          | 0/14 [00:00<?, ?it/s]"
      ]
     },
     "metadata": {},
     "output_type": "display_data"
    },
    {
     "name": "stderr",
     "output_type": "stream",
     "text": [
      "/Users/jh/workspaces/notebook/voyage/.venv/lib/python3.11/site-packages/trl/trainer/utils.py:139: UserWarning: Could not find response key `Answer:` in the following instance: </s>Human: This is a set of summary:\n",
      "The document discusses the challenges and considerations associated with seawater reverse osmosis (SWRO) membrane filtration systems, particularly focusing on fouling, which is the accumulation of various substances that negatively impact membrane performance. Key points include:\n",
      "\n",
      "1. **Fouling Issues**: Fouling is caused by precipitates, colloidal particles, bacteria, biofilm, and dissolved organic matter, leading to reduced permeate production and shorter membrane lifespan.\n",
      "\n",
      "2. **Membrane Lifespan**: SWRO membranes typically last 5-6 years, but fouling can significantly affect their longevity.\n",
      "\n",
      "3. **Cleaning Methods**: To address fouling, chemical and mechanical cleaning methods are employed, but these must be carefully managed to prevent further damage to the membranes.\n",
      "\n",
      "4. **Energy Consumption**: The specific energy consumption (SEC) for the SWRO process ranges from 2.3 to 3.0 kWh/m³, which is much higher than the theoretical energy requirement of 0.7 kWh/m³ for 100% recovery and 1.1 kWh/m³ for 50% recovery.\n",
      "\n",
      "5. **Cost Efficiency**: Cleaning the membranes every four years is suggested to result in the lowest energy consumption and cumulative costs over a 12-year period.\n",
      "\n",
      "Overall, the document highlights the complexities of operating SWRO systems, the impact of fouling, and the importance of balancing cleaning processes with energy efficiency and cost.\n",
      "The document presents a research report evaluating the effectiveness of cleaning-in-place (CIP) for membranes and the optimal replacement period for membranes in a seawater reverse osmosis (SWRO) plant in the Maldives. Key points include:\n",
      "\n",
      "1. **Fouling Impact**: Fouling reduces SWRO membrane performance, leading to increased differential pressure, decreased efficiency, and lower permeate quality.\n",
      "\n",
      "2. **Factors Influencing Membrane Lifespan**: The lifespan of RO membranes is affected by feed water quality, membrane flux (influenced by recovery percentage), and the extent of fouling/scaling.\n",
      "\n",
      "3. **CIP Practice**: CIP is a common method used to mitigate fouling in RO plants.\n",
      "\n",
      "4. **Financial Analysis**: The study compares the financial impacts of membrane replacement versus CIP on specific energy consumption (SEC) using operational data from January 2018 to January 2024.\n",
      "\n",
      "5. **Breakeven Analysis**: \n",
      "   - The breakeven point for replacing membranes every 4 years versus every 5 years is 5 years.\n",
      "   - The breakeven for 4-year replacement against a scenario with only CIP is 6.08 years.\n",
      "\n",
      "6. **Energy Consumption Improvement**: On average, SEC improves by 0.07 kWh/m³ after CIP.\n",
      "\n",
      "7. **Optimal Replacement Period**: Replacing membranes every 4 years results in the lowest energy consumption and cumulative costs over a 12-year period. \n",
      "\n",
      "Overall, the study suggests that regular membrane replacement is more cost-effective than relying solely on CIP in the long term.\n",
      "The document discusses the energy consumption associated with water treatment processes, specifically focusing on the specific energy consumption (SEC) of membrane-based systems. Key points include:\n",
      "\n",
      "1. **Energy Requirements**: The thermodynamic energy requirement for water recovery is 0.7 kWh/m³ for 100% recovery and 1.1 kWh/m³ for 50% recovery. A baseline test showed an SEC of 1.58 kWh/m³ at 42% recovery, which is higher than the theoretical values.\n",
      "\n",
      "2. **Current SEC Levels**: An internal audit at MWSC’s Hulhumalé site found SEC values ranging from 2.12 kWh/m³ to 2.92 kWh/m³, indicating higher energy consumption than ideal.\n",
      "\n",
      "3. **Impact of Membrane Fouling**: Membrane fouling significantly increases SEC by causing blockages that degrade performance, leading to higher energy demands and operating costs.\n",
      "\n",
      "4. **Cleaning Methods**: Various cleaning methods are employed to address fouling:\n",
      "   - Low pH cleaners (e.g., citric acid) target scale minerals and inorganic materials.\n",
      "   - High pH cleaners address organic fouling and biofouling.\n",
      "   - Stronger chemicals like hydrochloric acid may be used for severe scaling, but they risk damaging membranes.\n",
      "   - Biocides are used to prevent bacterial growth.\n",
      "   - Mechanical methods, such as reverse flow cleaning, effectively remove biological fouling and particulates.\n",
      "\n",
      "5. **Effective Cleaning Agents**: High pH cleaners, such as combinations of sodium tripolyphosphate and EDTA or sodium hydroxide and sodium dodecyl sulfate, are. This instance will be ignored in loss calculation. Note, if this happens often, consider increasing the `max_seq_length`.\n",
      "  warnings.warn(\n",
      "[INFO|trainer.py:3887] 2025-02-12 22:54:34,400 >> Saving model checkpoint to /Users/jh/workspaces/notebook/voyage/homework/trained_model/fb_128/checkpoint-54\n"
     ]
    },
    {
     "name": "stdout",
     "output_type": "stream",
     "text": [
      "{'eval_loss': 2.1481480598449707, 'eval_runtime': 18.1678, 'eval_samples_per_second': 1.486, 'eval_steps_per_second': 0.771, 'epoch': 1.0}\n"
     ]
    },
    {
     "name": "stderr",
     "output_type": "stream",
     "text": [
      "[INFO|configuration_utils.py:695] 2025-02-12 22:54:35,070 >> loading configuration file config.json from cache at /Users/jh/.cache/huggingface/hub/models--facebook--opt-350m/snapshots/08ab08cc4b72ff5593870b5d527cf4230323703c/config.json\n",
      "[INFO|configuration_utils.py:762] 2025-02-12 22:54:35,071 >> Model config OPTConfig {\n",
      "  \"_name_or_path\": \"opt-350m\",\n",
      "  \"_remove_final_layer_norm\": false,\n",
      "  \"activation_dropout\": 0.0,\n",
      "  \"activation_function\": \"relu\",\n",
      "  \"architectures\": [\n",
      "    \"OPTForCausalLM\"\n",
      "  ],\n",
      "  \"attention_dropout\": 0.0,\n",
      "  \"bos_token_id\": 2,\n",
      "  \"do_layer_norm_before\": false,\n",
      "  \"dropout\": 0.1,\n",
      "  \"enable_bias\": true,\n",
      "  \"eos_token_id\": 2,\n",
      "  \"ffn_dim\": 4096,\n",
      "  \"hidden_size\": 1024,\n",
      "  \"init_std\": 0.02,\n",
      "  \"layer_norm_elementwise_affine\": true,\n",
      "  \"layerdrop\": 0.0,\n",
      "  \"max_position_embeddings\": 2048,\n",
      "  \"model_type\": \"opt\",\n",
      "  \"num_attention_heads\": 16,\n",
      "  \"num_hidden_layers\": 24,\n",
      "  \"pad_token_id\": 1,\n",
      "  \"prefix\": \"</s>\",\n",
      "  \"torch_dtype\": \"float16\",\n",
      "  \"transformers_version\": \"4.47.1\",\n",
      "  \"use_cache\": true,\n",
      "  \"vocab_size\": 50272,\n",
      "  \"word_embed_proj_dim\": 512\n",
      "}\n",
      "\n",
      "[INFO|tokenization_utils_base.py:2485] 2025-02-12 22:54:35,382 >> tokenizer config file saved in /Users/jh/workspaces/notebook/voyage/homework/trained_model/fb_128/checkpoint-54/tokenizer_config.json\n",
      "[INFO|tokenization_utils_base.py:2494] 2025-02-12 22:54:35,383 >> Special tokens file saved in /Users/jh/workspaces/notebook/voyage/homework/trained_model/fb_128/checkpoint-54/special_tokens_map.json\n",
      "[INFO|trainer.py:4203] 2025-02-12 22:58:21,356 >> \n",
      "***** Running Evaluation *****\n",
      "[INFO|trainer.py:4205] 2025-02-12 22:58:21,377 >>   Num examples = 27\n",
      "[INFO|trainer.py:4208] 2025-02-12 22:58:21,377 >>   Batch size = 2\n"
     ]
    },
    {
     "data": {
      "application/vnd.jupyter.widget-view+json": {
       "model_id": "2c28919278984b44912a1abc3e816495",
       "version_major": 2,
       "version_minor": 0
      },
      "text/plain": [
       "  0%|          | 0/14 [00:00<?, ?it/s]"
      ]
     },
     "metadata": {},
     "output_type": "display_data"
    },
    {
     "name": "stderr",
     "output_type": "stream",
     "text": [
      "/Users/jh/workspaces/notebook/voyage/.venv/lib/python3.11/site-packages/trl/trainer/utils.py:139: UserWarning: Could not find response key `Answer:` in the following instance: </s>Human: This is a set of summary:\n",
      "The document discusses the challenges and considerations associated with seawater reverse osmosis (SWRO) membrane filtration systems, particularly focusing on fouling, which is the accumulation of various substances that negatively impact membrane performance. Key points include:\n",
      "\n",
      "1. **Fouling Issues**: Fouling is caused by precipitates, colloidal particles, bacteria, biofilm, and dissolved organic matter, leading to reduced permeate production and shorter membrane lifespan.\n",
      "\n",
      "2. **Membrane Lifespan**: SWRO membranes typically last 5-6 years, but fouling can significantly affect their longevity.\n",
      "\n",
      "3. **Cleaning Methods**: To address fouling, chemical and mechanical cleaning methods are employed, but these must be carefully managed to prevent further damage to the membranes.\n",
      "\n",
      "4. **Energy Consumption**: The specific energy consumption (SEC) for the SWRO process ranges from 2.3 to 3.0 kWh/m³, which is much higher than the theoretical energy requirement of 0.7 kWh/m³ for 100% recovery and 1.1 kWh/m³ for 50% recovery.\n",
      "\n",
      "5. **Cost Efficiency**: Cleaning the membranes every four years is suggested to result in the lowest energy consumption and cumulative costs over a 12-year period.\n",
      "\n",
      "Overall, the document highlights the complexities of operating SWRO systems, the impact of fouling, and the importance of balancing cleaning processes with energy efficiency and cost.\n",
      "The document presents a research report evaluating the effectiveness of cleaning-in-place (CIP) for membranes and the optimal replacement period for membranes in a seawater reverse osmosis (SWRO) plant in the Maldives. Key points include:\n",
      "\n",
      "1. **Fouling Impact**: Fouling reduces SWRO membrane performance, leading to increased differential pressure, decreased efficiency, and lower permeate quality.\n",
      "\n",
      "2. **Factors Influencing Membrane Lifespan**: The lifespan of RO membranes is affected by feed water quality, membrane flux (influenced by recovery percentage), and the extent of fouling/scaling.\n",
      "\n",
      "3. **CIP Practice**: CIP is a common method used to mitigate fouling in RO plants.\n",
      "\n",
      "4. **Financial Analysis**: The study compares the financial impacts of membrane replacement versus CIP on specific energy consumption (SEC) using operational data from January 2018 to January 2024.\n",
      "\n",
      "5. **Breakeven Analysis**: \n",
      "   - The breakeven point for replacing membranes every 4 years versus every 5 years is 5 years.\n",
      "   - The breakeven for 4-year replacement against a scenario with only CIP is 6.08 years.\n",
      "\n",
      "6. **Energy Consumption Improvement**: On average, SEC improves by 0.07 kWh/m³ after CIP.\n",
      "\n",
      "7. **Optimal Replacement Period**: Replacing membranes every 4 years results in the lowest energy consumption and cumulative costs over a 12-year period. \n",
      "\n",
      "Overall, the study suggests that regular membrane replacement is more cost-effective than relying solely on CIP in the long term.\n",
      "The document discusses the energy consumption associated with water treatment processes, specifically focusing on the specific energy consumption (SEC) of membrane-based systems. Key points include:\n",
      "\n",
      "1. **Energy Requirements**: The thermodynamic energy requirement for water recovery is 0.7 kWh/m³ for 100% recovery and 1.1 kWh/m³ for 50% recovery. A baseline test showed an SEC of 1.58 kWh/m³ at 42% recovery, which is higher than the theoretical values.\n",
      "\n",
      "2. **Current SEC Levels**: An internal audit at MWSC’s Hulhumalé site found SEC values ranging from 2.12 kWh/m³ to 2.92 kWh/m³, indicating higher energy consumption than ideal.\n",
      "\n",
      "3. **Impact of Membrane Fouling**: Membrane fouling significantly increases SEC by causing blockages that degrade performance, leading to higher energy demands and operating costs.\n",
      "\n",
      "4. **Cleaning Methods**: Various cleaning methods are employed to address fouling:\n",
      "   - Low pH cleaners (e.g., citric acid) target scale minerals and inorganic materials.\n",
      "   - High pH cleaners address organic fouling and biofouling.\n",
      "   - Stronger chemicals like hydrochloric acid may be used for severe scaling, but they risk damaging membranes.\n",
      "   - Biocides are used to prevent bacterial growth.\n",
      "   - Mechanical methods, such as reverse flow cleaning, effectively remove biological fouling and particulates.\n",
      "\n",
      "5. **Effective Cleaning Agents**: High pH cleaners, such as combinations of sodium tripolyphosphate and EDTA or sodium hydroxide and sodium dodecyl sulfate, are. This instance will be ignored in loss calculation. Note, if this happens often, consider increasing the `max_seq_length`.\n",
      "  warnings.warn(\n",
      "[INFO|trainer.py:3887] 2025-02-12 22:58:35,898 >> Saving model checkpoint to /Users/jh/workspaces/notebook/voyage/homework/trained_model/fb_128/checkpoint-108\n"
     ]
    },
    {
     "name": "stdout",
     "output_type": "stream",
     "text": [
      "{'eval_loss': 2.076967477798462, 'eval_runtime': 14.5429, 'eval_samples_per_second': 1.857, 'eval_steps_per_second': 0.963, 'epoch': 2.0}\n"
     ]
    },
    {
     "name": "stderr",
     "output_type": "stream",
     "text": [
      "[INFO|configuration_utils.py:695] 2025-02-12 22:58:36,406 >> loading configuration file config.json from cache at /Users/jh/.cache/huggingface/hub/models--facebook--opt-350m/snapshots/08ab08cc4b72ff5593870b5d527cf4230323703c/config.json\n",
      "[INFO|configuration_utils.py:762] 2025-02-12 22:58:36,408 >> Model config OPTConfig {\n",
      "  \"_name_or_path\": \"opt-350m\",\n",
      "  \"_remove_final_layer_norm\": false,\n",
      "  \"activation_dropout\": 0.0,\n",
      "  \"activation_function\": \"relu\",\n",
      "  \"architectures\": [\n",
      "    \"OPTForCausalLM\"\n",
      "  ],\n",
      "  \"attention_dropout\": 0.0,\n",
      "  \"bos_token_id\": 2,\n",
      "  \"do_layer_norm_before\": false,\n",
      "  \"dropout\": 0.1,\n",
      "  \"enable_bias\": true,\n",
      "  \"eos_token_id\": 2,\n",
      "  \"ffn_dim\": 4096,\n",
      "  \"hidden_size\": 1024,\n",
      "  \"init_std\": 0.02,\n",
      "  \"layer_norm_elementwise_affine\": true,\n",
      "  \"layerdrop\": 0.0,\n",
      "  \"max_position_embeddings\": 2048,\n",
      "  \"model_type\": \"opt\",\n",
      "  \"num_attention_heads\": 16,\n",
      "  \"num_hidden_layers\": 24,\n",
      "  \"pad_token_id\": 1,\n",
      "  \"prefix\": \"</s>\",\n",
      "  \"torch_dtype\": \"float16\",\n",
      "  \"transformers_version\": \"4.47.1\",\n",
      "  \"use_cache\": true,\n",
      "  \"vocab_size\": 50272,\n",
      "  \"word_embed_proj_dim\": 512\n",
      "}\n",
      "\n",
      "[INFO|tokenization_utils_base.py:2485] 2025-02-12 22:58:36,632 >> tokenizer config file saved in /Users/jh/workspaces/notebook/voyage/homework/trained_model/fb_128/checkpoint-108/tokenizer_config.json\n",
      "[INFO|tokenization_utils_base.py:2494] 2025-02-12 22:58:36,632 >> Special tokens file saved in /Users/jh/workspaces/notebook/voyage/homework/trained_model/fb_128/checkpoint-108/special_tokens_map.json\n",
      "[INFO|trainer.py:4203] 2025-02-12 23:02:25,105 >> \n",
      "***** Running Evaluation *****\n",
      "[INFO|trainer.py:4205] 2025-02-12 23:02:25,111 >>   Num examples = 27\n",
      "[INFO|trainer.py:4208] 2025-02-12 23:02:25,111 >>   Batch size = 2\n"
     ]
    },
    {
     "data": {
      "application/vnd.jupyter.widget-view+json": {
       "model_id": "7fb096d467004507ac27c3937bf31a0e",
       "version_major": 2,
       "version_minor": 0
      },
      "text/plain": [
       "  0%|          | 0/14 [00:00<?, ?it/s]"
      ]
     },
     "metadata": {},
     "output_type": "display_data"
    },
    {
     "name": "stderr",
     "output_type": "stream",
     "text": [
      "/Users/jh/workspaces/notebook/voyage/.venv/lib/python3.11/site-packages/trl/trainer/utils.py:139: UserWarning: Could not find response key `Answer:` in the following instance: </s>Human: This is a set of summary:\n",
      "The document discusses the challenges and considerations associated with seawater reverse osmosis (SWRO) membrane filtration systems, particularly focusing on fouling, which is the accumulation of various substances that negatively impact membrane performance. Key points include:\n",
      "\n",
      "1. **Fouling Issues**: Fouling is caused by precipitates, colloidal particles, bacteria, biofilm, and dissolved organic matter, leading to reduced permeate production and shorter membrane lifespan.\n",
      "\n",
      "2. **Membrane Lifespan**: SWRO membranes typically last 5-6 years, but fouling can significantly affect their longevity.\n",
      "\n",
      "3. **Cleaning Methods**: To address fouling, chemical and mechanical cleaning methods are employed, but these must be carefully managed to prevent further damage to the membranes.\n",
      "\n",
      "4. **Energy Consumption**: The specific energy consumption (SEC) for the SWRO process ranges from 2.3 to 3.0 kWh/m³, which is much higher than the theoretical energy requirement of 0.7 kWh/m³ for 100% recovery and 1.1 kWh/m³ for 50% recovery.\n",
      "\n",
      "5. **Cost Efficiency**: Cleaning the membranes every four years is suggested to result in the lowest energy consumption and cumulative costs over a 12-year period.\n",
      "\n",
      "Overall, the document highlights the complexities of operating SWRO systems, the impact of fouling, and the importance of balancing cleaning processes with energy efficiency and cost.\n",
      "The document presents a research report evaluating the effectiveness of cleaning-in-place (CIP) for membranes and the optimal replacement period for membranes in a seawater reverse osmosis (SWRO) plant in the Maldives. Key points include:\n",
      "\n",
      "1. **Fouling Impact**: Fouling reduces SWRO membrane performance, leading to increased differential pressure, decreased efficiency, and lower permeate quality.\n",
      "\n",
      "2. **Factors Influencing Membrane Lifespan**: The lifespan of RO membranes is affected by feed water quality, membrane flux (influenced by recovery percentage), and the extent of fouling/scaling.\n",
      "\n",
      "3. **CIP Practice**: CIP is a common method used to mitigate fouling in RO plants.\n",
      "\n",
      "4. **Financial Analysis**: The study compares the financial impacts of membrane replacement versus CIP on specific energy consumption (SEC) using operational data from January 2018 to January 2024.\n",
      "\n",
      "5. **Breakeven Analysis**: \n",
      "   - The breakeven point for replacing membranes every 4 years versus every 5 years is 5 years.\n",
      "   - The breakeven for 4-year replacement against a scenario with only CIP is 6.08 years.\n",
      "\n",
      "6. **Energy Consumption Improvement**: On average, SEC improves by 0.07 kWh/m³ after CIP.\n",
      "\n",
      "7. **Optimal Replacement Period**: Replacing membranes every 4 years results in the lowest energy consumption and cumulative costs over a 12-year period. \n",
      "\n",
      "Overall, the study suggests that regular membrane replacement is more cost-effective than relying solely on CIP in the long term.\n",
      "The document discusses the energy consumption associated with water treatment processes, specifically focusing on the specific energy consumption (SEC) of membrane-based systems. Key points include:\n",
      "\n",
      "1. **Energy Requirements**: The thermodynamic energy requirement for water recovery is 0.7 kWh/m³ for 100% recovery and 1.1 kWh/m³ for 50% recovery. A baseline test showed an SEC of 1.58 kWh/m³ at 42% recovery, which is higher than the theoretical values.\n",
      "\n",
      "2. **Current SEC Levels**: An internal audit at MWSC’s Hulhumalé site found SEC values ranging from 2.12 kWh/m³ to 2.92 kWh/m³, indicating higher energy consumption than ideal.\n",
      "\n",
      "3. **Impact of Membrane Fouling**: Membrane fouling significantly increases SEC by causing blockages that degrade performance, leading to higher energy demands and operating costs.\n",
      "\n",
      "4. **Cleaning Methods**: Various cleaning methods are employed to address fouling:\n",
      "   - Low pH cleaners (e.g., citric acid) target scale minerals and inorganic materials.\n",
      "   - High pH cleaners address organic fouling and biofouling.\n",
      "   - Stronger chemicals like hydrochloric acid may be used for severe scaling, but they risk damaging membranes.\n",
      "   - Biocides are used to prevent bacterial growth.\n",
      "   - Mechanical methods, such as reverse flow cleaning, effectively remove biological fouling and particulates.\n",
      "\n",
      "5. **Effective Cleaning Agents**: High pH cleaners, such as combinations of sodium tripolyphosphate and EDTA or sodium hydroxide and sodium dodecyl sulfate, are. This instance will be ignored in loss calculation. Note, if this happens often, consider increasing the `max_seq_length`.\n",
      "  warnings.warn(\n",
      "[INFO|trainer.py:3887] 2025-02-12 23:02:39,333 >> Saving model checkpoint to /Users/jh/workspaces/notebook/voyage/homework/trained_model/fb_128/checkpoint-162\n"
     ]
    },
    {
     "name": "stdout",
     "output_type": "stream",
     "text": [
      "{'eval_loss': 2.0442707538604736, 'eval_runtime': 14.2241, 'eval_samples_per_second': 1.898, 'eval_steps_per_second': 0.984, 'epoch': 3.0}\n"
     ]
    },
    {
     "name": "stderr",
     "output_type": "stream",
     "text": [
      "[INFO|configuration_utils.py:695] 2025-02-12 23:02:39,980 >> loading configuration file config.json from cache at /Users/jh/.cache/huggingface/hub/models--facebook--opt-350m/snapshots/08ab08cc4b72ff5593870b5d527cf4230323703c/config.json\n",
      "[INFO|configuration_utils.py:762] 2025-02-12 23:02:39,981 >> Model config OPTConfig {\n",
      "  \"_name_or_path\": \"opt-350m\",\n",
      "  \"_remove_final_layer_norm\": false,\n",
      "  \"activation_dropout\": 0.0,\n",
      "  \"activation_function\": \"relu\",\n",
      "  \"architectures\": [\n",
      "    \"OPTForCausalLM\"\n",
      "  ],\n",
      "  \"attention_dropout\": 0.0,\n",
      "  \"bos_token_id\": 2,\n",
      "  \"do_layer_norm_before\": false,\n",
      "  \"dropout\": 0.1,\n",
      "  \"enable_bias\": true,\n",
      "  \"eos_token_id\": 2,\n",
      "  \"ffn_dim\": 4096,\n",
      "  \"hidden_size\": 1024,\n",
      "  \"init_std\": 0.02,\n",
      "  \"layer_norm_elementwise_affine\": true,\n",
      "  \"layerdrop\": 0.0,\n",
      "  \"max_position_embeddings\": 2048,\n",
      "  \"model_type\": \"opt\",\n",
      "  \"num_attention_heads\": 16,\n",
      "  \"num_hidden_layers\": 24,\n",
      "  \"pad_token_id\": 1,\n",
      "  \"prefix\": \"</s>\",\n",
      "  \"torch_dtype\": \"float16\",\n",
      "  \"transformers_version\": \"4.47.1\",\n",
      "  \"use_cache\": true,\n",
      "  \"vocab_size\": 50272,\n",
      "  \"word_embed_proj_dim\": 512\n",
      "}\n",
      "\n",
      "[INFO|tokenization_utils_base.py:2485] 2025-02-12 23:02:40,388 >> tokenizer config file saved in /Users/jh/workspaces/notebook/voyage/homework/trained_model/fb_128/checkpoint-162/tokenizer_config.json\n",
      "[INFO|tokenization_utils_base.py:2494] 2025-02-12 23:02:40,388 >> Special tokens file saved in /Users/jh/workspaces/notebook/voyage/homework/trained_model/fb_128/checkpoint-162/special_tokens_map.json\n",
      "[INFO|trainer.py:4203] 2025-02-12 23:06:25,139 >> \n",
      "***** Running Evaluation *****\n",
      "[INFO|trainer.py:4205] 2025-02-12 23:06:25,145 >>   Num examples = 27\n",
      "[INFO|trainer.py:4208] 2025-02-12 23:06:25,145 >>   Batch size = 2\n"
     ]
    },
    {
     "data": {
      "application/vnd.jupyter.widget-view+json": {
       "model_id": "2abddaa6daf64d56bafc503a01990195",
       "version_major": 2,
       "version_minor": 0
      },
      "text/plain": [
       "  0%|          | 0/14 [00:00<?, ?it/s]"
      ]
     },
     "metadata": {},
     "output_type": "display_data"
    },
    {
     "name": "stderr",
     "output_type": "stream",
     "text": [
      "/Users/jh/workspaces/notebook/voyage/.venv/lib/python3.11/site-packages/trl/trainer/utils.py:139: UserWarning: Could not find response key `Answer:` in the following instance: </s>Human: This is a set of summary:\n",
      "The document discusses the challenges and considerations associated with seawater reverse osmosis (SWRO) membrane filtration systems, particularly focusing on fouling, which is the accumulation of various substances that negatively impact membrane performance. Key points include:\n",
      "\n",
      "1. **Fouling Issues**: Fouling is caused by precipitates, colloidal particles, bacteria, biofilm, and dissolved organic matter, leading to reduced permeate production and shorter membrane lifespan.\n",
      "\n",
      "2. **Membrane Lifespan**: SWRO membranes typically last 5-6 years, but fouling can significantly affect their longevity.\n",
      "\n",
      "3. **Cleaning Methods**: To address fouling, chemical and mechanical cleaning methods are employed, but these must be carefully managed to prevent further damage to the membranes.\n",
      "\n",
      "4. **Energy Consumption**: The specific energy consumption (SEC) for the SWRO process ranges from 2.3 to 3.0 kWh/m³, which is much higher than the theoretical energy requirement of 0.7 kWh/m³ for 100% recovery and 1.1 kWh/m³ for 50% recovery.\n",
      "\n",
      "5. **Cost Efficiency**: Cleaning the membranes every four years is suggested to result in the lowest energy consumption and cumulative costs over a 12-year period.\n",
      "\n",
      "Overall, the document highlights the complexities of operating SWRO systems, the impact of fouling, and the importance of balancing cleaning processes with energy efficiency and cost.\n",
      "The document presents a research report evaluating the effectiveness of cleaning-in-place (CIP) for membranes and the optimal replacement period for membranes in a seawater reverse osmosis (SWRO) plant in the Maldives. Key points include:\n",
      "\n",
      "1. **Fouling Impact**: Fouling reduces SWRO membrane performance, leading to increased differential pressure, decreased efficiency, and lower permeate quality.\n",
      "\n",
      "2. **Factors Influencing Membrane Lifespan**: The lifespan of RO membranes is affected by feed water quality, membrane flux (influenced by recovery percentage), and the extent of fouling/scaling.\n",
      "\n",
      "3. **CIP Practice**: CIP is a common method used to mitigate fouling in RO plants.\n",
      "\n",
      "4. **Financial Analysis**: The study compares the financial impacts of membrane replacement versus CIP on specific energy consumption (SEC) using operational data from January 2018 to January 2024.\n",
      "\n",
      "5. **Breakeven Analysis**: \n",
      "   - The breakeven point for replacing membranes every 4 years versus every 5 years is 5 years.\n",
      "   - The breakeven for 4-year replacement against a scenario with only CIP is 6.08 years.\n",
      "\n",
      "6. **Energy Consumption Improvement**: On average, SEC improves by 0.07 kWh/m³ after CIP.\n",
      "\n",
      "7. **Optimal Replacement Period**: Replacing membranes every 4 years results in the lowest energy consumption and cumulative costs over a 12-year period. \n",
      "\n",
      "Overall, the study suggests that regular membrane replacement is more cost-effective than relying solely on CIP in the long term.\n",
      "The document discusses the energy consumption associated with water treatment processes, specifically focusing on the specific energy consumption (SEC) of membrane-based systems. Key points include:\n",
      "\n",
      "1. **Energy Requirements**: The thermodynamic energy requirement for water recovery is 0.7 kWh/m³ for 100% recovery and 1.1 kWh/m³ for 50% recovery. A baseline test showed an SEC of 1.58 kWh/m³ at 42% recovery, which is higher than the theoretical values.\n",
      "\n",
      "2. **Current SEC Levels**: An internal audit at MWSC’s Hulhumalé site found SEC values ranging from 2.12 kWh/m³ to 2.92 kWh/m³, indicating higher energy consumption than ideal.\n",
      "\n",
      "3. **Impact of Membrane Fouling**: Membrane fouling significantly increases SEC by causing blockages that degrade performance, leading to higher energy demands and operating costs.\n",
      "\n",
      "4. **Cleaning Methods**: Various cleaning methods are employed to address fouling:\n",
      "   - Low pH cleaners (e.g., citric acid) target scale minerals and inorganic materials.\n",
      "   - High pH cleaners address organic fouling and biofouling.\n",
      "   - Stronger chemicals like hydrochloric acid may be used for severe scaling, but they risk damaging membranes.\n",
      "   - Biocides are used to prevent bacterial growth.\n",
      "   - Mechanical methods, such as reverse flow cleaning, effectively remove biological fouling and particulates.\n",
      "\n",
      "5. **Effective Cleaning Agents**: High pH cleaners, such as combinations of sodium tripolyphosphate and EDTA or sodium hydroxide and sodium dodecyl sulfate, are. This instance will be ignored in loss calculation. Note, if this happens often, consider increasing the `max_seq_length`.\n",
      "  warnings.warn(\n",
      "[INFO|trainer.py:3887] 2025-02-12 23:06:40,355 >> Saving model checkpoint to /Users/jh/workspaces/notebook/voyage/homework/trained_model/fb_128/checkpoint-216\n"
     ]
    },
    {
     "name": "stdout",
     "output_type": "stream",
     "text": [
      "{'eval_loss': 2.035879611968994, 'eval_runtime': 15.215, 'eval_samples_per_second': 1.775, 'eval_steps_per_second': 0.92, 'epoch': 4.0}\n"
     ]
    },
    {
     "name": "stderr",
     "output_type": "stream",
     "text": [
      "[INFO|configuration_utils.py:695] 2025-02-12 23:06:40,840 >> loading configuration file config.json from cache at /Users/jh/.cache/huggingface/hub/models--facebook--opt-350m/snapshots/08ab08cc4b72ff5593870b5d527cf4230323703c/config.json\n",
      "[INFO|configuration_utils.py:762] 2025-02-12 23:06:40,842 >> Model config OPTConfig {\n",
      "  \"_name_or_path\": \"opt-350m\",\n",
      "  \"_remove_final_layer_norm\": false,\n",
      "  \"activation_dropout\": 0.0,\n",
      "  \"activation_function\": \"relu\",\n",
      "  \"architectures\": [\n",
      "    \"OPTForCausalLM\"\n",
      "  ],\n",
      "  \"attention_dropout\": 0.0,\n",
      "  \"bos_token_id\": 2,\n",
      "  \"do_layer_norm_before\": false,\n",
      "  \"dropout\": 0.1,\n",
      "  \"enable_bias\": true,\n",
      "  \"eos_token_id\": 2,\n",
      "  \"ffn_dim\": 4096,\n",
      "  \"hidden_size\": 1024,\n",
      "  \"init_std\": 0.02,\n",
      "  \"layer_norm_elementwise_affine\": true,\n",
      "  \"layerdrop\": 0.0,\n",
      "  \"max_position_embeddings\": 2048,\n",
      "  \"model_type\": \"opt\",\n",
      "  \"num_attention_heads\": 16,\n",
      "  \"num_hidden_layers\": 24,\n",
      "  \"pad_token_id\": 1,\n",
      "  \"prefix\": \"</s>\",\n",
      "  \"torch_dtype\": \"float16\",\n",
      "  \"transformers_version\": \"4.47.1\",\n",
      "  \"use_cache\": true,\n",
      "  \"vocab_size\": 50272,\n",
      "  \"word_embed_proj_dim\": 512\n",
      "}\n",
      "\n",
      "[INFO|tokenization_utils_base.py:2485] 2025-02-12 23:06:41,098 >> tokenizer config file saved in /Users/jh/workspaces/notebook/voyage/homework/trained_model/fb_128/checkpoint-216/tokenizer_config.json\n",
      "[INFO|tokenization_utils_base.py:2494] 2025-02-12 23:06:41,099 >> Special tokens file saved in /Users/jh/workspaces/notebook/voyage/homework/trained_model/fb_128/checkpoint-216/special_tokens_map.json\n",
      "[INFO|trainer.py:4203] 2025-02-12 23:10:27,420 >> \n",
      "***** Running Evaluation *****\n",
      "[INFO|trainer.py:4205] 2025-02-12 23:10:27,425 >>   Num examples = 27\n",
      "[INFO|trainer.py:4208] 2025-02-12 23:10:27,426 >>   Batch size = 2\n"
     ]
    },
    {
     "data": {
      "application/vnd.jupyter.widget-view+json": {
       "model_id": "98d81ac04d2b49dd9812e119700c7b21",
       "version_major": 2,
       "version_minor": 0
      },
      "text/plain": [
       "  0%|          | 0/14 [00:00<?, ?it/s]"
      ]
     },
     "metadata": {},
     "output_type": "display_data"
    },
    {
     "name": "stderr",
     "output_type": "stream",
     "text": [
      "/Users/jh/workspaces/notebook/voyage/.venv/lib/python3.11/site-packages/trl/trainer/utils.py:139: UserWarning: Could not find response key `Answer:` in the following instance: </s>Human: This is a set of summary:\n",
      "The document discusses the challenges and considerations associated with seawater reverse osmosis (SWRO) membrane filtration systems, particularly focusing on fouling, which is the accumulation of various substances that negatively impact membrane performance. Key points include:\n",
      "\n",
      "1. **Fouling Issues**: Fouling is caused by precipitates, colloidal particles, bacteria, biofilm, and dissolved organic matter, leading to reduced permeate production and shorter membrane lifespan.\n",
      "\n",
      "2. **Membrane Lifespan**: SWRO membranes typically last 5-6 years, but fouling can significantly affect their longevity.\n",
      "\n",
      "3. **Cleaning Methods**: To address fouling, chemical and mechanical cleaning methods are employed, but these must be carefully managed to prevent further damage to the membranes.\n",
      "\n",
      "4. **Energy Consumption**: The specific energy consumption (SEC) for the SWRO process ranges from 2.3 to 3.0 kWh/m³, which is much higher than the theoretical energy requirement of 0.7 kWh/m³ for 100% recovery and 1.1 kWh/m³ for 50% recovery.\n",
      "\n",
      "5. **Cost Efficiency**: Cleaning the membranes every four years is suggested to result in the lowest energy consumption and cumulative costs over a 12-year period.\n",
      "\n",
      "Overall, the document highlights the complexities of operating SWRO systems, the impact of fouling, and the importance of balancing cleaning processes with energy efficiency and cost.\n",
      "The document presents a research report evaluating the effectiveness of cleaning-in-place (CIP) for membranes and the optimal replacement period for membranes in a seawater reverse osmosis (SWRO) plant in the Maldives. Key points include:\n",
      "\n",
      "1. **Fouling Impact**: Fouling reduces SWRO membrane performance, leading to increased differential pressure, decreased efficiency, and lower permeate quality.\n",
      "\n",
      "2. **Factors Influencing Membrane Lifespan**: The lifespan of RO membranes is affected by feed water quality, membrane flux (influenced by recovery percentage), and the extent of fouling/scaling.\n",
      "\n",
      "3. **CIP Practice**: CIP is a common method used to mitigate fouling in RO plants.\n",
      "\n",
      "4. **Financial Analysis**: The study compares the financial impacts of membrane replacement versus CIP on specific energy consumption (SEC) using operational data from January 2018 to January 2024.\n",
      "\n",
      "5. **Breakeven Analysis**: \n",
      "   - The breakeven point for replacing membranes every 4 years versus every 5 years is 5 years.\n",
      "   - The breakeven for 4-year replacement against a scenario with only CIP is 6.08 years.\n",
      "\n",
      "6. **Energy Consumption Improvement**: On average, SEC improves by 0.07 kWh/m³ after CIP.\n",
      "\n",
      "7. **Optimal Replacement Period**: Replacing membranes every 4 years results in the lowest energy consumption and cumulative costs over a 12-year period. \n",
      "\n",
      "Overall, the study suggests that regular membrane replacement is more cost-effective than relying solely on CIP in the long term.\n",
      "The document discusses the energy consumption associated with water treatment processes, specifically focusing on the specific energy consumption (SEC) of membrane-based systems. Key points include:\n",
      "\n",
      "1. **Energy Requirements**: The thermodynamic energy requirement for water recovery is 0.7 kWh/m³ for 100% recovery and 1.1 kWh/m³ for 50% recovery. A baseline test showed an SEC of 1.58 kWh/m³ at 42% recovery, which is higher than the theoretical values.\n",
      "\n",
      "2. **Current SEC Levels**: An internal audit at MWSC’s Hulhumalé site found SEC values ranging from 2.12 kWh/m³ to 2.92 kWh/m³, indicating higher energy consumption than ideal.\n",
      "\n",
      "3. **Impact of Membrane Fouling**: Membrane fouling significantly increases SEC by causing blockages that degrade performance, leading to higher energy demands and operating costs.\n",
      "\n",
      "4. **Cleaning Methods**: Various cleaning methods are employed to address fouling:\n",
      "   - Low pH cleaners (e.g., citric acid) target scale minerals and inorganic materials.\n",
      "   - High pH cleaners address organic fouling and biofouling.\n",
      "   - Stronger chemicals like hydrochloric acid may be used for severe scaling, but they risk damaging membranes.\n",
      "   - Biocides are used to prevent bacterial growth.\n",
      "   - Mechanical methods, such as reverse flow cleaning, effectively remove biological fouling and particulates.\n",
      "\n",
      "5. **Effective Cleaning Agents**: High pH cleaners, such as combinations of sodium tripolyphosphate and EDTA or sodium hydroxide and sodium dodecyl sulfate, are. This instance will be ignored in loss calculation. Note, if this happens often, consider increasing the `max_seq_length`.\n",
      "  warnings.warn(\n",
      "[INFO|trainer.py:3887] 2025-02-12 23:10:43,526 >> Saving model checkpoint to /Users/jh/workspaces/notebook/voyage/homework/trained_model/fb_128/checkpoint-270\n"
     ]
    },
    {
     "name": "stdout",
     "output_type": "stream",
     "text": [
      "{'eval_loss': 2.028935194015503, 'eval_runtime': 16.1022, 'eval_samples_per_second': 1.677, 'eval_steps_per_second': 0.869, 'epoch': 5.0}\n"
     ]
    },
    {
     "name": "stderr",
     "output_type": "stream",
     "text": [
      "[INFO|configuration_utils.py:695] 2025-02-12 23:10:44,013 >> loading configuration file config.json from cache at /Users/jh/.cache/huggingface/hub/models--facebook--opt-350m/snapshots/08ab08cc4b72ff5593870b5d527cf4230323703c/config.json\n",
      "[INFO|configuration_utils.py:762] 2025-02-12 23:10:44,014 >> Model config OPTConfig {\n",
      "  \"_name_or_path\": \"opt-350m\",\n",
      "  \"_remove_final_layer_norm\": false,\n",
      "  \"activation_dropout\": 0.0,\n",
      "  \"activation_function\": \"relu\",\n",
      "  \"architectures\": [\n",
      "    \"OPTForCausalLM\"\n",
      "  ],\n",
      "  \"attention_dropout\": 0.0,\n",
      "  \"bos_token_id\": 2,\n",
      "  \"do_layer_norm_before\": false,\n",
      "  \"dropout\": 0.1,\n",
      "  \"enable_bias\": true,\n",
      "  \"eos_token_id\": 2,\n",
      "  \"ffn_dim\": 4096,\n",
      "  \"hidden_size\": 1024,\n",
      "  \"init_std\": 0.02,\n",
      "  \"layer_norm_elementwise_affine\": true,\n",
      "  \"layerdrop\": 0.0,\n",
      "  \"max_position_embeddings\": 2048,\n",
      "  \"model_type\": \"opt\",\n",
      "  \"num_attention_heads\": 16,\n",
      "  \"num_hidden_layers\": 24,\n",
      "  \"pad_token_id\": 1,\n",
      "  \"prefix\": \"</s>\",\n",
      "  \"torch_dtype\": \"float16\",\n",
      "  \"transformers_version\": \"4.47.1\",\n",
      "  \"use_cache\": true,\n",
      "  \"vocab_size\": 50272,\n",
      "  \"word_embed_proj_dim\": 512\n",
      "}\n",
      "\n",
      "[INFO|tokenization_utils_base.py:2485] 2025-02-12 23:10:44,310 >> tokenizer config file saved in /Users/jh/workspaces/notebook/voyage/homework/trained_model/fb_128/checkpoint-270/tokenizer_config.json\n",
      "[INFO|tokenization_utils_base.py:2494] 2025-02-12 23:10:44,311 >> Special tokens file saved in /Users/jh/workspaces/notebook/voyage/homework/trained_model/fb_128/checkpoint-270/special_tokens_map.json\n",
      "[INFO|trainer.py:4203] 2025-02-12 23:14:35,807 >> \n",
      "***** Running Evaluation *****\n",
      "[INFO|trainer.py:4205] 2025-02-12 23:14:35,812 >>   Num examples = 27\n",
      "[INFO|trainer.py:4208] 2025-02-12 23:14:35,812 >>   Batch size = 2\n"
     ]
    },
    {
     "data": {
      "application/vnd.jupyter.widget-view+json": {
       "model_id": "2d11c7791215424ab1284c254320b3b6",
       "version_major": 2,
       "version_minor": 0
      },
      "text/plain": [
       "  0%|          | 0/14 [00:00<?, ?it/s]"
      ]
     },
     "metadata": {},
     "output_type": "display_data"
    },
    {
     "name": "stderr",
     "output_type": "stream",
     "text": [
      "/Users/jh/workspaces/notebook/voyage/.venv/lib/python3.11/site-packages/trl/trainer/utils.py:139: UserWarning: Could not find response key `Answer:` in the following instance: </s>Human: This is a set of summary:\n",
      "The document discusses the challenges and considerations associated with seawater reverse osmosis (SWRO) membrane filtration systems, particularly focusing on fouling, which is the accumulation of various substances that negatively impact membrane performance. Key points include:\n",
      "\n",
      "1. **Fouling Issues**: Fouling is caused by precipitates, colloidal particles, bacteria, biofilm, and dissolved organic matter, leading to reduced permeate production and shorter membrane lifespan.\n",
      "\n",
      "2. **Membrane Lifespan**: SWRO membranes typically last 5-6 years, but fouling can significantly affect their longevity.\n",
      "\n",
      "3. **Cleaning Methods**: To address fouling, chemical and mechanical cleaning methods are employed, but these must be carefully managed to prevent further damage to the membranes.\n",
      "\n",
      "4. **Energy Consumption**: The specific energy consumption (SEC) for the SWRO process ranges from 2.3 to 3.0 kWh/m³, which is much higher than the theoretical energy requirement of 0.7 kWh/m³ for 100% recovery and 1.1 kWh/m³ for 50% recovery.\n",
      "\n",
      "5. **Cost Efficiency**: Cleaning the membranes every four years is suggested to result in the lowest energy consumption and cumulative costs over a 12-year period.\n",
      "\n",
      "Overall, the document highlights the complexities of operating SWRO systems, the impact of fouling, and the importance of balancing cleaning processes with energy efficiency and cost.\n",
      "The document presents a research report evaluating the effectiveness of cleaning-in-place (CIP) for membranes and the optimal replacement period for membranes in a seawater reverse osmosis (SWRO) plant in the Maldives. Key points include:\n",
      "\n",
      "1. **Fouling Impact**: Fouling reduces SWRO membrane performance, leading to increased differential pressure, decreased efficiency, and lower permeate quality.\n",
      "\n",
      "2. **Factors Influencing Membrane Lifespan**: The lifespan of RO membranes is affected by feed water quality, membrane flux (influenced by recovery percentage), and the extent of fouling/scaling.\n",
      "\n",
      "3. **CIP Practice**: CIP is a common method used to mitigate fouling in RO plants.\n",
      "\n",
      "4. **Financial Analysis**: The study compares the financial impacts of membrane replacement versus CIP on specific energy consumption (SEC) using operational data from January 2018 to January 2024.\n",
      "\n",
      "5. **Breakeven Analysis**: \n",
      "   - The breakeven point for replacing membranes every 4 years versus every 5 years is 5 years.\n",
      "   - The breakeven for 4-year replacement against a scenario with only CIP is 6.08 years.\n",
      "\n",
      "6. **Energy Consumption Improvement**: On average, SEC improves by 0.07 kWh/m³ after CIP.\n",
      "\n",
      "7. **Optimal Replacement Period**: Replacing membranes every 4 years results in the lowest energy consumption and cumulative costs over a 12-year period. \n",
      "\n",
      "Overall, the study suggests that regular membrane replacement is more cost-effective than relying solely on CIP in the long term.\n",
      "The document discusses the energy consumption associated with water treatment processes, specifically focusing on the specific energy consumption (SEC) of membrane-based systems. Key points include:\n",
      "\n",
      "1. **Energy Requirements**: The thermodynamic energy requirement for water recovery is 0.7 kWh/m³ for 100% recovery and 1.1 kWh/m³ for 50% recovery. A baseline test showed an SEC of 1.58 kWh/m³ at 42% recovery, which is higher than the theoretical values.\n",
      "\n",
      "2. **Current SEC Levels**: An internal audit at MWSC’s Hulhumalé site found SEC values ranging from 2.12 kWh/m³ to 2.92 kWh/m³, indicating higher energy consumption than ideal.\n",
      "\n",
      "3. **Impact of Membrane Fouling**: Membrane fouling significantly increases SEC by causing blockages that degrade performance, leading to higher energy demands and operating costs.\n",
      "\n",
      "4. **Cleaning Methods**: Various cleaning methods are employed to address fouling:\n",
      "   - Low pH cleaners (e.g., citric acid) target scale minerals and inorganic materials.\n",
      "   - High pH cleaners address organic fouling and biofouling.\n",
      "   - Stronger chemicals like hydrochloric acid may be used for severe scaling, but they risk damaging membranes.\n",
      "   - Biocides are used to prevent bacterial growth.\n",
      "   - Mechanical methods, such as reverse flow cleaning, effectively remove biological fouling and particulates.\n",
      "\n",
      "5. **Effective Cleaning Agents**: High pH cleaners, such as combinations of sodium tripolyphosphate and EDTA or sodium hydroxide and sodium dodecyl sulfate, are. This instance will be ignored in loss calculation. Note, if this happens often, consider increasing the `max_seq_length`.\n",
      "  warnings.warn(\n",
      "[INFO|trainer.py:3887] 2025-02-12 23:14:50,958 >> Saving model checkpoint to /Users/jh/workspaces/notebook/voyage/homework/trained_model/fb_128/checkpoint-324\n"
     ]
    },
    {
     "name": "stdout",
     "output_type": "stream",
     "text": [
      "{'eval_loss': 2.048032522201538, 'eval_runtime': 15.1488, 'eval_samples_per_second': 1.782, 'eval_steps_per_second': 0.924, 'epoch': 6.0}\n"
     ]
    },
    {
     "name": "stderr",
     "output_type": "stream",
     "text": [
      "[INFO|configuration_utils.py:695] 2025-02-12 23:14:51,447 >> loading configuration file config.json from cache at /Users/jh/.cache/huggingface/hub/models--facebook--opt-350m/snapshots/08ab08cc4b72ff5593870b5d527cf4230323703c/config.json\n",
      "[INFO|configuration_utils.py:762] 2025-02-12 23:14:51,450 >> Model config OPTConfig {\n",
      "  \"_name_or_path\": \"opt-350m\",\n",
      "  \"_remove_final_layer_norm\": false,\n",
      "  \"activation_dropout\": 0.0,\n",
      "  \"activation_function\": \"relu\",\n",
      "  \"architectures\": [\n",
      "    \"OPTForCausalLM\"\n",
      "  ],\n",
      "  \"attention_dropout\": 0.0,\n",
      "  \"bos_token_id\": 2,\n",
      "  \"do_layer_norm_before\": false,\n",
      "  \"dropout\": 0.1,\n",
      "  \"enable_bias\": true,\n",
      "  \"eos_token_id\": 2,\n",
      "  \"ffn_dim\": 4096,\n",
      "  \"hidden_size\": 1024,\n",
      "  \"init_std\": 0.02,\n",
      "  \"layer_norm_elementwise_affine\": true,\n",
      "  \"layerdrop\": 0.0,\n",
      "  \"max_position_embeddings\": 2048,\n",
      "  \"model_type\": \"opt\",\n",
      "  \"num_attention_heads\": 16,\n",
      "  \"num_hidden_layers\": 24,\n",
      "  \"pad_token_id\": 1,\n",
      "  \"prefix\": \"</s>\",\n",
      "  \"torch_dtype\": \"float16\",\n",
      "  \"transformers_version\": \"4.47.1\",\n",
      "  \"use_cache\": true,\n",
      "  \"vocab_size\": 50272,\n",
      "  \"word_embed_proj_dim\": 512\n",
      "}\n",
      "\n",
      "[INFO|tokenization_utils_base.py:2485] 2025-02-12 23:14:51,657 >> tokenizer config file saved in /Users/jh/workspaces/notebook/voyage/homework/trained_model/fb_128/checkpoint-324/tokenizer_config.json\n",
      "[INFO|tokenization_utils_base.py:2494] 2025-02-12 23:14:51,658 >> Special tokens file saved in /Users/jh/workspaces/notebook/voyage/homework/trained_model/fb_128/checkpoint-324/special_tokens_map.json\n",
      "[INFO|trainer.py:4203] 2025-02-12 23:47:35,564 >> \n",
      "***** Running Evaluation *****\n",
      "[INFO|trainer.py:4205] 2025-02-12 23:47:35,570 >>   Num examples = 27\n",
      "[INFO|trainer.py:4208] 2025-02-12 23:47:35,572 >>   Batch size = 2\n"
     ]
    },
    {
     "data": {
      "application/vnd.jupyter.widget-view+json": {
       "model_id": "26ca5b65d1244e00b6dd662bc7df27a9",
       "version_major": 2,
       "version_minor": 0
      },
      "text/plain": [
       "  0%|          | 0/14 [00:00<?, ?it/s]"
      ]
     },
     "metadata": {},
     "output_type": "display_data"
    },
    {
     "name": "stderr",
     "output_type": "stream",
     "text": [
      "/Users/jh/workspaces/notebook/voyage/.venv/lib/python3.11/site-packages/trl/trainer/utils.py:139: UserWarning: Could not find response key `Answer:` in the following instance: </s>Human: This is a set of summary:\n",
      "The document discusses the challenges and considerations associated with seawater reverse osmosis (SWRO) membrane filtration systems, particularly focusing on fouling, which is the accumulation of various substances that negatively impact membrane performance. Key points include:\n",
      "\n",
      "1. **Fouling Issues**: Fouling is caused by precipitates, colloidal particles, bacteria, biofilm, and dissolved organic matter, leading to reduced permeate production and shorter membrane lifespan.\n",
      "\n",
      "2. **Membrane Lifespan**: SWRO membranes typically last 5-6 years, but fouling can significantly affect their longevity.\n",
      "\n",
      "3. **Cleaning Methods**: To address fouling, chemical and mechanical cleaning methods are employed, but these must be carefully managed to prevent further damage to the membranes.\n",
      "\n",
      "4. **Energy Consumption**: The specific energy consumption (SEC) for the SWRO process ranges from 2.3 to 3.0 kWh/m³, which is much higher than the theoretical energy requirement of 0.7 kWh/m³ for 100% recovery and 1.1 kWh/m³ for 50% recovery.\n",
      "\n",
      "5. **Cost Efficiency**: Cleaning the membranes every four years is suggested to result in the lowest energy consumption and cumulative costs over a 12-year period.\n",
      "\n",
      "Overall, the document highlights the complexities of operating SWRO systems, the impact of fouling, and the importance of balancing cleaning processes with energy efficiency and cost.\n",
      "The document presents a research report evaluating the effectiveness of cleaning-in-place (CIP) for membranes and the optimal replacement period for membranes in a seawater reverse osmosis (SWRO) plant in the Maldives. Key points include:\n",
      "\n",
      "1. **Fouling Impact**: Fouling reduces SWRO membrane performance, leading to increased differential pressure, decreased efficiency, and lower permeate quality.\n",
      "\n",
      "2. **Factors Influencing Membrane Lifespan**: The lifespan of RO membranes is affected by feed water quality, membrane flux (influenced by recovery percentage), and the extent of fouling/scaling.\n",
      "\n",
      "3. **CIP Practice**: CIP is a common method used to mitigate fouling in RO plants.\n",
      "\n",
      "4. **Financial Analysis**: The study compares the financial impacts of membrane replacement versus CIP on specific energy consumption (SEC) using operational data from January 2018 to January 2024.\n",
      "\n",
      "5. **Breakeven Analysis**: \n",
      "   - The breakeven point for replacing membranes every 4 years versus every 5 years is 5 years.\n",
      "   - The breakeven for 4-year replacement against a scenario with only CIP is 6.08 years.\n",
      "\n",
      "6. **Energy Consumption Improvement**: On average, SEC improves by 0.07 kWh/m³ after CIP.\n",
      "\n",
      "7. **Optimal Replacement Period**: Replacing membranes every 4 years results in the lowest energy consumption and cumulative costs over a 12-year period. \n",
      "\n",
      "Overall, the study suggests that regular membrane replacement is more cost-effective than relying solely on CIP in the long term.\n",
      "The document discusses the energy consumption associated with water treatment processes, specifically focusing on the specific energy consumption (SEC) of membrane-based systems. Key points include:\n",
      "\n",
      "1. **Energy Requirements**: The thermodynamic energy requirement for water recovery is 0.7 kWh/m³ for 100% recovery and 1.1 kWh/m³ for 50% recovery. A baseline test showed an SEC of 1.58 kWh/m³ at 42% recovery, which is higher than the theoretical values.\n",
      "\n",
      "2. **Current SEC Levels**: An internal audit at MWSC’s Hulhumalé site found SEC values ranging from 2.12 kWh/m³ to 2.92 kWh/m³, indicating higher energy consumption than ideal.\n",
      "\n",
      "3. **Impact of Membrane Fouling**: Membrane fouling significantly increases SEC by causing blockages that degrade performance, leading to higher energy demands and operating costs.\n",
      "\n",
      "4. **Cleaning Methods**: Various cleaning methods are employed to address fouling:\n",
      "   - Low pH cleaners (e.g., citric acid) target scale minerals and inorganic materials.\n",
      "   - High pH cleaners address organic fouling and biofouling.\n",
      "   - Stronger chemicals like hydrochloric acid may be used for severe scaling, but they risk damaging membranes.\n",
      "   - Biocides are used to prevent bacterial growth.\n",
      "   - Mechanical methods, such as reverse flow cleaning, effectively remove biological fouling and particulates.\n",
      "\n",
      "5. **Effective Cleaning Agents**: High pH cleaners, such as combinations of sodium tripolyphosphate and EDTA or sodium hydroxide and sodium dodecyl sulfate, are. This instance will be ignored in loss calculation. Note, if this happens often, consider increasing the `max_seq_length`.\n",
      "  warnings.warn(\n",
      "[INFO|trainer.py:3887] 2025-02-12 23:47:50,645 >> Saving model checkpoint to /Users/jh/workspaces/notebook/voyage/homework/trained_model/fb_128/checkpoint-378\n"
     ]
    },
    {
     "name": "stdout",
     "output_type": "stream",
     "text": [
      "{'eval_loss': 2.0465855598449707, 'eval_runtime': 15.0775, 'eval_samples_per_second': 1.791, 'eval_steps_per_second': 0.929, 'epoch': 7.0}\n"
     ]
    },
    {
     "name": "stderr",
     "output_type": "stream",
     "text": [
      "/Users/jh/workspaces/notebook/voyage/.venv/lib/python3.11/site-packages/peft/utils/other.py:716: UserWarning: Unable to fetch remote file due to the following error (ProtocolError('Connection aborted.', RemoteDisconnected('Remote end closed connection without response')), '(Request ID: bddfb3f7-4511-48a5-8a2a-37246fa7b53f)') - silently ignoring the lookup for the file config.json in facebook/opt-350m.\n",
      "  warnings.warn(\n",
      "/Users/jh/workspaces/notebook/voyage/.venv/lib/python3.11/site-packages/peft/utils/save_and_load.py:246: UserWarning: Could not find a config file in facebook/opt-350m - will assume that the vocabulary was not modified.\n",
      "  warnings.warn(\n",
      "[INFO|tokenization_utils_base.py:2485] 2025-02-12 23:47:50,956 >> tokenizer config file saved in /Users/jh/workspaces/notebook/voyage/homework/trained_model/fb_128/checkpoint-378/tokenizer_config.json\n",
      "[INFO|tokenization_utils_base.py:2494] 2025-02-12 23:47:50,957 >> Special tokens file saved in /Users/jh/workspaces/notebook/voyage/homework/trained_model/fb_128/checkpoint-378/special_tokens_map.json\n",
      "[INFO|trainer.py:4203] 2025-02-12 23:51:35,194 >> \n",
      "***** Running Evaluation *****\n",
      "[INFO|trainer.py:4205] 2025-02-12 23:51:35,198 >>   Num examples = 27\n",
      "[INFO|trainer.py:4208] 2025-02-12 23:51:35,199 >>   Batch size = 2\n"
     ]
    },
    {
     "data": {
      "application/vnd.jupyter.widget-view+json": {
       "model_id": "8d7c4e18ab8a4d6b88db28d245052680",
       "version_major": 2,
       "version_minor": 0
      },
      "text/plain": [
       "  0%|          | 0/14 [00:00<?, ?it/s]"
      ]
     },
     "metadata": {},
     "output_type": "display_data"
    },
    {
     "name": "stderr",
     "output_type": "stream",
     "text": [
      "/Users/jh/workspaces/notebook/voyage/.venv/lib/python3.11/site-packages/trl/trainer/utils.py:139: UserWarning: Could not find response key `Answer:` in the following instance: </s>Human: This is a set of summary:\n",
      "The document discusses the challenges and considerations associated with seawater reverse osmosis (SWRO) membrane filtration systems, particularly focusing on fouling, which is the accumulation of various substances that negatively impact membrane performance. Key points include:\n",
      "\n",
      "1. **Fouling Issues**: Fouling is caused by precipitates, colloidal particles, bacteria, biofilm, and dissolved organic matter, leading to reduced permeate production and shorter membrane lifespan.\n",
      "\n",
      "2. **Membrane Lifespan**: SWRO membranes typically last 5-6 years, but fouling can significantly affect their longevity.\n",
      "\n",
      "3. **Cleaning Methods**: To address fouling, chemical and mechanical cleaning methods are employed, but these must be carefully managed to prevent further damage to the membranes.\n",
      "\n",
      "4. **Energy Consumption**: The specific energy consumption (SEC) for the SWRO process ranges from 2.3 to 3.0 kWh/m³, which is much higher than the theoretical energy requirement of 0.7 kWh/m³ for 100% recovery and 1.1 kWh/m³ for 50% recovery.\n",
      "\n",
      "5. **Cost Efficiency**: Cleaning the membranes every four years is suggested to result in the lowest energy consumption and cumulative costs over a 12-year period.\n",
      "\n",
      "Overall, the document highlights the complexities of operating SWRO systems, the impact of fouling, and the importance of balancing cleaning processes with energy efficiency and cost.\n",
      "The document presents a research report evaluating the effectiveness of cleaning-in-place (CIP) for membranes and the optimal replacement period for membranes in a seawater reverse osmosis (SWRO) plant in the Maldives. Key points include:\n",
      "\n",
      "1. **Fouling Impact**: Fouling reduces SWRO membrane performance, leading to increased differential pressure, decreased efficiency, and lower permeate quality.\n",
      "\n",
      "2. **Factors Influencing Membrane Lifespan**: The lifespan of RO membranes is affected by feed water quality, membrane flux (influenced by recovery percentage), and the extent of fouling/scaling.\n",
      "\n",
      "3. **CIP Practice**: CIP is a common method used to mitigate fouling in RO plants.\n",
      "\n",
      "4. **Financial Analysis**: The study compares the financial impacts of membrane replacement versus CIP on specific energy consumption (SEC) using operational data from January 2018 to January 2024.\n",
      "\n",
      "5. **Breakeven Analysis**: \n",
      "   - The breakeven point for replacing membranes every 4 years versus every 5 years is 5 years.\n",
      "   - The breakeven for 4-year replacement against a scenario with only CIP is 6.08 years.\n",
      "\n",
      "6. **Energy Consumption Improvement**: On average, SEC improves by 0.07 kWh/m³ after CIP.\n",
      "\n",
      "7. **Optimal Replacement Period**: Replacing membranes every 4 years results in the lowest energy consumption and cumulative costs over a 12-year period. \n",
      "\n",
      "Overall, the study suggests that regular membrane replacement is more cost-effective than relying solely on CIP in the long term.\n",
      "The document discusses the energy consumption associated with water treatment processes, specifically focusing on the specific energy consumption (SEC) of membrane-based systems. Key points include:\n",
      "\n",
      "1. **Energy Requirements**: The thermodynamic energy requirement for water recovery is 0.7 kWh/m³ for 100% recovery and 1.1 kWh/m³ for 50% recovery. A baseline test showed an SEC of 1.58 kWh/m³ at 42% recovery, which is higher than the theoretical values.\n",
      "\n",
      "2. **Current SEC Levels**: An internal audit at MWSC’s Hulhumalé site found SEC values ranging from 2.12 kWh/m³ to 2.92 kWh/m³, indicating higher energy consumption than ideal.\n",
      "\n",
      "3. **Impact of Membrane Fouling**: Membrane fouling significantly increases SEC by causing blockages that degrade performance, leading to higher energy demands and operating costs.\n",
      "\n",
      "4. **Cleaning Methods**: Various cleaning methods are employed to address fouling:\n",
      "   - Low pH cleaners (e.g., citric acid) target scale minerals and inorganic materials.\n",
      "   - High pH cleaners address organic fouling and biofouling.\n",
      "   - Stronger chemicals like hydrochloric acid may be used for severe scaling, but they risk damaging membranes.\n",
      "   - Biocides are used to prevent bacterial growth.\n",
      "   - Mechanical methods, such as reverse flow cleaning, effectively remove biological fouling and particulates.\n",
      "\n",
      "5. **Effective Cleaning Agents**: High pH cleaners, such as combinations of sodium tripolyphosphate and EDTA or sodium hydroxide and sodium dodecyl sulfate, are. This instance will be ignored in loss calculation. Note, if this happens often, consider increasing the `max_seq_length`.\n",
      "  warnings.warn(\n",
      "[INFO|trainer.py:3887] 2025-02-12 23:51:50,928 >> Saving model checkpoint to /Users/jh/workspaces/notebook/voyage/homework/trained_model/fb_128/checkpoint-432\n"
     ]
    },
    {
     "name": "stdout",
     "output_type": "stream",
     "text": [
      "{'eval_loss': 2.053529977798462, 'eval_runtime': 15.732, 'eval_samples_per_second': 1.716, 'eval_steps_per_second': 0.89, 'epoch': 8.0}\n"
     ]
    },
    {
     "name": "stderr",
     "output_type": "stream",
     "text": [
      "[INFO|configuration_utils.py:695] 2025-02-12 23:51:51,502 >> loading configuration file config.json from cache at /Users/jh/.cache/huggingface/hub/models--facebook--opt-350m/snapshots/08ab08cc4b72ff5593870b5d527cf4230323703c/config.json\n",
      "[INFO|configuration_utils.py:762] 2025-02-12 23:51:51,504 >> Model config OPTConfig {\n",
      "  \"_name_or_path\": \"opt-350m\",\n",
      "  \"_remove_final_layer_norm\": false,\n",
      "  \"activation_dropout\": 0.0,\n",
      "  \"activation_function\": \"relu\",\n",
      "  \"architectures\": [\n",
      "    \"OPTForCausalLM\"\n",
      "  ],\n",
      "  \"attention_dropout\": 0.0,\n",
      "  \"bos_token_id\": 2,\n",
      "  \"do_layer_norm_before\": false,\n",
      "  \"dropout\": 0.1,\n",
      "  \"enable_bias\": true,\n",
      "  \"eos_token_id\": 2,\n",
      "  \"ffn_dim\": 4096,\n",
      "  \"hidden_size\": 1024,\n",
      "  \"init_std\": 0.02,\n",
      "  \"layer_norm_elementwise_affine\": true,\n",
      "  \"layerdrop\": 0.0,\n",
      "  \"max_position_embeddings\": 2048,\n",
      "  \"model_type\": \"opt\",\n",
      "  \"num_attention_heads\": 16,\n",
      "  \"num_hidden_layers\": 24,\n",
      "  \"pad_token_id\": 1,\n",
      "  \"prefix\": \"</s>\",\n",
      "  \"torch_dtype\": \"float16\",\n",
      "  \"transformers_version\": \"4.47.1\",\n",
      "  \"use_cache\": true,\n",
      "  \"vocab_size\": 50272,\n",
      "  \"word_embed_proj_dim\": 512\n",
      "}\n",
      "\n",
      "[INFO|tokenization_utils_base.py:2485] 2025-02-12 23:51:51,765 >> tokenizer config file saved in /Users/jh/workspaces/notebook/voyage/homework/trained_model/fb_128/checkpoint-432/tokenizer_config.json\n",
      "[INFO|tokenization_utils_base.py:2494] 2025-02-12 23:51:51,766 >> Special tokens file saved in /Users/jh/workspaces/notebook/voyage/homework/trained_model/fb_128/checkpoint-432/special_tokens_map.json\n",
      "[INFO|trainer.py:4203] 2025-02-12 23:55:24,982 >> \n",
      "***** Running Evaluation *****\n",
      "[INFO|trainer.py:4205] 2025-02-12 23:55:24,986 >>   Num examples = 27\n",
      "[INFO|trainer.py:4208] 2025-02-12 23:55:24,987 >>   Batch size = 2\n"
     ]
    },
    {
     "data": {
      "application/vnd.jupyter.widget-view+json": {
       "model_id": "d23758c79ca14a85be4cc5c39e38bf9b",
       "version_major": 2,
       "version_minor": 0
      },
      "text/plain": [
       "  0%|          | 0/14 [00:00<?, ?it/s]"
      ]
     },
     "metadata": {},
     "output_type": "display_data"
    },
    {
     "name": "stderr",
     "output_type": "stream",
     "text": [
      "/Users/jh/workspaces/notebook/voyage/.venv/lib/python3.11/site-packages/trl/trainer/utils.py:139: UserWarning: Could not find response key `Answer:` in the following instance: </s>Human: This is a set of summary:\n",
      "The document discusses the challenges and considerations associated with seawater reverse osmosis (SWRO) membrane filtration systems, particularly focusing on fouling, which is the accumulation of various substances that negatively impact membrane performance. Key points include:\n",
      "\n",
      "1. **Fouling Issues**: Fouling is caused by precipitates, colloidal particles, bacteria, biofilm, and dissolved organic matter, leading to reduced permeate production and shorter membrane lifespan.\n",
      "\n",
      "2. **Membrane Lifespan**: SWRO membranes typically last 5-6 years, but fouling can significantly affect their longevity.\n",
      "\n",
      "3. **Cleaning Methods**: To address fouling, chemical and mechanical cleaning methods are employed, but these must be carefully managed to prevent further damage to the membranes.\n",
      "\n",
      "4. **Energy Consumption**: The specific energy consumption (SEC) for the SWRO process ranges from 2.3 to 3.0 kWh/m³, which is much higher than the theoretical energy requirement of 0.7 kWh/m³ for 100% recovery and 1.1 kWh/m³ for 50% recovery.\n",
      "\n",
      "5. **Cost Efficiency**: Cleaning the membranes every four years is suggested to result in the lowest energy consumption and cumulative costs over a 12-year period.\n",
      "\n",
      "Overall, the document highlights the complexities of operating SWRO systems, the impact of fouling, and the importance of balancing cleaning processes with energy efficiency and cost.\n",
      "The document presents a research report evaluating the effectiveness of cleaning-in-place (CIP) for membranes and the optimal replacement period for membranes in a seawater reverse osmosis (SWRO) plant in the Maldives. Key points include:\n",
      "\n",
      "1. **Fouling Impact**: Fouling reduces SWRO membrane performance, leading to increased differential pressure, decreased efficiency, and lower permeate quality.\n",
      "\n",
      "2. **Factors Influencing Membrane Lifespan**: The lifespan of RO membranes is affected by feed water quality, membrane flux (influenced by recovery percentage), and the extent of fouling/scaling.\n",
      "\n",
      "3. **CIP Practice**: CIP is a common method used to mitigate fouling in RO plants.\n",
      "\n",
      "4. **Financial Analysis**: The study compares the financial impacts of membrane replacement versus CIP on specific energy consumption (SEC) using operational data from January 2018 to January 2024.\n",
      "\n",
      "5. **Breakeven Analysis**: \n",
      "   - The breakeven point for replacing membranes every 4 years versus every 5 years is 5 years.\n",
      "   - The breakeven for 4-year replacement against a scenario with only CIP is 6.08 years.\n",
      "\n",
      "6. **Energy Consumption Improvement**: On average, SEC improves by 0.07 kWh/m³ after CIP.\n",
      "\n",
      "7. **Optimal Replacement Period**: Replacing membranes every 4 years results in the lowest energy consumption and cumulative costs over a 12-year period. \n",
      "\n",
      "Overall, the study suggests that regular membrane replacement is more cost-effective than relying solely on CIP in the long term.\n",
      "The document discusses the energy consumption associated with water treatment processes, specifically focusing on the specific energy consumption (SEC) of membrane-based systems. Key points include:\n",
      "\n",
      "1. **Energy Requirements**: The thermodynamic energy requirement for water recovery is 0.7 kWh/m³ for 100% recovery and 1.1 kWh/m³ for 50% recovery. A baseline test showed an SEC of 1.58 kWh/m³ at 42% recovery, which is higher than the theoretical values.\n",
      "\n",
      "2. **Current SEC Levels**: An internal audit at MWSC’s Hulhumalé site found SEC values ranging from 2.12 kWh/m³ to 2.92 kWh/m³, indicating higher energy consumption than ideal.\n",
      "\n",
      "3. **Impact of Membrane Fouling**: Membrane fouling significantly increases SEC by causing blockages that degrade performance, leading to higher energy demands and operating costs.\n",
      "\n",
      "4. **Cleaning Methods**: Various cleaning methods are employed to address fouling:\n",
      "   - Low pH cleaners (e.g., citric acid) target scale minerals and inorganic materials.\n",
      "   - High pH cleaners address organic fouling and biofouling.\n",
      "   - Stronger chemicals like hydrochloric acid may be used for severe scaling, but they risk damaging membranes.\n",
      "   - Biocides are used to prevent bacterial growth.\n",
      "   - Mechanical methods, such as reverse flow cleaning, effectively remove biological fouling and particulates.\n",
      "\n",
      "5. **Effective Cleaning Agents**: High pH cleaners, such as combinations of sodium tripolyphosphate and EDTA or sodium hydroxide and sodium dodecyl sulfate, are. This instance will be ignored in loss calculation. Note, if this happens often, consider increasing the `max_seq_length`.\n",
      "  warnings.warn(\n",
      "[INFO|trainer.py:3887] 2025-02-12 23:55:40,817 >> Saving model checkpoint to /Users/jh/workspaces/notebook/voyage/homework/trained_model/fb_128/checkpoint-486\n"
     ]
    },
    {
     "name": "stdout",
     "output_type": "stream",
     "text": [
      "{'eval_loss': 2.065682888031006, 'eval_runtime': 15.8323, 'eval_samples_per_second': 1.705, 'eval_steps_per_second': 0.884, 'epoch': 9.0}\n"
     ]
    },
    {
     "name": "stderr",
     "output_type": "stream",
     "text": [
      "[INFO|configuration_utils.py:695] 2025-02-12 23:55:41,314 >> loading configuration file config.json from cache at /Users/jh/.cache/huggingface/hub/models--facebook--opt-350m/snapshots/08ab08cc4b72ff5593870b5d527cf4230323703c/config.json\n",
      "[INFO|configuration_utils.py:762] 2025-02-12 23:55:41,315 >> Model config OPTConfig {\n",
      "  \"_name_or_path\": \"opt-350m\",\n",
      "  \"_remove_final_layer_norm\": false,\n",
      "  \"activation_dropout\": 0.0,\n",
      "  \"activation_function\": \"relu\",\n",
      "  \"architectures\": [\n",
      "    \"OPTForCausalLM\"\n",
      "  ],\n",
      "  \"attention_dropout\": 0.0,\n",
      "  \"bos_token_id\": 2,\n",
      "  \"do_layer_norm_before\": false,\n",
      "  \"dropout\": 0.1,\n",
      "  \"enable_bias\": true,\n",
      "  \"eos_token_id\": 2,\n",
      "  \"ffn_dim\": 4096,\n",
      "  \"hidden_size\": 1024,\n",
      "  \"init_std\": 0.02,\n",
      "  \"layer_norm_elementwise_affine\": true,\n",
      "  \"layerdrop\": 0.0,\n",
      "  \"max_position_embeddings\": 2048,\n",
      "  \"model_type\": \"opt\",\n",
      "  \"num_attention_heads\": 16,\n",
      "  \"num_hidden_layers\": 24,\n",
      "  \"pad_token_id\": 1,\n",
      "  \"prefix\": \"</s>\",\n",
      "  \"torch_dtype\": \"float16\",\n",
      "  \"transformers_version\": \"4.47.1\",\n",
      "  \"use_cache\": true,\n",
      "  \"vocab_size\": 50272,\n",
      "  \"word_embed_proj_dim\": 512\n",
      "}\n",
      "\n",
      "[INFO|tokenization_utils_base.py:2485] 2025-02-12 23:55:41,656 >> tokenizer config file saved in /Users/jh/workspaces/notebook/voyage/homework/trained_model/fb_128/checkpoint-486/tokenizer_config.json\n",
      "[INFO|tokenization_utils_base.py:2494] 2025-02-12 23:55:41,657 >> Special tokens file saved in /Users/jh/workspaces/notebook/voyage/homework/trained_model/fb_128/checkpoint-486/special_tokens_map.json\n"
     ]
    },
    {
     "name": "stdout",
     "output_type": "stream",
     "text": [
      "{'loss': 1.7025, 'grad_norm': 1.4993876218795776, 'learning_rate': 7.4074074074074075e-06, 'epoch': 9.26}\n"
     ]
    },
    {
     "name": "stderr",
     "output_type": "stream",
     "text": [
      "[INFO|trainer.py:3887] 2025-02-12 23:59:30,019 >> Saving model checkpoint to /Users/jh/workspaces/notebook/voyage/homework/trained_model/fb_128/checkpoint-540\n",
      "[INFO|configuration_utils.py:695] 2025-02-12 23:59:30,526 >> loading configuration file config.json from cache at /Users/jh/.cache/huggingface/hub/models--facebook--opt-350m/snapshots/08ab08cc4b72ff5593870b5d527cf4230323703c/config.json\n",
      "[INFO|configuration_utils.py:762] 2025-02-12 23:59:30,529 >> Model config OPTConfig {\n",
      "  \"_name_or_path\": \"opt-350m\",\n",
      "  \"_remove_final_layer_norm\": false,\n",
      "  \"activation_dropout\": 0.0,\n",
      "  \"activation_function\": \"relu\",\n",
      "  \"architectures\": [\n",
      "    \"OPTForCausalLM\"\n",
      "  ],\n",
      "  \"attention_dropout\": 0.0,\n",
      "  \"bos_token_id\": 2,\n",
      "  \"do_layer_norm_before\": false,\n",
      "  \"dropout\": 0.1,\n",
      "  \"enable_bias\": true,\n",
      "  \"eos_token_id\": 2,\n",
      "  \"ffn_dim\": 4096,\n",
      "  \"hidden_size\": 1024,\n",
      "  \"init_std\": 0.02,\n",
      "  \"layer_norm_elementwise_affine\": true,\n",
      "  \"layerdrop\": 0.0,\n",
      "  \"max_position_embeddings\": 2048,\n",
      "  \"model_type\": \"opt\",\n",
      "  \"num_attention_heads\": 16,\n",
      "  \"num_hidden_layers\": 24,\n",
      "  \"pad_token_id\": 1,\n",
      "  \"prefix\": \"</s>\",\n",
      "  \"torch_dtype\": \"float16\",\n",
      "  \"transformers_version\": \"4.47.1\",\n",
      "  \"use_cache\": true,\n",
      "  \"vocab_size\": 50272,\n",
      "  \"word_embed_proj_dim\": 512\n",
      "}\n",
      "\n",
      "[INFO|tokenization_utils_base.py:2485] 2025-02-12 23:59:30,779 >> tokenizer config file saved in /Users/jh/workspaces/notebook/voyage/homework/trained_model/fb_128/checkpoint-540/tokenizer_config.json\n",
      "[INFO|tokenization_utils_base.py:2494] 2025-02-12 23:59:30,781 >> Special tokens file saved in /Users/jh/workspaces/notebook/voyage/homework/trained_model/fb_128/checkpoint-540/special_tokens_map.json\n",
      "[INFO|trainer.py:4203] 2025-02-12 23:59:32,008 >> \n",
      "***** Running Evaluation *****\n",
      "[INFO|trainer.py:4205] 2025-02-12 23:59:32,009 >>   Num examples = 27\n",
      "[INFO|trainer.py:4208] 2025-02-12 23:59:32,009 >>   Batch size = 2\n"
     ]
    },
    {
     "data": {
      "application/vnd.jupyter.widget-view+json": {
       "model_id": "f949843c4b7043d4b8e83bf2dc174a48",
       "version_major": 2,
       "version_minor": 0
      },
      "text/plain": [
       "  0%|          | 0/14 [00:00<?, ?it/s]"
      ]
     },
     "metadata": {},
     "output_type": "display_data"
    },
    {
     "name": "stderr",
     "output_type": "stream",
     "text": [
      "/Users/jh/workspaces/notebook/voyage/.venv/lib/python3.11/site-packages/trl/trainer/utils.py:139: UserWarning: Could not find response key `Answer:` in the following instance: </s>Human: This is a set of summary:\n",
      "The document discusses the challenges and considerations associated with seawater reverse osmosis (SWRO) membrane filtration systems, particularly focusing on fouling, which is the accumulation of various substances that negatively impact membrane performance. Key points include:\n",
      "\n",
      "1. **Fouling Issues**: Fouling is caused by precipitates, colloidal particles, bacteria, biofilm, and dissolved organic matter, leading to reduced permeate production and shorter membrane lifespan.\n",
      "\n",
      "2. **Membrane Lifespan**: SWRO membranes typically last 5-6 years, but fouling can significantly affect their longevity.\n",
      "\n",
      "3. **Cleaning Methods**: To address fouling, chemical and mechanical cleaning methods are employed, but these must be carefully managed to prevent further damage to the membranes.\n",
      "\n",
      "4. **Energy Consumption**: The specific energy consumption (SEC) for the SWRO process ranges from 2.3 to 3.0 kWh/m³, which is much higher than the theoretical energy requirement of 0.7 kWh/m³ for 100% recovery and 1.1 kWh/m³ for 50% recovery.\n",
      "\n",
      "5. **Cost Efficiency**: Cleaning the membranes every four years is suggested to result in the lowest energy consumption and cumulative costs over a 12-year period.\n",
      "\n",
      "Overall, the document highlights the complexities of operating SWRO systems, the impact of fouling, and the importance of balancing cleaning processes with energy efficiency and cost.\n",
      "The document presents a research report evaluating the effectiveness of cleaning-in-place (CIP) for membranes and the optimal replacement period for membranes in a seawater reverse osmosis (SWRO) plant in the Maldives. Key points include:\n",
      "\n",
      "1. **Fouling Impact**: Fouling reduces SWRO membrane performance, leading to increased differential pressure, decreased efficiency, and lower permeate quality.\n",
      "\n",
      "2. **Factors Influencing Membrane Lifespan**: The lifespan of RO membranes is affected by feed water quality, membrane flux (influenced by recovery percentage), and the extent of fouling/scaling.\n",
      "\n",
      "3. **CIP Practice**: CIP is a common method used to mitigate fouling in RO plants.\n",
      "\n",
      "4. **Financial Analysis**: The study compares the financial impacts of membrane replacement versus CIP on specific energy consumption (SEC) using operational data from January 2018 to January 2024.\n",
      "\n",
      "5. **Breakeven Analysis**: \n",
      "   - The breakeven point for replacing membranes every 4 years versus every 5 years is 5 years.\n",
      "   - The breakeven for 4-year replacement against a scenario with only CIP is 6.08 years.\n",
      "\n",
      "6. **Energy Consumption Improvement**: On average, SEC improves by 0.07 kWh/m³ after CIP.\n",
      "\n",
      "7. **Optimal Replacement Period**: Replacing membranes every 4 years results in the lowest energy consumption and cumulative costs over a 12-year period. \n",
      "\n",
      "Overall, the study suggests that regular membrane replacement is more cost-effective than relying solely on CIP in the long term.\n",
      "The document discusses the energy consumption associated with water treatment processes, specifically focusing on the specific energy consumption (SEC) of membrane-based systems. Key points include:\n",
      "\n",
      "1. **Energy Requirements**: The thermodynamic energy requirement for water recovery is 0.7 kWh/m³ for 100% recovery and 1.1 kWh/m³ for 50% recovery. A baseline test showed an SEC of 1.58 kWh/m³ at 42% recovery, which is higher than the theoretical values.\n",
      "\n",
      "2. **Current SEC Levels**: An internal audit at MWSC’s Hulhumalé site found SEC values ranging from 2.12 kWh/m³ to 2.92 kWh/m³, indicating higher energy consumption than ideal.\n",
      "\n",
      "3. **Impact of Membrane Fouling**: Membrane fouling significantly increases SEC by causing blockages that degrade performance, leading to higher energy demands and operating costs.\n",
      "\n",
      "4. **Cleaning Methods**: Various cleaning methods are employed to address fouling:\n",
      "   - Low pH cleaners (e.g., citric acid) target scale minerals and inorganic materials.\n",
      "   - High pH cleaners address organic fouling and biofouling.\n",
      "   - Stronger chemicals like hydrochloric acid may be used for severe scaling, but they risk damaging membranes.\n",
      "   - Biocides are used to prevent bacterial growth.\n",
      "   - Mechanical methods, such as reverse flow cleaning, effectively remove biological fouling and particulates.\n",
      "\n",
      "5. **Effective Cleaning Agents**: High pH cleaners, such as combinations of sodium tripolyphosphate and EDTA or sodium hydroxide and sodium dodecyl sulfate, are. This instance will be ignored in loss calculation. Note, if this happens often, consider increasing the `max_seq_length`.\n",
      "  warnings.warn(\n",
      "[INFO|trainer.py:3887] 2025-02-12 23:59:47,232 >> Saving model checkpoint to /Users/jh/workspaces/notebook/voyage/homework/trained_model/fb_128/checkpoint-540\n"
     ]
    },
    {
     "name": "stdout",
     "output_type": "stream",
     "text": [
      "{'eval_loss': 2.066840171813965, 'eval_runtime': 15.2219, 'eval_samples_per_second': 1.774, 'eval_steps_per_second': 0.92, 'epoch': 10.0}\n"
     ]
    },
    {
     "name": "stderr",
     "output_type": "stream",
     "text": [
      "[INFO|configuration_utils.py:695] 2025-02-12 23:59:47,767 >> loading configuration file config.json from cache at /Users/jh/.cache/huggingface/hub/models--facebook--opt-350m/snapshots/08ab08cc4b72ff5593870b5d527cf4230323703c/config.json\n",
      "[INFO|configuration_utils.py:762] 2025-02-12 23:59:47,769 >> Model config OPTConfig {\n",
      "  \"_name_or_path\": \"opt-350m\",\n",
      "  \"_remove_final_layer_norm\": false,\n",
      "  \"activation_dropout\": 0.0,\n",
      "  \"activation_function\": \"relu\",\n",
      "  \"architectures\": [\n",
      "    \"OPTForCausalLM\"\n",
      "  ],\n",
      "  \"attention_dropout\": 0.0,\n",
      "  \"bos_token_id\": 2,\n",
      "  \"do_layer_norm_before\": false,\n",
      "  \"dropout\": 0.1,\n",
      "  \"enable_bias\": true,\n",
      "  \"eos_token_id\": 2,\n",
      "  \"ffn_dim\": 4096,\n",
      "  \"hidden_size\": 1024,\n",
      "  \"init_std\": 0.02,\n",
      "  \"layer_norm_elementwise_affine\": true,\n",
      "  \"layerdrop\": 0.0,\n",
      "  \"max_position_embeddings\": 2048,\n",
      "  \"model_type\": \"opt\",\n",
      "  \"num_attention_heads\": 16,\n",
      "  \"num_hidden_layers\": 24,\n",
      "  \"pad_token_id\": 1,\n",
      "  \"prefix\": \"</s>\",\n",
      "  \"torch_dtype\": \"float16\",\n",
      "  \"transformers_version\": \"4.47.1\",\n",
      "  \"use_cache\": true,\n",
      "  \"vocab_size\": 50272,\n",
      "  \"word_embed_proj_dim\": 512\n",
      "}\n",
      "\n",
      "[INFO|tokenization_utils_base.py:2485] 2025-02-12 23:59:48,098 >> tokenizer config file saved in /Users/jh/workspaces/notebook/voyage/homework/trained_model/fb_128/checkpoint-540/tokenizer_config.json\n",
      "[INFO|tokenization_utils_base.py:2494] 2025-02-12 23:59:48,099 >> Special tokens file saved in /Users/jh/workspaces/notebook/voyage/homework/trained_model/fb_128/checkpoint-540/special_tokens_map.json\n",
      "[INFO|trainer.py:2636] 2025-02-12 23:59:49,412 >> \n",
      "\n",
      "Training completed. Do not forget to share your model on huggingface.co/models =)\n",
      "\n",
      "\n",
      "[INFO|trainer.py:2874] 2025-02-12 23:59:49,412 >> Loading best model from /Users/jh/workspaces/notebook/voyage/homework/trained_model/fb_128/checkpoint-270 (score: 2.028935194015503).\n",
      "[INFO|trainer.py:3887] 2025-02-12 23:59:50,042 >> Saving model checkpoint to /Users/jh/workspaces/notebook/voyage/homework/trained_model/fb_128\n"
     ]
    },
    {
     "name": "stdout",
     "output_type": "stream",
     "text": [
      "{'train_runtime': 4116.3677, 'train_samples_per_second': 0.262, 'train_steps_per_second': 0.131, 'train_loss': 1.6799877025462964, 'epoch': 10.0}\n"
     ]
    },
    {
     "name": "stderr",
     "output_type": "stream",
     "text": [
      "[INFO|configuration_utils.py:695] 2025-02-12 23:59:50,464 >> loading configuration file config.json from cache at /Users/jh/.cache/huggingface/hub/models--facebook--opt-350m/snapshots/08ab08cc4b72ff5593870b5d527cf4230323703c/config.json\n",
      "[INFO|configuration_utils.py:762] 2025-02-12 23:59:50,467 >> Model config OPTConfig {\n",
      "  \"_name_or_path\": \"opt-350m\",\n",
      "  \"_remove_final_layer_norm\": false,\n",
      "  \"activation_dropout\": 0.0,\n",
      "  \"activation_function\": \"relu\",\n",
      "  \"architectures\": [\n",
      "    \"OPTForCausalLM\"\n",
      "  ],\n",
      "  \"attention_dropout\": 0.0,\n",
      "  \"bos_token_id\": 2,\n",
      "  \"do_layer_norm_before\": false,\n",
      "  \"dropout\": 0.1,\n",
      "  \"enable_bias\": true,\n",
      "  \"eos_token_id\": 2,\n",
      "  \"ffn_dim\": 4096,\n",
      "  \"hidden_size\": 1024,\n",
      "  \"init_std\": 0.02,\n",
      "  \"layer_norm_elementwise_affine\": true,\n",
      "  \"layerdrop\": 0.0,\n",
      "  \"max_position_embeddings\": 2048,\n",
      "  \"model_type\": \"opt\",\n",
      "  \"num_attention_heads\": 16,\n",
      "  \"num_hidden_layers\": 24,\n",
      "  \"pad_token_id\": 1,\n",
      "  \"prefix\": \"</s>\",\n",
      "  \"torch_dtype\": \"float16\",\n",
      "  \"transformers_version\": \"4.47.1\",\n",
      "  \"use_cache\": true,\n",
      "  \"vocab_size\": 50272,\n",
      "  \"word_embed_proj_dim\": 512\n",
      "}\n",
      "\n",
      "[INFO|tokenization_utils_base.py:2485] 2025-02-12 23:59:50,683 >> tokenizer config file saved in /Users/jh/workspaces/notebook/voyage/homework/trained_model/fb_128/tokenizer_config.json\n",
      "[INFO|tokenization_utils_base.py:2494] 2025-02-12 23:59:50,683 >> Special tokens file saved in /Users/jh/workspaces/notebook/voyage/homework/trained_model/fb_128/special_tokens_map.json\n"
     ]
    },
    {
     "name": "stdout",
     "output_type": "stream",
     "text": [
      "***** train metrics *****\n",
      "  epoch                    =       10.0\n",
      "  total_flos               =  1908417GF\n",
      "  train_loss               =       1.68\n",
      "  train_runtime            = 1:08:36.36\n",
      "  train_samples_per_second =      0.262\n",
      "  train_steps_per_second   =      0.131\n"
     ]
    }
   ],
   "source": [
    "trainer = SFTTrainer(\n",
    "    model,\n",
    "    train_dataset=ds_train,\n",
    "    args=training_args,\n",
    "    formatting_func=formatting_prompts_func,\n",
    "    data_collator=collator,\n",
    "    eval_dataset=ds_test\n",
    ")\n",
    "#trainer.train()\n",
    "\n",
    "checkpoint = None\n",
    "last_checkpoint = get_last_checkpoint(training_args.output_dir)  # 만약 output_dir에 checkpoint가 남아있으면 이를 사용하고, 없으면 None이 return됩니다.\n",
    "if training_args.resume_from_checkpoint is not None:  # output_dir이 아닌 다른 위치에서의 checkpoint를 resume_from_checkpoint로 지정할 수 있습니다.\n",
    "    checkpoint = training_args.resume_from_checkpoint\n",
    "else:  # 아니면 last_checkpoint로 checkpoint를 지정합니다.\n",
    "    checkpoint = last_checkpoint\n",
    "\n",
    "train_result = trainer.train()\n",
    "\n",
    "trainer.save_model()\n",
    "\n",
    "metrics = train_result.metrics\n",
    "trainer.log_metrics(\"train\", metrics)\n",
    "trainer.save_metrics(\"train\", metrics)\n",
    "trainer.save_state()"
   ]
  },
  {
   "cell_type": "code",
   "execution_count": null,
   "metadata": {},
   "outputs": [],
   "source": []
  }
 ],
 "metadata": {
  "kernelspec": {
   "display_name": ".venv",
   "language": "python",
   "name": "python3"
  },
  "language_info": {
   "codemirror_mode": {
    "name": "ipython",
    "version": 3
   },
   "file_extension": ".py",
   "mimetype": "text/x-python",
   "name": "python",
   "nbconvert_exporter": "python",
   "pygments_lexer": "ipython3",
   "version": "3.11.9"
  }
 },
 "nbformat": 4,
 "nbformat_minor": 2
}
