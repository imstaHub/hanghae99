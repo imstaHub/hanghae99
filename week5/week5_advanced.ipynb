{
 "cells": [
  {
   "cell_type": "markdown",
   "metadata": {},
   "source": [
    "## Week5 Advanced Homework"
   ]
  },
  {
   "cell_type": "code",
   "execution_count": 4,
   "metadata": {},
   "outputs": [],
   "source": [
    "#!pip install langchain-community langchain-openai langgraph"
   ]
  },
  {
   "cell_type": "code",
   "execution_count": 1,
   "metadata": {},
   "outputs": [],
   "source": [
    "from langchain_openai import ChatOpenAI\n",
    "from langchain.prompts import PromptTemplate\n",
    "from langchain.chains import LLMChain\n",
    "\n",
    "\n",
    "from langchain.text_splitter import CharacterTextSplitter\n",
    "#from langchain_text_splitters import RecursiveCharacterTextSplitter\n",
    "\n",
    "from langchain.document_loaders import PyPDFLoader\n",
    "#from langchain.document_loaders import UnstructuredFileLoader"
   ]
  },
  {
   "cell_type": "code",
   "execution_count": 2,
   "metadata": {},
   "outputs": [],
   "source": [
    "import os\n",
    "from dotenv import load_dotenv\n",
    "\n",
    "load_dotenv()\n",
    "api_key = os.getenv('OPENAI_API_KEY')"
   ]
  },
  {
   "cell_type": "markdown",
   "metadata": {},
   "source": [
    "## [MY CODE] 논문 로드"
   ]
  },
  {
   "cell_type": "code",
   "execution_count": 5,
   "metadata": {},
   "outputs": [
    {
     "name": "stdout",
     "output_type": "stream",
     "text": [
      "논문 페이지 수: 19\n"
     ]
    }
   ],
   "source": [
    "loader = PyPDFLoader(\n",
    "    file_path= 'RAG_paper.pdf',\n",
    ")\n",
    "docs = loader.load()\n",
    "print('논문 페이지 수:', len(docs))"
   ]
  },
  {
   "cell_type": "code",
   "execution_count": 6,
   "metadata": {},
   "outputs": [
    {
     "data": {
      "text/plain": [
       "Document(metadata={'source': 'RAG_paper.pdf', 'page': 0}, page_content='Retrieval-Augmented Generation for\\nKnowledge-Intensive NLP Tasks\\nPatrick Lewis†‡, Ethan Perez⋆,\\nAleksandra Piktus†, Fabio Petroni†, Vladimir Karpukhin†, Naman Goyal†, Heinrich Küttler†,\\nMike Lewis†, Wen-tau Yih†, Tim Rocktäschel†‡, Sebastian Riedel†‡, Douwe Kiela†\\n†Facebook AI Research; ‡University College London; ⋆New York University;\\nplewis@fb.com\\nAbstract\\nLarge pre-trained language models have been shown to store factual knowledge\\nin their parameters, and achieve state-of-the-art results when ﬁne-tuned on down-\\nstream NLP tasks. However, their ability to access and precisely manipulate knowl-\\nedge is still limited, and hence on knowledge-intensive tasks, their performance\\nlags behind task-speciﬁc architectures. Additionally, providing provenance for their\\ndecisions and updating their world knowledge remain open research problems. Pre-\\ntrained models with a differentiable access mechanism to explicit non-parametric\\nmemory have so far been only investigated for extractive downstream tasks. We\\nexplore a general-purpose ﬁne-tuning recipe for retrieval-augmented generation\\n(RAG) — models which combine pre-trained parametric and non-parametric mem-\\nory for language generation. We introduce RAG models where the parametric\\nmemory is a pre-trained seq2seq model and the non-parametric memory is a dense\\nvector index of Wikipedia, accessed with a pre-trained neural retriever. We com-\\npare two RAG formulations, one which conditions on the same retrieved passages\\nacross the whole generated sequence, and another which can use different passages\\nper token. We ﬁne-tune and evaluate our models on a wide range of knowledge-\\nintensive NLP tasks and set the state of the art on three open domain QA tasks,\\noutperforming parametric seq2seq models and task-speciﬁc retrieve-and-extract\\narchitectures. For language generation tasks, we ﬁnd that RAG models generate\\nmore speciﬁc, diverse and factual language than a state-of-the-art parametric-only\\nseq2seq baseline.\\n1 Introduction\\nPre-trained neural language models have been shown to learn a substantial amount of in-depth knowl-\\nedge from data [47]. They can do so without any access to an external memory, as a parameterized\\nimplicit knowledge base [51, 52]. While this development is exciting, such models do have down-\\nsides: They cannot easily expand or revise their memory, can’t straightforwardly provide insight into\\ntheir predictions, and may produce “hallucinations” [38]. Hybrid models that combine parametric\\nmemory with non-parametric (i.e., retrieval-based) memories [20, 26, 48] can address some of these\\nissues because knowledge can be directly revised and expanded, and accessed knowledge can be\\ninspected and interpreted. REALM [ 20] and ORQA [ 31], two recently introduced models that\\ncombine masked language models [8] with a differentiable retriever, have shown promising results,\\narXiv:2005.11401v4  [cs.CL]  12 Apr 2021')"
      ]
     },
     "execution_count": 6,
     "metadata": {},
     "output_type": "execute_result"
    }
   ],
   "source": [
    "docs[0]"
   ]
  },
  {
   "cell_type": "code",
   "execution_count": 7,
   "metadata": {},
   "outputs": [
    {
     "name": "stdout",
     "output_type": "stream",
     "text": [
      "분할 수: 19\n"
     ]
    }
   ],
   "source": [
    "text_splitter = CharacterTextSplitter.from_tiktoken_encoder(\n",
    "    separator=\"\\n\",  \n",
    "    chunk_size=3000, \n",
    "    chunk_overlap=500,\n",
    ")\n",
    "\n",
    "split_docs = text_splitter.split_documents(docs)\n",
    "\n",
    "print('분할 수:', len(split_docs))"
   ]
  },
  {
   "cell_type": "code",
   "execution_count": 8,
   "metadata": {},
   "outputs": [
    {
     "data": {
      "text/plain": [
       "Document(metadata={'source': 'RAG_paper.pdf', 'page': 0}, page_content='Retrieval-Augmented Generation for\\nKnowledge-Intensive NLP Tasks\\nPatrick Lewis†‡, Ethan Perez⋆,\\nAleksandra Piktus†, Fabio Petroni†, Vladimir Karpukhin†, Naman Goyal†, Heinrich Küttler†,\\nMike Lewis†, Wen-tau Yih†, Tim Rocktäschel†‡, Sebastian Riedel†‡, Douwe Kiela†\\n†Facebook AI Research; ‡University College London; ⋆New York University;\\nplewis@fb.com\\nAbstract\\nLarge pre-trained language models have been shown to store factual knowledge\\nin their parameters, and achieve state-of-the-art results when ﬁne-tuned on down-\\nstream NLP tasks. However, their ability to access and precisely manipulate knowl-\\nedge is still limited, and hence on knowledge-intensive tasks, their performance\\nlags behind task-speciﬁc architectures. Additionally, providing provenance for their\\ndecisions and updating their world knowledge remain open research problems. Pre-\\ntrained models with a differentiable access mechanism to explicit non-parametric\\nmemory have so far been only investigated for extractive downstream tasks. We\\nexplore a general-purpose ﬁne-tuning recipe for retrieval-augmented generation\\n(RAG) — models which combine pre-trained parametric and non-parametric mem-\\nory for language generation. We introduce RAG models where the parametric\\nmemory is a pre-trained seq2seq model and the non-parametric memory is a dense\\nvector index of Wikipedia, accessed with a pre-trained neural retriever. We com-\\npare two RAG formulations, one which conditions on the same retrieved passages\\nacross the whole generated sequence, and another which can use different passages\\nper token. We ﬁne-tune and evaluate our models on a wide range of knowledge-\\nintensive NLP tasks and set the state of the art on three open domain QA tasks,\\noutperforming parametric seq2seq models and task-speciﬁc retrieve-and-extract\\narchitectures. For language generation tasks, we ﬁnd that RAG models generate\\nmore speciﬁc, diverse and factual language than a state-of-the-art parametric-only\\nseq2seq baseline.\\n1 Introduction\\nPre-trained neural language models have been shown to learn a substantial amount of in-depth knowl-\\nedge from data [47]. They can do so without any access to an external memory, as a parameterized\\nimplicit knowledge base [51, 52]. While this development is exciting, such models do have down-\\nsides: They cannot easily expand or revise their memory, can’t straightforwardly provide insight into\\ntheir predictions, and may produce “hallucinations” [38]. Hybrid models that combine parametric\\nmemory with non-parametric (i.e., retrieval-based) memories [20, 26, 48] can address some of these\\nissues because knowledge can be directly revised and expanded, and accessed knowledge can be\\ninspected and interpreted. REALM [ 20] and ORQA [ 31], two recently introduced models that\\ncombine masked language models [8] with a differentiable retriever, have shown promising results,\\narXiv:2005.11401v4  [cs.CL]  12 Apr 2021')"
      ]
     },
     "execution_count": 8,
     "metadata": {},
     "output_type": "execute_result"
    }
   ],
   "source": [
    "split_docs[0]"
   ]
  },
  {
   "cell_type": "markdown",
   "metadata": {},
   "source": [
    "## [LOG] page별로 문서를 로드하고 split"
   ]
  },
  {
   "cell_type": "markdown",
   "metadata": {},
   "source": [
    "## [MY CODE] MapReduce로 논문 요약 구현 (old version - LLMChain)"
   ]
  },
  {
   "cell_type": "code",
   "execution_count": null,
   "metadata": {},
   "outputs": [
    {
     "name": "stderr",
     "output_type": "stream",
     "text": [
      "/var/folders/gj/86sxmqd95yd0hskfrsflrx480000gp/T/ipykernel_95985/4193787190.py:18: LangChainDeprecationWarning: The class `LLMChain` was deprecated in LangChain 0.1.17 and will be removed in 1.0. Use :meth:`~RunnableSequence, e.g., `prompt | llm`` instead.\n",
      "  map_chain = LLMChain(llm=llm, prompt=map_prompt)\n"
     ]
    }
   ],
   "source": [
    "# Map에 사용할 prompt template\n",
    "map_template = \"\"\"다음은 문서 중 일부 내용입니다\n",
    "{pages}\n",
    "이 문서 목록을 기반으로 주요 내용을 요약해 주세요.\n",
    "답변: \"\"\"\n",
    "\n",
    "# Map 프롬프트\n",
    "map_prompt = PromptTemplate.from_template(map_template)\n",
    "\n",
    "# Map에서 수행할 LLMChain 정의\n",
    "llm = ChatOpenAI(temperature=0, \n",
    "                 model_name='gpt-4o-mini',\n",
    "                 api_key=api_key)\n",
    "map_chain = LLMChain(llm=llm, prompt=map_prompt)"
   ]
  },
  {
   "cell_type": "code",
   "execution_count": 7,
   "metadata": {},
   "outputs": [],
   "source": [
    "# Reduce에 사용할 prompt template\n",
    "reduce_template = \"\"\"다음은 요약의 집합입니다:\n",
    "{doc_summaries}\n",
    "이것으로 통합된 요약을 만들어 주세요.\n",
    "답변: \"\"\"\n",
    "\n",
    "# Reduce 프롬프트\n",
    "reduce_prompt = PromptTemplate.from_template(reduce_template)\n",
    "\n",
    "# Reduce에서 수행할 LLMChain 정의\n",
    "reduce_chain = LLMChain(llm=llm, prompt=reduce_prompt)"
   ]
  },
  {
   "cell_type": "code",
   "execution_count": 8,
   "metadata": {},
   "outputs": [
    {
     "name": "stderr",
     "output_type": "stream",
     "text": [
      "/var/folders/gj/86sxmqd95yd0hskfrsflrx480000gp/T/ipykernel_95985/4154098370.py:5: LangChainDeprecationWarning: This class is deprecated. Use the `create_stuff_documents_chain` constructor instead. See migration guide here: https://python.langchain.com/docs/versions/migrating_chains/stuff_docs_chain/\n",
      "  combine_documents_chain = StuffDocumentsChain(\n",
      "/var/folders/gj/86sxmqd95yd0hskfrsflrx480000gp/T/ipykernel_95985/4154098370.py:11: LangChainDeprecationWarning: This class is deprecated. Please see the migration guide here for a recommended replacement: https://python.langchain.com/docs/versions/migrating_chains/map_reduce_chain/\n",
      "  reduce_documents_chain = ReduceDocumentsChain(\n"
     ]
    }
   ],
   "source": [
    "from langchain.chains.combine_documents.stuff import StuffDocumentsChain\n",
    "from langchain.chains import ReduceDocumentsChain\n",
    "\n",
    "# 문서의 목록을 받아들여, 이를 단일 문자열로 결합하고, 이를 LLMChain에 전달\n",
    "combine_documents_chain = StuffDocumentsChain(\n",
    "    llm_chain=reduce_chain,                \n",
    "    document_variable_name=\"doc_summaries\"\n",
    ")\n",
    "\n",
    "# Map 문서를 통합하고 순차적으로 Reduce합니다.\n",
    "reduce_documents_chain = ReduceDocumentsChain(\n",
    "    combine_documents_chain=combine_documents_chain,    # 호출되는 최종 체인입니다.\n",
    "    collapse_documents_chain=combine_documents_chain,   # 문서가 `StuffDocumentsChain`의 컨텍스트를 초과하는 경우\n",
    "    token_max=4000,                                     # 문서를 그룹화할 때의 토큰 최대 개수입니다.\n",
    ")"
   ]
  },
  {
   "cell_type": "code",
   "execution_count": 9,
   "metadata": {},
   "outputs": [
    {
     "name": "stderr",
     "output_type": "stream",
     "text": [
      "/var/folders/gj/86sxmqd95yd0hskfrsflrx480000gp/T/ipykernel_95985/2103415951.py:4: LangChainDeprecationWarning: This class is deprecated. Please see the migration guide here for a recommended replacement: https://python.langchain.com/docs/versions/migrating_chains/map_reduce_chain/\n",
      "  map_reduce_chain = MapReduceDocumentsChain(\n"
     ]
    }
   ],
   "source": [
    "from langchain.chains import MapReduceDocumentsChain\n",
    "\n",
    "# 문서들에 체인을 매핑하여 결합하고, 그 다음 결과들을 결합합니다.\n",
    "map_reduce_chain = MapReduceDocumentsChain(\n",
    "    llm_chain=map_chain,\n",
    "    reduce_documents_chain=reduce_documents_chain,\n",
    "    document_variable_name=\"pages\",\n",
    "    return_intermediate_steps=False,\n",
    ")"
   ]
  },
  {
   "cell_type": "code",
   "execution_count": 10,
   "metadata": {},
   "outputs": [
    {
     "name": "stderr",
     "output_type": "stream",
     "text": [
      "/var/folders/gj/86sxmqd95yd0hskfrsflrx480000gp/T/ipykernel_95985/3595548341.py:3: LangChainDeprecationWarning: The method `Chain.run` was deprecated in langchain 0.1.0 and will be removed in 1.0. Use :meth:`~invoke` instead.\n",
      "  result = map_reduce_chain.run(split_docs)\n"
     ]
    }
   ],
   "source": [
    "# Map-Reduce chain\n",
    "result = map_reduce_chain.run(split_docs)"
   ]
  },
  {
   "cell_type": "code",
   "execution_count": 11,
   "metadata": {},
   "outputs": [
    {
     "name": "stdout",
     "output_type": "stream",
     "text": [
      "이 문서는 Retrieval-Augmented Generation (RAG) 모델에 대한 포괄적인 연구를 다루고 있으며, 이 모델은 사전 훈련된 검색기와 시퀀스-투-시퀀스(seq2seq) 생성 모델을 결합하여 지식 집약적인 자연어 처리(NLP) 작업을 수행하는 데 중점을 두고 있습니다. 주요 내용은 다음과 같습니다:\n",
      "\n",
      "1. **모델 구조 및 하이브리드 메모리**: RAG 모델은 입력 쿼리에 대해 관련 문서를 검색하는 검색기와 검색된 문서를 기반으로 텍스트를 생성하는 생성기로 구성됩니다. 이 모델은 파라메트릭 메모리(사전 훈련된 seq2seq 모델)와 비파라메트릭 메모리(밀집 벡터 인덱스)를 결합하여 외부 지식 소스에 접근할 수 있도록 합니다.\n",
      "\n",
      "2. **성능 평가**: RAG 모델은 Natural Questions, WebQuestions, CuratedTrec와 같은 데이터셋에서 최첨단 성능을 달성하였으며, Jeopardy 질문 생성 및 FEVER 사실 검증 작업에서도 우수한 결과를 보였습니다. RAG는 BART 모델과 비교하여 더 사실적이고 구체적인 응답을 생성하는 경향이 있습니다.\n",
      "\n",
      "3. **디코딩 방법**: RAG 모델은 RAG-Sequence와 RAG-Token 두 가지 방식으로 디코딩을 수행합니다. RAG-Sequence는 동일한 검색된 문서를 사용하여 전체 시퀀스를 생성하는 반면, RAG-Token은 각 타겟 토큰에 대해 다른 문서를 선택할 수 있습니다.\n",
      "\n",
      "4. **지식 업데이트**: 비파라메트릭 메모리는 세계의 변화에 따라 모델의 지식을 업데이트하는 데 사용될 수 있으며, 이는 RAG 모델의 유연성을 높입니다.\n",
      "\n",
      "5. **구현 세부사항 및 훈련 설정**: RAG 모델은 Open-domain QA에서 15개 또는 50개의 문서를 사용하여 테스트되며, Fairseq를 통해 훈련됩니다. 훈련 과정에서 8개의 32GB NVIDIA V100 GPU를 활용하며, 코드가 HuggingFace Transformers로 포팅되어 오픈 소스로 제공됩니다.\n",
      "\n",
      "6. **인간 평가 및 데이터셋**: 사용자 인터페이스를 통해 평가자들이 주제를 조사하도록 권장하며, 다양한 데이터셋의 훈련, 개발, 테스트 인스턴스 수가 정리되어 있습니다. RAG-Sequence 모델은 44.5의 EM 점수를 기록하여 하이브리드 모델의 강력한 성능을 보여줍니다.\n",
      "\n",
      "7. **검색 기능의 문제**: 초기 실험에서 일부 작업에서 검색 구성 요소가 \"붕괴\"되어 입력에 관계없이 동일한 문서를 검색하는 경향이 나타났으며, 이는 특정 작업에서 사실적 지식의 요구가 덜 명확할 수 있음을 시사합니다.\n",
      "\n",
      "이 연구는 RAG 모델이 정보 검색과 생성 작업에서 어떻게 효과적으로 작동하는지를 보여주며, 파라메트릭 및 비파라메트릭 메모리의 결합이 모델의 성능을 향상시키는 데 기여함을 강조합니다. RAG 모델은 다양한 NLP 작업에서 강력한 성능을 달성할 수 있는 가능성을 제시합니다.\n"
     ]
    }
   ],
   "source": [
    "# 요약결과 출력\n",
    "print(result)"
   ]
  },
  {
   "cell_type": "markdown",
   "metadata": {},
   "source": [
    "## [LOG] 순서를 매겨서 잘 요약하였음"
   ]
  },
  {
   "cell_type": "markdown",
   "metadata": {},
   "source": [
    "## [MY CODE] MapReduce 방법으로 논문 요약 (new version - Runnable)"
   ]
  },
  {
   "cell_type": "code",
   "execution_count": 8,
   "metadata": {},
   "outputs": [],
   "source": [
    "from langchain_core.output_parsers import StrOutputParser\n",
    "from langchain_core.prompts import ChatPromptTemplate"
   ]
  },
  {
   "cell_type": "code",
   "execution_count": 9,
   "metadata": {},
   "outputs": [],
   "source": [
    "# get llm\n",
    "llm = ChatOpenAI(temperature=0, \n",
    "                 model_name='gpt-4o-mini',\n",
    "                 api_key=api_key)"
   ]
  },
  {
   "cell_type": "code",
   "execution_count": 10,
   "metadata": {},
   "outputs": [],
   "source": [
    "# Map에 사용할 prompt template\n",
    "map_template = \"\"\"다음은 문서 중 일부 내용입니다\n",
    "{pages}\n",
    "이 문서 목록을 기반으로 주요 내용을 요약해 주세요.\n",
    "답변:\"\"\"\n",
    "\n",
    "# Map 프롬프트\n",
    "map_prompt = ChatPromptTemplate([(\"human\", map_template)])\n",
    "\n",
    "# Runnable 형식 사용\n",
    "map_chain = map_prompt | llm | StrOutputParser()"
   ]
  },
  {
   "cell_type": "code",
   "execution_count": 11,
   "metadata": {},
   "outputs": [],
   "source": [
    "# Reduce에 사용할 prompt template\n",
    "reduce_template = \"\"\"다음은 요약의 집합입니다:\n",
    "{doc_summaries}\n",
    "이것으로 통합된 요약을 만들어 주세요.\n",
    "답변:\"\"\"\n",
    "\n",
    "# Reduce 프롬프트\n",
    "reduce_prompt = ChatPromptTemplate([(\"human\", reduce_template)])\n",
    "\n",
    "# Runnable 형식 사용\n",
    "reduce_chain = reduce_prompt | llm | StrOutputParser()"
   ]
  },
  {
   "cell_type": "code",
   "execution_count": 12,
   "metadata": {},
   "outputs": [],
   "source": [
    "import operator\n",
    "from typing import Annotated, List, TypedDict\n",
    "\n",
    "from langgraph.constants import Send\n",
    "from langgraph.graph import END, START, StateGraph\n",
    "\n",
    "class OverallState(TypedDict):\n",
    "    # Notice here we use the operator.add\n",
    "    # This is because we want combine all the summaries we generate\n",
    "    # from individual nodes back into one list - this is essentially\n",
    "    # the \"reduce\" part\n",
    "    contents: List[str]\n",
    "    summaries: Annotated[list, operator.add]\n",
    "    final_summary: str\n",
    "\n",
    "\n",
    "# This will be the state of the node that we will \"map\" all\n",
    "# documents to in order to generate summaries\n",
    "class SummaryState(TypedDict):\n",
    "    content: str\n",
    "\n",
    "\n",
    "# Here we generate a summary, given a document\n",
    "async def generate_summary(state: SummaryState):\n",
    "    response = await map_chain.ainvoke(state[\"content\"])\n",
    "    return {\"summaries\": [response]}\n",
    "\n",
    "\n",
    "# Here we define the logic to map out over the documents\n",
    "# We will use this an edge in the graph\n",
    "def map_summaries(state: OverallState):\n",
    "    # We will return a list of `Send` objects\n",
    "    # Each `Send` object consists of the name of a node in the graph\n",
    "    # as well as the state to send to that node\n",
    "    return [\n",
    "        Send(\"generate_summary\", {\"content\": content}) for content in state[\"contents\"]\n",
    "    ]\n",
    "\n",
    "\n",
    "# Here we will generate the final summary\n",
    "async def generate_final_summary(state: OverallState):\n",
    "    response = await reduce_chain.ainvoke(state[\"summaries\"])\n",
    "    return {\"final_summary\": response}"
   ]
  },
  {
   "cell_type": "code",
   "execution_count": 20,
   "metadata": {},
   "outputs": [],
   "source": [
    "# Construct the graph: here we put everything together to construct our graph\n",
    "graph = StateGraph(OverallState)\n",
    "graph.add_node(\"generate_summary\", generate_summary)\n",
    "graph.add_node(\"generate_final_summary\", generate_final_summary)\n",
    "graph.add_conditional_edges(START, map_summaries, [\"generate_summary\"])\n",
    "graph.add_edge(\"generate_summary\", \"generate_final_summary\")\n",
    "graph.add_edge(\"generate_final_summary\", END)\n",
    "app = graph.compile()"
   ]
  },
  {
   "cell_type": "code",
   "execution_count": 21,
   "metadata": {},
   "outputs": [
    {
     "data": {
      "image/png": "[encoded data removed]",
      "text/plain": [
       "<IPython.core.display.Image object>"
      ]
     },
     "execution_count": 21,
     "metadata": {},
     "output_type": "execute_result"
    }
   ],
   "source": [
    "from IPython.display import Image\n",
    "\n",
    "Image(app.get_graph().draw_mermaid_png())"
   ]
  },
  {
   "cell_type": "code",
   "execution_count": 22,
   "metadata": {},
   "outputs": [
    {
     "name": "stdout",
     "output_type": "stream",
     "text": [
      "['generate_summary']\n",
      "['generate_summary']\n",
      "['generate_summary']\n",
      "['generate_summary']\n",
      "['generate_summary']\n",
      "['generate_summary']\n",
      "['generate_summary']\n",
      "['generate_summary']\n",
      "['generate_summary']\n",
      "['generate_summary']\n",
      "['generate_summary']\n",
      "['generate_summary']\n",
      "['generate_summary']\n",
      "['generate_summary']\n",
      "['generate_summary']\n",
      "['generate_summary']\n",
      "['generate_summary']\n",
      "['generate_summary']\n",
      "['generate_summary']\n",
      "['generate_final_summary']\n"
     ]
    }
   ],
   "source": [
    "rsts = []\n",
    "# split_docs 순서 대로 요약 시작\n",
    "async for step in app.astream({\"contents\": [doc.page_content for doc in split_docs]}):\n",
    "    rsts.append(step)\n",
    "    print(list(step.keys()))"
   ]
  },
  {
   "cell_type": "code",
   "execution_count": 23,
   "metadata": {},
   "outputs": [
    {
     "name": "stdout",
     "output_type": "stream",
     "text": [
      "이 문서는 Retrieval-Augmented Generation (RAG) 모델에 대한 연구를 다루고 있으며, RAG 모델은 정보 검색과 텍스트 생성을 결합하여 지식 집약적인 자연어 처리(NLP) 작업에서 우수한 성능을 발휘하는 방법을 제안합니다. 주요 내용은 다음과 같습니다:\n",
      "\n",
      "1. **모델 구조**: RAG 모델은 두 가지 주요 구성 요소로 이루어져 있습니다. 첫째, 입력 쿼리에 대해 관련 문서를 검색하는 검색기(DPR)와 둘째, 검색된 문서와 입력을 기반으로 텍스트를 생성하는 생성기(BART)입니다. RAG-Sequence와 RAG-Token 두 가지 형식이 있으며, 각각의 방식으로 문서를 처리합니다.\n",
      "\n",
      "2. **하이브리드 메모리**: RAG는 파라메트릭 메모리(사전 훈련된 seq2seq 모델)와 비파라메트릭 메모리(밀집 벡터 인덱스)를 결합하여 외부 지식 소스에 접근할 수 있는 능력을 강화합니다. 이를 통해 모델은 지식을 효과적으로 활용하고 업데이트할 수 있습니다.\n",
      "\n",
      "3. **성능 평가**: RAG 모델은 Natural Questions, WebQuestions, TriviaQA, MSMARCO 등 다양한 공개 데이터셋에서 최첨단 성능을 달성하였으며, Jeopardy 질문 생성 및 FEVER 사실 검증 작업에서도 우수한 결과를 보였습니다. RAG는 기존의 파라메트릭 모델과 비교하여 더 사실적이고 구체적인 응답을 생성하는 경향이 있습니다.\n",
      "\n",
      "4. **훈련 및 디코딩 방법**: RAG 모델은 SGD와 Adam 옵티마이저를 사용하여 훈련되며, 검색기와 생성기를 공동으로 최적화합니다. 디코딩 방법에서는 RAG-Token과 RAG-Sequence가 서로 다른 방식으로 결과를 생성하여 성능을 극대화합니다.\n",
      "\n",
      "5. **사회적 영향 및 위험**: RAG 모델은 Wikipedia와 같은 사실 기반 지식을 활용하여 정보의 정확성을 높이는 데 기여할 수 있지만, 외부 지식 출처의 편향과 허위 정보 생성 등의 잠재적 위험도 존재합니다. 이러한 위험을 완화하기 위한 방안도 논의됩니다.\n",
      "\n",
      "이 연구는 RAG 모델이 지식 집약적인 NLP 작업에서 어떻게 효과적으로 작동하는지를 보여주며, 파라메트릭 및 비파라메트릭 메모리의 결합이 NLP 작업에 미치는 긍정적인 영향을 강조합니다. RAG 모델은 다양한 NLP 작업에서의 활용 가능성을 제시하며, 향후 연구 방향에 대한 통찰을 제공합니다.\n"
     ]
    }
   ],
   "source": [
    "# 마지막 전체 요약\n",
    "print(step['generate_final_summary']['final_summary'])"
   ]
  },
  {
   "cell_type": "markdown",
   "metadata": {},
   "source": [
    "## [LOG] 속도와 요약내용 비교\n",
    "- old version보다 속도는 빨랐음 (3분 54초 vs 26초)\n",
    "- 요약 내용에 대해서는 old version이 더 자세하게 나옴"
   ]
  },
  {
   "cell_type": "code",
   "execution_count": 26,
   "metadata": {},
   "outputs": [
    {
     "data": {
      "text/plain": [
       "20"
      ]
     },
     "execution_count": 26,
     "metadata": {},
     "output_type": "execute_result"
    }
   ],
   "source": [
    "# split_docs (19) + final_summary (1)\n",
    "len(rsts)"
   ]
  },
  {
   "cell_type": "code",
   "execution_count": 31,
   "metadata": {},
   "outputs": [
    {
     "name": "stdout",
     "output_type": "stream",
     "text": [
      "이 문서 목록은 자연어 처리(NLP) 및 인공지능(AI) 분야의 다양한 연구 결과를 포함하고 있습니다. 주요 내용을 요약하면 다음과 같습니다:\n",
      "\n",
      "1. **독해 및 질문 응답**:\n",
      "   - Christopher Clark와 Matt Gardner의 연구는 다단락 독해 이해를 위한 간단하고 효과적인 방법을 제안합니다.\n",
      "   - Matthew Dunn 외의 연구는 SearchQA라는 새로운 질문 응답 데이터셋을 소개하며, 검색 엔진의 맥락을 활용합니다.\n",
      "   - Angela Fan 외의 ELI5 연구는 긴 형식의 질문 응답을 다룹니다.\n",
      "\n",
      "2. **언어 모델 및 변환기**:\n",
      "   - Jacob Devlin 외의 BERT 연구는 심층 양방향 변환기를 통한 언어 이해의 사전 훈련 방법을 제시합니다.\n",
      "   - Angela Fan 외의 연구는 KNN 기반의 복합 메모리로 변환기를 보강하는 방법을 탐구합니다.\n",
      "\n",
      "3. **대화형 AI**:\n",
      "   - Emily Dinan 외의 연구는 지식 기반 대화형 에이전트를 위한 \"위자드 오브 위키피디아\" 모델을 제안합니다.\n",
      "   - Marjan Ghazvininejad 외의 연구는 지식 기반 신경 대화 모델을 개발합니다.\n",
      "\n",
      "4. **기계 번역**:\n",
      "   - Jiatao Gu 외의 연구는 검색 엔진을 활용한 신경 기계 번역 방법을 제안합니다.\n",
      "\n",
      "5. **AI 성능 예측**:\n",
      "   - Katja Grace 외의 연구는 AI가 인간 성능을 초과할 시점을 예측하기 위한 전문가 의견을 수집합니다.\n",
      "\n",
      "이 문서들은 NLP와 AI의 최신 동향을 반영하며, 다양한 기술적 접근과 응용 사례를 통해 이 분야의 발전을 보여줍니다.\n"
     ]
    }
   ],
   "source": [
    "# 첫 splits 요약 예시\n",
    "print(rsts[0]['generate_summary']['summaries'][0])"
   ]
  },
  {
   "cell_type": "markdown",
   "metadata": {},
   "source": [
    "## [LOG] 문서 및 글 참조\n",
    "\n",
    "- https://python.langchain.com/docs/versions/migrating_chains/map_reduce_chain/\n",
    "- https://teddylee777.github.io/langchain/langchain-tutorial-07/"
   ]
  },
  {
   "cell_type": "markdown",
   "metadata": {},
   "source": []
  }
 ],
 "metadata": {
  "kernelspec": {
   "display_name": ".venv",
   "language": "python",
   "name": "python3"
  },
  "language_info": {
   "codemirror_mode": {
    "name": "ipython",
    "version": 3
   },
   "file_extension": ".py",
   "mimetype": "text/x-python",
   "name": "python",
   "nbconvert_exporter": "python",
   "pygments_lexer": "ipython3",
   "version": "3.11.9"
  }
 },
 "nbformat": 4,
 "nbformat_minor": 2
}
